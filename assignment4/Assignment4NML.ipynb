{
  "cells": [
    {
      "cell_type": "markdown",
      "metadata": {
        "id": "view-in-github",
        "colab_type": "text"
      },
      "source": [
        "<a href=\"https://colab.research.google.com/github/deschena/networks_ml_epfl/blob/main/assignment4/Assignment4NML.ipynb\" target=\"_parent\"><img src=\"https://colab.research.google.com/assets/colab-badge.svg\" alt=\"Open In Colab\"/></a>"
      ]
    },
    {
      "cell_type": "markdown",
      "metadata": {
        "id": "AMlo30vQDnic"
      },
      "source": [
        "# Assignment 4: Graph Neural Networks\n",
        "\n",
        "Contact: [Abdellah RAHMANI](mailto:abdellah.rahmani@epfl.ch) [Jinhan LIU](mailto:jinhan.liu@epfl.ch)\n",
        "\n",
        "## Rules\n",
        "\n",
        "> ⚠️ **Read carefully before starting**\n",
        "\n",
        "**Deadline:** May 16th\n",
        "\n",
        "**Grading:**\n",
        "* The integrality of Assignment 4 will be scaled to 100% and will amount to 25% of the overall assignments score.\n",
        "* The total number of points is **40**, the points for each exercise are stated in the instructions.\n",
        "* All team members will receive the same grade based on the team solution.\n",
        "* Collaboration between team members is encouraged. No collaboration between teams is allowed.\n",
        "\n",
        "**Expected output:**\n",
        "\n",
        "You will have coding and theoretical questions. Coding exercises shall be solved within the specified space:\n",
        "```python\n",
        "# Your solution here ###########################################################\n",
        "...\n",
        "#^^^^^^^^^^^^^^^^^^^^^^^^^^^^^^^^^^^^^^^^^^^^^^^^^^^^^^^^^^^^^^^^^^^^^^^^^^^^^^^\n",
        "```\n",
        "Anything outside shall not be touched, except if otherwise stated.\n",
        "\n",
        "Theoretical questions shall be answered in the following markdown cell. The first line will be \n",
        "> **Your answer here:**\n",
        "\n",
        "**Submission:**\n",
        "* Your submission is self-contained in the `.ipynb` file.\n",
        "\n",
        "* Code has to be clean and readable. Provide meaningful variable names and comment where needed.\n",
        "\n",
        "* Textual answers in [markdown cells][md_cells] shall be short: one to two\n",
        "  sentences. Math shall be written in [LaTeX][md_latex].\n",
        "    **NOTE**: handwritten notes pasted in the notebook are ignored\n",
        "\n",
        "* You cannot import any other library than we imported.\n",
        "\n",
        "* Make sure all cells are executed before submitting. I.e., if you open the notebook again it should show numerical results and plots. Cells not run are ignored.\n",
        "\n",
        "* Execute your notebook from a blank state before submission, to make sure it is reproducible. You can click \"Kernel\" then \"Restart Kernel and Run All Cells\" in Jupyter. We might re-run cells to ensure that the code is working and corresponds to the results.\n",
        "\n",
        "[md_cells]: https://jupyter-notebook.readthedocs.io/en/stable/examples/Notebook/Working%20With%20Markdown%20Cells.html\n",
        "[md_latex]: https://jupyter-notebook.readthedocs.io/en/stable/examples/Notebook/Working%20With%20Markdown%20Cells.html#LaTeX-equations"
      ]
    },
    {
      "cell_type": "markdown",
      "metadata": {
        "id": "ITjEp1iN8wds"
      },
      "source": [
        "# Objective\n",
        "\n",
        "The purpose of this assignment is to first understand and explore the building blocks of Graph Neural Networks (GNN), and then try to implement more up-to-date GNN architectures or build up new ones using your own ideas. \n",
        "\n",
        "Through these two sections, we hope that you could obtain solid understanding of GNN components and architectures, and gain more experience in solving practical tasks using basic models and then try to improve upon it."
      ]
    },
    {
      "cell_type": "markdown",
      "metadata": {
        "id": "ACMrQA2rraO2"
      },
      "source": [
        "# First part: Understanding Pooling and Graph Convolutional Layers (20 pts)\n",
        "In the first part, you will try to go through our implementation of a Graph Convolution Network, and discover both the key components and the entire structure of a typical GNN. \n",
        "\n",
        "In this section, implementation is not required. Rather, you are requested to execute the various code sections, analyze their outcomes, and provide an explanation of the results. The objective is to understand pooling in graphs and also graph convolutional with spectral filtering. "
      ]
    },
    {
      "cell_type": "markdown",
      "metadata": {
        "id": "cAN8ZbiRIM9C"
      },
      "source": [
        "# Graph ConvNets in PyTorch\n",
        "\n",
        "PyTorch implementation of the NeurIPS'16 paper:\n",
        "Convolutional Neural Networks on Graphs with Fast Localized Spectral Filtering\n",
        "M Defferrard, X Bresson, P Vandergheynst\n",
        "Advances in Neural Information Processing Systems, 3844-3852, 2016\n",
        "[ArXiv preprint](https://arxiv.org/abs/1606.09375)\n",
        "\n",
        "## Code:\n",
        "\n",
        "The code provides a simple example of graph ConvNets for the MNIST classification task.\n",
        "The graph is a 8-nearest neighbor graph of a 2D grid.\n",
        "The signals on graph are the MNIST images vectorized as $28^2 \\times 1$ vectors."
      ]
    },
    {
      "cell_type": "code",
      "execution_count": null,
      "metadata": {
        "colab": {
          "base_uri": "https://localhost:8080/"
        },
        "id": "R84-PMawIM9H",
        "outputId": "cce313f7-459e-4701-9355-34304f93b4cb"
      },
      "outputs": [
        {
          "name": "stdout",
          "output_type": "stream",
          "text": [
            "cuda available\n"
          ]
        }
      ],
      "source": [
        "import torch\n",
        "import torch.nn.functional as F\n",
        "import torch.nn as nn\n",
        "import collections\n",
        "import time\n",
        "import numpy as np\n",
        "import scipy\n",
        "from functools import partial\n",
        "import os\n",
        "\n",
        "if torch.cuda.is_available():\n",
        "    print('cuda available')\n",
        "    dtypeFloat = torch.cuda.FloatTensor\n",
        "    dtypeLong = torch.cuda.LongTensor\n",
        "    torch.cuda.manual_seed(1)\n",
        "else:\n",
        "    print('cuda not available')\n",
        "    dtypeFloat = torch.FloatTensor\n",
        "    dtypeLong = torch.LongTensor\n",
        "    torch.manual_seed(1)"
      ]
    },
    {
      "cell_type": "markdown",
      "metadata": {
        "id": "e3V0ifgWIM9M"
      },
      "source": [
        "# Connect to your drive"
      ]
    },
    {
      "cell_type": "code",
      "execution_count": null,
      "metadata": {
        "colab": {
          "base_uri": "https://localhost:8080/"
        },
        "id": "l-MTr6dtQ6Ih",
        "outputId": "dabf136a-6bfc-432f-b0ea-a41ffc246942"
      },
      "outputs": [
        {
          "name": "stdout",
          "output_type": "stream",
          "text": [
            "Mounted at /content/drive\n"
          ]
        }
      ],
      "source": [
        "from google.colab import drive\n",
        "drive.mount(\"/content/drive\", force_remount=True)"
      ]
    },
    {
      "cell_type": "code",
      "execution_count": null,
      "metadata": {
        "colab": {
          "base_uri": "https://localhost:8080/"
        },
        "id": "NTeBzQHpZNjV",
        "outputId": "4fb6c6c0-71bc-4789-c948-2bca6d57f428"
      },
      "outputs": [
        {
          "name": "stdout",
          "output_type": "stream",
          "text": [
            "['grid_graph.py', 'coarsening.py']\n"
          ]
        }
      ],
      "source": [
        "import os\n",
        "ROOT_PATH = \"/content/drive/MyDrive/EPFL/Network ML/assignment4\"\n",
        "print(os.listdir(ROOT_PATH))"
      ]
    },
    {
      "cell_type": "code",
      "execution_count": null,
      "metadata": {
        "id": "8_fZIFwYZvxc"
      },
      "outputs": [],
      "source": [
        "import sys\n",
        "sys.path.append(ROOT_PATH)"
      ]
    },
    {
      "cell_type": "markdown",
      "metadata": {
        "id": "s-QfoaerIM9M"
      },
      "source": [
        "## Loading the data\n",
        "\n",
        "This code is only to load the Mnist data set, you just need to run it"
      ]
    },
    {
      "cell_type": "code",
      "execution_count": null,
      "metadata": {
        "id": "fU9R11odIM9M"
      },
      "outputs": [],
      "source": [
        "def check_mnist_dataset_exists(path_data='./'):\n",
        "    flag_train_data = os.path.isfile(path_data + 'mnist/train_data.pt') \n",
        "    flag_train_label = os.path.isfile(path_data + 'mnist/train_label.pt') \n",
        "    flag_test_data = os.path.isfile(path_data + 'mnist/test_data.pt') \n",
        "    flag_test_label = os.path.isfile(path_data + 'mnist/test_label.pt') \n",
        "    if flag_train_data==False or flag_train_label==False or flag_test_data==False or flag_test_label==False:\n",
        "        print('MNIST dataset preprocessing...')\n",
        "        import torchvision\n",
        "        import torchvision.transforms as transforms\n",
        "        trainset = torchvision.datasets.MNIST(root=path_data + 'mnist/temp', train=True,\n",
        "                                                download=True, transform=transforms.ToTensor())\n",
        "        testset = torchvision.datasets.MNIST(root=path_data + 'mnist/temp', train=False,\n",
        "                                               download=True, transform=transforms.ToTensor())\n",
        "        train_data=torch.Tensor(60000,28,28)\n",
        "        train_label=torch.LongTensor(60000)\n",
        "        for idx , example in enumerate(trainset):\n",
        "            train_data[idx]=example[0].squeeze()\n",
        "            train_label[idx]=example[1]\n",
        "        torch.save(train_data,path_data + 'mnist/train_data.pt')\n",
        "        torch.save(train_label,path_data + 'mnist/train_label.pt')\n",
        "        test_data=torch.Tensor(10000,28,28)\n",
        "        test_label=torch.LongTensor(10000)\n",
        "        for idx , example in enumerate(testset):\n",
        "            test_data[idx]=example[0].squeeze()\n",
        "            test_label[idx]=example[1]\n",
        "        torch.save(test_data,path_data + 'mnist/test_data.pt')\n",
        "        torch.save(test_label,path_data + 'mnist/test_label.pt')\n",
        "    return path_data\n",
        "\n",
        "\n",
        "_ = check_mnist_dataset_exists()"
      ]
    },
    {
      "cell_type": "code",
      "execution_count": null,
      "metadata": {
        "colab": {
          "base_uri": "https://localhost:8080/"
        },
        "id": "9-FvItWZIM9N",
        "outputId": "26ffcad3-ca7c-4b82-b826-fd1200a19d50"
      },
      "outputs": [
        {
          "name": "stdout",
          "output_type": "stream",
          "text": [
            "(60000, 784)\n",
            "(60000,)\n",
            "(10000, 784)\n",
            "(10000,)\n"
          ]
        }
      ],
      "source": [
        "#if you want to play with a small dataset (for cpu), uncomment.\n",
        "nb_selected_train_data = 60000\n",
        "nb_selected_test_data = 10000\n",
        "\n",
        "train_data=torch.load('mnist/train_data.pt').reshape(60000,784).numpy()\n",
        "train_data = train_data[:nb_selected_train_data,:]\n",
        "print(train_data.shape)\n",
        "\n",
        "train_labels=torch.load('mnist/train_label.pt').numpy()\n",
        "train_labels = train_labels[:nb_selected_train_data]\n",
        "print(train_labels.shape)\n",
        "\n",
        "test_data=torch.load('mnist/test_data.pt').reshape(10000,784).numpy()\n",
        "test_data = test_data[:nb_selected_test_data,:]\n",
        "print(test_data.shape)\n",
        "\n",
        "test_labels=torch.load('mnist/test_label.pt').numpy()\n",
        "test_labels = test_labels[:nb_selected_test_data]\n",
        "print(test_labels.shape)"
      ]
    },
    {
      "cell_type": "markdown",
      "metadata": {
        "id": "5u_wcW0U8AFF"
      },
      "source": [
        "Here we construct the graph using the 8-nearest neighbors of a 2D grid using Euclidean distance metrics."
      ]
    },
    {
      "cell_type": "code",
      "execution_count": null,
      "metadata": {
        "colab": {
          "base_uri": "https://localhost:8080/"
        },
        "id": "Z4d8RsqlIM9O",
        "outputId": "0336ca49-843d-44cf-dcdd-38ccef7c8a8d"
      },
      "outputs": [
        {
          "name": "stdout",
          "output_type": "stream",
          "text": [
            "nb edges:  6396\n"
          ]
        }
      ],
      "source": [
        "from grid_graph import grid_graph\n",
        "from coarsening import coarsen, HEM, compute_perm, perm_adjacency\n",
        "from coarsening import perm_data\n",
        "\n",
        "# Construct graph\n",
        "t_start = time.time()\n",
        "grid_side = 28\n",
        "number_edges = 8\n",
        "metric = 'euclidean'\n",
        "\n",
        "\n",
        "######## YOUR GRAPH ADJACENCY MATRIX HERE ########\n",
        "A = grid_graph(grid_side,number_edges,metric) # create graph of Euclidean grid\n",
        "######## YOUR GRAPH ADJACENCY MATRIX HERE ########"
      ]
    },
    {
      "cell_type": "markdown",
      "metadata": {
        "id": "5C7k8PTnFAh2"
      },
      "source": [
        "In the following two cells we build up functions for calculating the graph Laplacian and retrieving the largest eigenvalue of it with scaling ."
      ]
    },
    {
      "cell_type": "code",
      "execution_count": null,
      "metadata": {
        "id": "x1bL7L1JIM9P"
      },
      "outputs": [],
      "source": [
        "def laplacian(W, normalized=True):\n",
        "    \"\"\"Return graph Laplacian\"\"\"\n",
        "    I = scipy.sparse.identity(W.shape[0], dtype=W.dtype)\n",
        "\n",
        "    #W += I\n",
        "    # Degree matrix.\n",
        "    d = W.sum(axis=0)\n",
        "    # Laplacian matrix.\n",
        "    if not normalized:\n",
        "        D = scipy.sparse.diags(d.A.squeeze(), 0)\n",
        "        L = D - W\n",
        "    else:\n",
        "        d_inv = 1/d\n",
        "        Dinv = scipy.sparse.csr_matrix.sqrt(scipy.sparse.diags(d_inv.A.squeeze(), 0))\n",
        "        L =  - Dinv.dot(W.dot(Dinv))# i modified this normalization in order to use it in question 5 Lsym  = Lsym-I\n",
        "\n",
        "        pass\n",
        "\n",
        "    assert np.abs(L - L.T).mean() < 1e-8\n",
        "    assert type(L) is scipy.sparse.csr.csr_matrix\n",
        "    return L"
      ]
    },
    {
      "cell_type": "code",
      "execution_count": null,
      "metadata": {
        "id": "6PsIUNxsIM9P"
      },
      "outputs": [],
      "source": [
        "def rescale_L(L, lmax=2):\n",
        "    \"\"\"Rescale Laplacian eigenvalues to [-1,1]\"\"\"\n",
        "    M, M = L.shape\n",
        "    I = scipy.sparse.identity(M, format='csr', dtype=L.dtype)\n",
        "    L /= lmax * 2\n",
        "    L -= I\n",
        "    return L \n",
        "\n",
        "def lmax_L(L):\n",
        "    \"\"\"Compute largest Laplacian eigenvalue\"\"\"\n",
        "    return scipy.sparse.linalg.eigsh(L, k=1, which='LM', return_eigenvectors=False)[0]"
      ]
    },
    {
      "cell_type": "markdown",
      "metadata": {
        "id": "rOYcC1FIFe6V"
      },
      "source": [
        "In the following cells, we can try to implement the graph coarsening with a specific coarsening level and retrieve the corresponding largest eigenvalues of Laplacians of the coarsened graphs. "
      ]
    },
    {
      "cell_type": "code",
      "execution_count": null,
      "metadata": {
        "colab": {
          "base_uri": "https://localhost:8080/"
        },
        "id": "oRkKisnu29dK",
        "outputId": "fc6feb55-c6d7-4541-93e9-45770c617906"
      },
      "outputs": [
        {
          "name": "stdout",
          "output_type": "stream",
          "text": [
            "Heavy Edge Matching coarsening with Xavier version\n",
            "Layer 0: M_0 = |V| = 960 nodes (176 added), |E| = 3198 edges\n",
            "Layer 1: M_1 = |V| = 480 nodes (77 added), |E| = 1618 edges\n",
            "Layer 2: M_2 = |V| = 240 nodes (29 added), |E| = 781 edges\n",
            "Layer 3: M_3 = |V| = 120 nodes (7 added), |E| = 388 edges\n",
            "Layer 4: M_4 = |V| = 60 nodes (0 added), |E| = 194 edges\n"
          ]
        },
        {
          "name": "stderr",
          "output_type": "stream",
          "text": [
            "<ipython-input-9-d29d56694506>:13: RuntimeWarning: divide by zero encountered in true_divide\n",
            "  d_inv = 1/d\n",
            "<ipython-input-9-d29d56694506>:20: DeprecationWarning: Please use `csr_matrix` from the `scipy.sparse` namespace, the `scipy.sparse.csr` namespace is deprecated.\n",
            "  assert type(L) is scipy.sparse.csr.csr_matrix\n"
          ]
        }
      ],
      "source": [
        "# Compute coarsened graphs\n",
        "coarsening_levels = 4\n",
        "\n",
        "L, perm = coarsen(A, coarsening_levels, partial(laplacian, normalized=True))"
      ]
    },
    {
      "cell_type": "code",
      "execution_count": null,
      "metadata": {
        "colab": {
          "base_uri": "https://localhost:8080/"
        },
        "id": "QSy9EM2KIM9P",
        "outputId": "cd2dfe50-b450-4866-f784-9d7d8ae9fd46"
      },
      "outputs": [
        {
          "name": "stdout",
          "output_type": "stream",
          "text": [
            "Heavy Edge Matching coarsening with Xavier version\n"
          ]
        },
        {
          "name": "stderr",
          "output_type": "stream",
          "text": [
            "<ipython-input-9-d29d56694506>:20: DeprecationWarning: Please use `csr_matrix` from the `scipy.sparse` namespace, the `scipy.sparse.csr` namespace is deprecated.\n",
            "  assert type(L) is scipy.sparse.csr.csr_matrix\n"
          ]
        },
        {
          "name": "stdout",
          "output_type": "stream",
          "text": [
            "Layer 0: M_0 = |V| = 960 nodes (176 added), |E| = 3198 edges\n",
            "Layer 1: M_1 = |V| = 480 nodes (77 added), |E| = 1618 edges\n",
            "Layer 2: M_2 = |V| = 240 nodes (29 added), |E| = 781 edges\n",
            "Layer 3: M_3 = |V| = 120 nodes (7 added), |E| = 388 edges\n",
            "Layer 4: M_4 = |V| = 60 nodes (0 added), |E| = 194 edges\n",
            "lmax: [5.87704, 11.296647, 19.596706, 30.225954]\n",
            "Execution time: 1.72s\n"
          ]
        }
      ],
      "source": [
        "# Compute coarsened graphs\n",
        "coarsening_levels = 4\n",
        "\n",
        "L, perm = coarsen(A, coarsening_levels, partial(laplacian, normalized=False))\n",
        "\n",
        "# Compute max eigenvalue of graph Laplacians\n",
        "lmax = []\n",
        "for i in range(coarsening_levels):\n",
        "    lmax.append(lmax_L(L[i]))\n",
        "print('lmax: ' + str([lmax[i] for i in range(coarsening_levels)]))\n",
        "\n",
        "# Reindex nodes to satisfy a binary tree structure\n",
        "train_data = perm_data(train_data, perm)\n",
        "test_data = perm_data(test_data, perm)\n",
        "\n",
        "print('Execution time: {:.2f}s'.format(time.time() - t_start))\n",
        "del perm"
      ]
    },
    {
      "cell_type": "markdown",
      "metadata": {
        "id": "uc0SwCcgIM9R"
      },
      "source": [
        "Here, we implemented the pooling layers and computed the list `L` containing the Laplacians of the graphs for each layer.\n",
        "\n",
        "## <font color='red'>Question 1: what is the size of the various poolings? (2pts) </font> "
      ]
    },
    {
      "cell_type": "markdown",
      "metadata": {
        "id": "vPsKBfCJIiOX"
      },
      "source": [
        "> **Your answer here:** The size of the various pooling is 944, 472, 236, 118, 59. These are obtained after each round of the Heavy Edge Matching algorithm."
      ]
    },
    {
      "cell_type": "markdown",
      "metadata": {
        "id": "GY4IypYiIM9R"
      },
      "source": [
        "# Graph ConvNet LeNet5\n",
        "\n",
        "With the components including graph coarsening and graph Laplacian computation, now we can build a entire GNN architecture for the image classification task, such as the classic Graph ConvNet LeNet5, which contains 2 graph convolutional layers, 2 pooling layers with size 4 and two fully-connected layers as shown below:\n",
        "\n",
        "1. Convolutional layer (Dim=32)\n",
        "2. Max pooling layer (Dim=4)\n",
        "3. Convolutional layer (Dim=64)\n",
        "4. Max pooling layer (Dim=4)\n",
        "5. Fully-connected layer (Dim=512)\n",
        "6. Fully-connected layer (Dim=10)\n",
        "\n",
        "## <font color='red'>Question 2: which graphs will you take in the list `L` for the graph convolutional layers? (2pts)</font> \n",
        "\n"
      ]
    },
    {
      "cell_type": "markdown",
      "metadata": {
        "id": "rTMYxUq7JDhx"
      },
      "source": [
        "> **Your answer here:** The graphs 0 and 2, i.e. the ones with 944 and 236 nodes."
      ]
    },
    {
      "cell_type": "markdown",
      "metadata": {
        "id": "pndzzP33LBua"
      },
      "source": [
        "Let's define a torch class of GNN module and initialize our Graph ConvNet LeNet5 using its network parameter settings."
      ]
    },
    {
      "cell_type": "code",
      "execution_count": null,
      "metadata": {
        "id": "UKiPIVdKIM9R"
      },
      "outputs": [],
      "source": [
        "class Graph_ConvNet_LeNet5(nn.Module):\n",
        "    \n",
        "    def __init__(self, net_parameters, rescale = True):\n",
        "        \n",
        "        print('Graph ConvNet: LeNet5')\n",
        "        \n",
        "        super(Graph_ConvNet_LeNet5, self).__init__()\n",
        "        \n",
        "        # parameters\n",
        "        self.rescale = rescale\n",
        "        D, CL1_F, CL1_K, CL2_F, CL2_K, FC1_F, FC2_F = net_parameters\n",
        "        FC1Fin = CL2_F*(D//16)\n",
        "        \n",
        "        # graph CL1\n",
        "        self.cl1 = nn.Linear(CL1_K, CL1_F) \n",
        "        self.init_layers(self.cl1, CL1_K, CL1_F)\n",
        "        self.CL1_K = CL1_K; self.CL1_F = CL1_F; \n",
        "        \n",
        "        # graph CL2\n",
        "        self.cl2 = nn.Linear(CL2_K*CL1_F, CL2_F) \n",
        "        self.init_layers(self.cl2, CL2_K*CL1_F, CL2_F)\n",
        "        self.CL2_K = CL2_K; self.CL2_F = CL2_F; \n",
        "\n",
        "        # FC1\n",
        "        self.fc1 = nn.Linear(FC1Fin, FC1_F) \n",
        "        self.init_layers(self.fc1, FC1Fin, FC1_F)\n",
        "        self.FC1Fin = FC1Fin\n",
        "        \n",
        "        # FC2\n",
        "        self.fc2 = nn.Linear(FC1_F, FC2_F)\n",
        "        self.init_layers(self.fc2, FC1_F, FC2_F)\n",
        "\n",
        "        # nb of parameters\n",
        "        nb_param = CL1_K* CL1_F + CL1_F          # CL1\n",
        "        nb_param += CL2_K* CL1_F* CL2_F + CL2_F  # CL2\n",
        "        nb_param += FC1Fin* FC1_F + FC1_F        # FC1\n",
        "        nb_param += FC1_F* FC2_F + FC2_F         # FC2\n",
        "        print('nb of parameters=',nb_param,'\\n')\n",
        "        \n",
        "        \n",
        "    def init_layers(self, W, Fin, Fout):\n",
        "\n",
        "        scale = np.sqrt( 2.0/ (Fin+Fout) )\n",
        "        W.weight.data.uniform_(-scale, scale)\n",
        "        W.bias.data.fill_(0.0)\n",
        "\n",
        "        return W\n",
        "        \n",
        "        \n",
        "    def graph_conv_cheby(self, x, cl, L, lmax, Fout, K):\n",
        "        # parameters\n",
        "        # B = batch size\n",
        "        # V = nb vertices\n",
        "        # Fin = nb input features\n",
        "        # Fout = nb output features\n",
        "        # K = Chebyshev order & support size\n",
        "        B, V, Fin = x.size(); B, V, Fin = int(B), int(V), int(Fin) \n",
        "\n",
        "        # rescale Laplacian\n",
        "        lmax = lmax_L(L)\n",
        "        if self.rescale:\n",
        "          \n",
        "          L = rescale_L(L, lmax) \n",
        "        \n",
        "        # convert scipy sparse matric L to pytorch\n",
        "        L = L.tocoo()\n",
        "        indices = np.column_stack((L.row, L.col)).T \n",
        "        indices = indices.astype(np.int64)\n",
        "        indices = torch.from_numpy(indices)\n",
        "        indices = indices.type(torch.LongTensor)\n",
        "        L_data = L.data.astype(np.float32)\n",
        "        L_data = torch.from_numpy(L_data) \n",
        "        L_data = L_data.type(torch.FloatTensor)\n",
        "        L = torch.sparse.FloatTensor(indices, L_data, torch.Size(L.shape))\n",
        "        L.requires_grad_(False)\n",
        "        if torch.cuda.is_available():\n",
        "            L = L.cuda()\n",
        "        # transform to Chebyshev basis\n",
        "        x0 = x.permute(1,2,0).contiguous()  # V x Fin x B\n",
        "        x0 = x0.view([V, Fin*B])            # V x Fin*B\n",
        "        x = x0.unsqueeze(0)                 # 1 x V x Fin*B\n",
        "        \n",
        "        def concat(x, x_):\n",
        "            x_ = x_.unsqueeze(0)            # 1 x V x Fin*B\n",
        "            return torch.cat((x, x_), 0)    # K x V x Fin*B  \n",
        "             \n",
        "        if K > 1: \n",
        "            x1 = torch.mm(L,x0)              # V x Fin*B\n",
        "            x = torch.cat((x, x1.unsqueeze(0)),0)  # 2 x V x Fin*B\n",
        "        for k in range(2, K):\n",
        "            x2 = 2 * torch.mm(L,x1) - x0  \n",
        "            x = torch.cat((x, x2.unsqueeze(0)),0)  # M x Fin*B\n",
        "            x0, x1 = x1, x2  \n",
        "        \n",
        "        x = x.view([K, V, Fin, B])           # K x V x Fin x B     \n",
        "        x = x.permute(3,1,2,0).contiguous()  # B x V x Fin x K       \n",
        "        x = x.view([B*V, Fin*K])             # B*V x Fin*K\n",
        "        \n",
        "        # Compose linearly Fin features to get Fout features\n",
        "        x = cl(x)                            # B*V x Fout  \n",
        "        x = x.view([B, V, Fout])             # B x V x Fout\n",
        "        return x\n",
        "        \n",
        "        \n",
        "    # Max pooling of size p. Must be a power of 2.\n",
        "    def graph_max_pool(self, x, p): \n",
        "        if p > 1: \n",
        "            x = x.permute(0,2,1).contiguous()  # x = B x F x V\n",
        "            x = nn.MaxPool1d(p)(x)             # B x F x V/p          \n",
        "            x = x.permute(0,2,1).contiguous()  # x = B x V/p x F\n",
        "            return x  \n",
        "        else:\n",
        "            return x   \n",
        "        \n",
        "        \n",
        "    def forward(self, x, d, L, lmax):\n",
        "        # graph CL1\n",
        "        x = x.unsqueeze(2) # B x V x Fin=1  \n",
        "        x = self.graph_conv_cheby(x, self.cl1, L[0], lmax[0], self.CL1_F, self.CL1_K)\n",
        "        x = F.relu(x)\n",
        "        x = self.graph_max_pool(x, 4)\n",
        "        # graph CL2\n",
        "        x = self.graph_conv_cheby(x, self.cl2, L[2], lmax[2], self.CL2_F, self.CL2_K)\n",
        "        x = F.relu(x)\n",
        "        x = self.graph_max_pool(x, 4)\n",
        "        # FC1\n",
        "        x = x.view(-1, self.FC1Fin)\n",
        "        x = self.fc1(x)\n",
        "        x = F.relu(x)\n",
        "        x  = nn.Dropout(d)(x)\n",
        "        # FC2\n",
        "        x = self.fc2(x)\n",
        "        return x\n",
        "        \n",
        "        \n",
        "    def loss(self, y, y_target, l2_regularization):\n",
        "    \n",
        "        loss = nn.CrossEntropyLoss()(y,y_target)\n",
        "\n",
        "        l2_loss = 0.0\n",
        "        for param in self.parameters():\n",
        "            data = param* param\n",
        "            l2_loss += data.sum()\n",
        "           \n",
        "        loss += 0.5* l2_regularization* l2_loss\n",
        "            \n",
        "        return loss\n",
        "    \n",
        "    \n",
        "    def update(self, lr):\n",
        "                \n",
        "        update = torch.optim.SGD( self.parameters(), lr=lr, momentum=0.9 )\n",
        "        \n",
        "        return update\n",
        "        \n",
        "        \n",
        "    def update_learning_rate(self, optimizer, lr):\n",
        "   \n",
        "        for param_group in optimizer.param_groups:\n",
        "            param_group['lr'] = lr\n",
        "\n",
        "        return optimizer\n",
        "\n",
        "    \n",
        "    def evaluation(self, y_predicted, test_l):\n",
        "    \n",
        "        _, class_predicted = torch.max(y_predicted.data, 1)\n",
        "        return 100.0* (class_predicted == test_l).sum()/ y_predicted.size(0)"
      ]
    },
    {
      "cell_type": "code",
      "execution_count": null,
      "metadata": {
        "colab": {
          "base_uri": "https://localhost:8080/"
        },
        "id": "hzp6aP9YIM9T",
        "outputId": "f216da06-c1f4-423e-dec9-3bee6fd138ab"
      },
      "outputs": [
        {
          "name": "stdout",
          "output_type": "stream",
          "text": [
            "No existing network to delete\n",
            "\n",
            "Graph ConvNet: LeNet5\n",
            "nb of parameters= 2023818 \n",
            "\n",
            "Graph_ConvNet_LeNet5(\n",
            "  (cl1): Linear(in_features=25, out_features=32, bias=True)\n",
            "  (cl2): Linear(in_features=800, out_features=64, bias=True)\n",
            "  (fc1): Linear(in_features=3840, out_features=512, bias=True)\n",
            "  (fc2): Linear(in_features=512, out_features=10, bias=True)\n",
            ")\n"
          ]
        }
      ],
      "source": [
        "# Delete existing network if exists\n",
        "try:\n",
        "    del net\n",
        "    print('Delete existing network\\n')\n",
        "except NameError:\n",
        "    print('No existing network to delete\\n')\n",
        "\n",
        "# network parameters\n",
        "D = train_data.shape[1]\n",
        "CL1_F = 32\n",
        "CL1_K = 25\n",
        "CL2_F = 64\n",
        "CL2_K = 25\n",
        "FC1_F = 512\n",
        "FC2_F = 10\n",
        "net_parameters = [D, CL1_F, CL1_K, CL2_F, CL2_K, FC1_F, FC2_F]\n",
        "dropout_value = 0.5\n",
        "\n",
        "# instantiate the object net of the class \n",
        "net = Graph_ConvNet_LeNet5(net_parameters)\n",
        "if torch.cuda.is_available():\n",
        "    net.cuda()\n",
        "print(net)"
      ]
    },
    {
      "cell_type": "markdown",
      "metadata": {
        "id": "VAHvOqwFIM9T"
      },
      "source": [
        "Good time, to check the network is working. Now we can partition the dataset and evaluate our GNN upon it."
      ]
    },
    {
      "cell_type": "code",
      "execution_count": null,
      "metadata": {
        "colab": {
          "base_uri": "https://localhost:8080/"
        },
        "id": "iUBExiK7IM9U",
        "outputId": "4a47ca6a-d2b9-460e-be1c-f00022767c5e"
      },
      "outputs": [
        {
          "name": "stdout",
          "output_type": "stream",
          "text": [
            "torch.Size([5, 10])\n"
          ]
        }
      ],
      "source": [
        "train_x, train_y = train_data[:5,:], train_labels[:5]\n",
        "train_x =  torch.FloatTensor(train_x).type(dtypeFloat)\n",
        "train_y = train_y.astype(np.int64)\n",
        "train_y = torch.LongTensor(train_y).type(dtypeLong) \n",
        "            \n",
        "# Forward \n",
        "y = net(train_x, dropout_value, L, lmax)\n",
        "print(y.shape)"
      ]
    },
    {
      "cell_type": "code",
      "execution_count": null,
      "metadata": {
        "colab": {
          "base_uri": "https://localhost:8080/"
        },
        "id": "6pqSKZucIM9U",
        "outputId": "21961d12-8ad6-44ae-ecc3-b55ca19f131a",
        "scrolled": true
      },
      "outputs": [
        {
          "name": "stdout",
          "output_type": "stream",
          "text": [
            "num_epochs= 3 , train_size= 60000 , nb_iter= 1800\n",
            "epoch= 1, i=  100, loss(batch)= 0.3013, accuray(batch)= 91.00\n",
            "epoch= 1, i=  200, loss(batch)= 0.3002, accuray(batch)= 97.00\n",
            "epoch= 1, i=  300, loss(batch)= 0.2580, accuray(batch)= 96.00\n",
            "epoch= 1, i=  400, loss(batch)= 0.2740, accuray(batch)= 95.00\n",
            "epoch= 1, i=  500, loss(batch)= 0.2084, accuray(batch)= 96.00\n",
            "epoch= 1, i=  600, loss(batch)= 0.1553, accuray(batch)= 98.00\n",
            "epoch= 1, loss(train)= 0.375, accuracy(train)= 91.413, time= 86.526, lr= 0.05000\n",
            "  accuracy(test) = 97.860 %, time= 9.610\n",
            "epoch= 2, i=  100, loss(batch)= 0.1469, accuray(batch)= 98.00\n",
            "epoch= 2, i=  200, loss(batch)= 0.1773, accuray(batch)= 98.00\n",
            "epoch= 2, i=  300, loss(batch)= 0.1448, accuray(batch)= 98.00\n",
            "epoch= 2, i=  400, loss(batch)= 0.1672, accuray(batch)= 97.00\n",
            "epoch= 2, i=  500, loss(batch)= 0.1747, accuray(batch)= 98.00\n",
            "epoch= 2, i=  600, loss(batch)= 0.1963, accuray(batch)= 96.00\n",
            "epoch= 2, loss(train)= 0.175, accuracy(train)= 97.840, time= 75.629, lr= 0.04750\n",
            "  accuracy(test) = 98.660 %, time= 9.328\n",
            "epoch= 3, i=  100, loss(batch)= 0.1542, accuray(batch)= 98.00\n",
            "epoch= 3, i=  200, loss(batch)= 0.2339, accuray(batch)= 97.00\n",
            "epoch= 3, i=  300, loss(batch)= 0.1689, accuray(batch)= 97.00\n",
            "epoch= 3, i=  400, loss(batch)= 0.1227, accuray(batch)= 100.00\n",
            "epoch= 3, i=  500, loss(batch)= 0.1245, accuray(batch)= 99.00\n",
            "epoch= 3, i=  600, loss(batch)= 0.1108, accuray(batch)= 99.00\n",
            "epoch= 3, loss(train)= 0.148, accuracy(train)= 98.358, time= 68.324, lr= 0.04512\n",
            "  accuracy(test) = 98.720 %, time= 9.368\n"
          ]
        }
      ],
      "source": [
        "# Weights\n",
        "L_net = list(net.parameters())\n",
        "\n",
        "# learning parameters\n",
        "learning_rate = 0.05\n",
        "l2_regularization = 5e-4 \n",
        "batch_size = 100\n",
        "num_epochs = 3\n",
        "train_size = train_data.shape[0]\n",
        "nb_iter = int(num_epochs * train_size) // batch_size\n",
        "print('num_epochs=',num_epochs,', train_size=',train_size,', nb_iter=',nb_iter)\n",
        "\n",
        "# Optimizer\n",
        "global_lr = learning_rate\n",
        "global_step = 0\n",
        "decay = 0.95\n",
        "decay_steps = train_size\n",
        "lr = learning_rate\n",
        "optimizer = net.update(lr) \n",
        "\n",
        "# loop over epochs\n",
        "indices = collections.deque()\n",
        "for epoch in range(num_epochs):  # loop over the dataset multiple times\n",
        "\n",
        "    # reshuffle \n",
        "    indices.extend(np.random.permutation(train_size)) # rand permutation\n",
        "    \n",
        "    # reset time\n",
        "    t_start = time.time()\n",
        "    \n",
        "    # extract batches\n",
        "    running_loss = 0.0\n",
        "    running_accuray = 0\n",
        "    running_total = 0\n",
        "    while len(indices) >= batch_size:\n",
        "        \n",
        "        # extract batches\n",
        "        batch_idx = [indices.popleft() for i in range(batch_size)]\n",
        "        train_x, train_y = train_data[batch_idx,:], train_labels[batch_idx]\n",
        "        train_x =  torch.FloatTensor(train_x).type(dtypeFloat)\n",
        "        train_y = train_y.astype(np.int64)\n",
        "        train_y = torch.LongTensor(train_y).type(dtypeLong) \n",
        "            \n",
        "        # Forward \n",
        "        y = net(train_x, dropout_value, L, lmax)\n",
        "        loss = net.loss(y,train_y,l2_regularization) \n",
        "        loss_train = loss.detach().item()\n",
        "        # Accuracy\n",
        "        acc_train = net.evaluation(y,train_y.data)\n",
        "        # backward\n",
        "        loss.backward()\n",
        "        # Update \n",
        "        global_step += batch_size # to update learning rate\n",
        "        optimizer.step()\n",
        "        optimizer.zero_grad()\n",
        "        # loss, accuracy\n",
        "        running_loss += loss_train\n",
        "        running_accuray += acc_train\n",
        "        running_total += 1\n",
        "        # print        \n",
        "        if not running_total%100: # print every x mini-batches\n",
        "            print('epoch= %d, i= %4d, loss(batch)= %.4f, accuray(batch)= %.2f' % (epoch+1, running_total, loss_train, acc_train))\n",
        "          \n",
        "    # print \n",
        "    t_stop = time.time() - t_start\n",
        "    print('epoch= %d, loss(train)= %.3f, accuracy(train)= %.3f, time= %.3f, lr= %.5f' % \n",
        "          (epoch+1, running_loss/running_total, running_accuray/running_total, t_stop, lr))\n",
        " \n",
        "    # update learning rate \n",
        "    lr = global_lr * pow( decay , float(global_step// decay_steps) )\n",
        "    optimizer = net.update_learning_rate(optimizer, lr)\n",
        "    \n",
        "    \n",
        "    # Test set\n",
        "    with torch.no_grad():\n",
        "        running_accuray_test = 0\n",
        "        running_total_test = 0\n",
        "        indices_test = collections.deque()\n",
        "        indices_test.extend(range(test_data.shape[0]))\n",
        "        t_start_test = time.time()\n",
        "        while len(indices_test) >= batch_size:\n",
        "            batch_idx_test = [indices_test.popleft() for i in range(batch_size)]\n",
        "            test_x, test_y = test_data[batch_idx_test,:], test_labels[batch_idx_test]\n",
        "            test_x = torch.FloatTensor(test_x).type(dtypeFloat)\n",
        "            y = net(test_x, 0.0, L, lmax) \n",
        "            test_y = test_y.astype(np.int64)\n",
        "            test_y = torch.LongTensor(test_y).type(dtypeLong)\n",
        "            acc_test = net.evaluation(y,test_y.data)\n",
        "            running_accuray_test += acc_test\n",
        "            running_total_test += 1\n",
        "        t_stop_test = time.time() - t_start_test\n",
        "        print('  accuracy(test) = %.3f %%, time= %.3f' % (running_accuray_test / running_total_test, t_stop_test))"
      ]
    },
    {
      "cell_type": "markdown",
      "metadata": {
        "id": "WcMxnNIiXLyc"
      },
      "source": [
        "### <font color='red'>Question 3: In this code, each convolutional layer has a parameter K. What does it represent? What are the consequences of choosing a higher or lower value of K? (4pts)</font> "
      ]
    },
    {
      "cell_type": "markdown",
      "metadata": {
        "id": "g1sYCHHfXxEX"
      },
      "source": [
        "> **Your answer here:** The parameter $K$ is a hyperparameter of the polynomial kernel of the model. Instead of using non-parametric filters where the parameters associated with each frequency are independent, as they scale as $\\mathcal O(|\\mathcal V|)$, we parametrize the filter using Chebyshev polynomials so that filters are constrained in a $K$-hop neighborhood around vertices.\n",
        "\n",
        "\n",
        "> Hence, $K$ represents the size of the filter, which determines the size of the neighborhood that can affect a vertex. Choosing a higher value of $K$ means each vertex can access features of further nodes. It also increases the number of parameters of the model, it's ability to express complex functions but also increases the risk of overfitting. More precisely, a filter with $K$ means the filter can use node features of nodes at shortest-path distance up to (and including) to $K$.\n"
      ]
    },
    {
      "cell_type": "markdown",
      "metadata": {
        "id": "QqHiWQ8iIM9U"
      },
      "source": [
        "### <font color='red'>Question 4: Is it necessary to rescale the Laplacian (in the function `rescale_L`)? (4pts) Try to remove it and explain what happens. </font> \n",
        "\n",
        "Hint: See Section 2.1 of [the paper](https://arxiv.org/pdf/1606.09375.pdf).\n"
      ]
    },
    {
      "cell_type": "code",
      "execution_count": null,
      "metadata": {
        "colab": {
          "base_uri": "https://localhost:8080/"
        },
        "id": "s0l0xPYW0o5o",
        "outputId": "ae6f553f-b0fb-440c-e95b-aadc0f0e5ff6"
      },
      "outputs": [
        {
          "name": "stdout",
          "output_type": "stream",
          "text": [
            "Delete existing network\n",
            "\n",
            "Graph ConvNet: LeNet5\n",
            "nb of parameters= 2023818 \n",
            "\n",
            "Graph_ConvNet_LeNet5(\n",
            "  (cl1): Linear(in_features=25, out_features=32, bias=True)\n",
            "  (cl2): Linear(in_features=800, out_features=64, bias=True)\n",
            "  (fc1): Linear(in_features=3840, out_features=512, bias=True)\n",
            "  (fc2): Linear(in_features=512, out_features=10, bias=True)\n",
            ")\n"
          ]
        }
      ],
      "source": [
        "# Delete existing network if exists\n",
        "try:\n",
        "    del net\n",
        "    print('Delete existing network\\n')\n",
        "except NameError:\n",
        "    print('No existing network to delete\\n')\n",
        "\n",
        "# network parameters\n",
        "D = train_data.shape[1]\n",
        "CL1_F = 32\n",
        "CL1_K = 25\n",
        "CL2_F = 64\n",
        "CL2_K = 25\n",
        "FC1_F = 512\n",
        "FC2_F = 10\n",
        "net_parameters = [D, CL1_F, CL1_K, CL2_F, CL2_K, FC1_F, FC2_F]\n",
        "dropout_value = 0.5\n",
        "\n",
        "# instantiate the object net of the class, !!! we removed the rescale\n",
        "net = Graph_ConvNet_LeNet5(net_parameters, rescale = False)\n",
        "if torch.cuda.is_available():\n",
        "    net.cuda()\n",
        "print(net)"
      ]
    },
    {
      "cell_type": "code",
      "execution_count": null,
      "metadata": {
        "colab": {
          "base_uri": "https://localhost:8080/"
        },
        "id": "n4KXZMF0CHdz",
        "outputId": "e996fb38-3d01-4541-f23f-a5be6eadcaec"
      },
      "outputs": [
        {
          "name": "stdout",
          "output_type": "stream",
          "text": [
            "Heavy Edge Matching coarsening with Xavier version\n",
            "Layer 0: M_0 = |V| = 960 nodes (176 added), |E| = 3198 edges\n",
            "Layer 1: M_1 = |V| = 480 nodes (77 added), |E| = 1618 edges\n",
            "Layer 2: M_2 = |V| = 240 nodes (29 added), |E| = 781 edges\n",
            "Layer 3: M_3 = |V| = 120 nodes (7 added), |E| = 388 edges\n",
            "Layer 4: M_4 = |V| = 60 nodes (0 added), |E| = 194 edges\n",
            "lmax: [5.8770437, 11.296648, 19.596704, 30.225956]\n"
          ]
        },
        {
          "name": "stderr",
          "output_type": "stream",
          "text": [
            "<ipython-input-9-d29d56694506>:20: DeprecationWarning: Please use `csr_matrix` from the `scipy.sparse` namespace, the `scipy.sparse.csr` namespace is deprecated.\n",
            "  assert type(L) is scipy.sparse.csr.csr_matrix\n"
          ]
        },
        {
          "name": "stdout",
          "output_type": "stream",
          "text": [
            "Execution time: 79.04s\n"
          ]
        }
      ],
      "source": [
        "# Compute coarsened graphs\n",
        "coarsening_levels = 4\n",
        "\n",
        "L, perm = coarsen(A, coarsening_levels, partial(laplacian, normalized=False))\n",
        "\n",
        "# Compute max eigenvalue of graph Laplacians\n",
        "lmax = []\n",
        "for i in range(coarsening_levels):\n",
        "    lmax.append(lmax_L(L[i]))\n",
        "print('lmax: ' + str([lmax[i] for i in range(coarsening_levels)]))\n",
        "\n",
        "# Reindex nodes to satisfy a binary tree structure\n",
        "train_data = perm_data(train_data, perm)\n",
        "test_data = perm_data(test_data, perm)\n",
        "\n",
        "print('Execution time: {:.2f}s'.format(time.time() - t_start))\n",
        "del perm"
      ]
    },
    {
      "cell_type": "code",
      "execution_count": null,
      "metadata": {
        "colab": {
          "base_uri": "https://localhost:8080/"
        },
        "id": "2L6jw1Nh0o_6",
        "outputId": "ee3634cb-9367-454d-b053-614ebeed6dc5"
      },
      "outputs": [
        {
          "name": "stdout",
          "output_type": "stream",
          "text": [
            "num_epochs= 3 , train_size= 60000 , nb_iter= 1800\n",
            "epoch= 1, i=  100, loss(batch)= nan, accuray(batch)= 5.00\n",
            "epoch= 1, i=  200, loss(batch)= nan, accuray(batch)= 6.00\n",
            "epoch= 1, i=  300, loss(batch)= nan, accuray(batch)= 11.00\n",
            "epoch= 1, i=  400, loss(batch)= nan, accuray(batch)= 17.00\n",
            "epoch= 1, i=  500, loss(batch)= nan, accuray(batch)= 11.00\n",
            "epoch= 1, i=  600, loss(batch)= nan, accuray(batch)= 10.00\n",
            "epoch= 1, loss(train)= nan, accuracy(train)= 9.872, time= 76.965, lr= 0.05000\n",
            "  accuracy(test) = 9.800 %, time= 6.616\n",
            "epoch= 2, i=  100, loss(batch)= nan, accuray(batch)= 10.00\n",
            "epoch= 2, i=  200, loss(batch)= nan, accuray(batch)= 7.00\n",
            "epoch= 2, i=  300, loss(batch)= nan, accuray(batch)= 3.00\n",
            "epoch= 2, i=  400, loss(batch)= nan, accuray(batch)= 15.00\n",
            "epoch= 2, i=  500, loss(batch)= nan, accuray(batch)= 9.00\n",
            "epoch= 2, i=  600, loss(batch)= nan, accuray(batch)= 6.00\n",
            "epoch= 2, loss(train)= nan, accuracy(train)= 9.872, time= 80.423, lr= 0.04750\n",
            "  accuracy(test) = 9.800 %, time= 8.344\n",
            "epoch= 3, i=  100, loss(batch)= nan, accuray(batch)= 9.00\n",
            "epoch= 3, i=  200, loss(batch)= nan, accuray(batch)= 8.00\n",
            "epoch= 3, i=  300, loss(batch)= nan, accuray(batch)= 9.00\n",
            "epoch= 3, i=  400, loss(batch)= nan, accuray(batch)= 9.00\n",
            "epoch= 3, i=  500, loss(batch)= nan, accuray(batch)= 8.00\n",
            "epoch= 3, i=  600, loss(batch)= nan, accuray(batch)= 6.00\n",
            "epoch= 3, loss(train)= nan, accuracy(train)= 9.872, time= 73.256, lr= 0.04512\n",
            "  accuracy(test) = 9.800 %, time= 6.656\n"
          ]
        }
      ],
      "source": [
        "# Weights\n",
        "L_net = list(net.parameters())\n",
        "\n",
        "# learning parameters\n",
        "learning_rate = 0.05\n",
        "l2_regularization = 5e-4 \n",
        "batch_size = 100\n",
        "num_epochs = 3\n",
        "train_size = train_data.shape[0]\n",
        "nb_iter = int(num_epochs * train_size) // batch_size\n",
        "print('num_epochs=',num_epochs,', train_size=',train_size,', nb_iter=',nb_iter)\n",
        "\n",
        "# Optimizer\n",
        "global_lr = learning_rate\n",
        "global_step = 0\n",
        "decay = 0.95\n",
        "decay_steps = train_size\n",
        "lr = learning_rate\n",
        "optimizer = net.update(lr) \n",
        "\n",
        "# loop over epochs\n",
        "indices = collections.deque()\n",
        "for epoch in range(num_epochs):  # loop over the dataset multiple times\n",
        "\n",
        "    # reshuffle \n",
        "    indices.extend(np.random.permutation(train_size)) # rand permutation\n",
        "    \n",
        "    # reset time\n",
        "    t_start = time.time()\n",
        "    \n",
        "    # extract batches\n",
        "    running_loss = 0.0\n",
        "    running_accuray = 0\n",
        "    running_total = 0\n",
        "    while len(indices) >= batch_size:\n",
        "        \n",
        "        # extract batches\n",
        "        batch_idx = [indices.popleft() for i in range(batch_size)]\n",
        "        train_x, train_y = train_data[batch_idx,:], train_labels[batch_idx]\n",
        "        train_x =  torch.FloatTensor(train_x).type(dtypeFloat)\n",
        "        train_y = train_y.astype(np.int64)\n",
        "        train_y = torch.LongTensor(train_y).type(dtypeLong) \n",
        "            \n",
        "        # Forward \n",
        "        y = net(train_x, dropout_value, L, lmax)\n",
        "        loss = net.loss(y,train_y,l2_regularization) \n",
        "        loss_train = loss.detach().item()\n",
        "        # Accuracy\n",
        "        acc_train = net.evaluation(y,train_y.data)\n",
        "        # backward\n",
        "        loss.backward()\n",
        "        # Update \n",
        "        global_step += batch_size # to update learning rate\n",
        "        optimizer.step()\n",
        "        optimizer.zero_grad()\n",
        "        # loss, accuracy\n",
        "        running_loss += loss_train\n",
        "        running_accuray += acc_train\n",
        "        running_total += 1\n",
        "        # print        \n",
        "        if not running_total%100: # print every x mini-batches\n",
        "            print('epoch= %d, i= %4d, loss(batch)= %.4f, accuray(batch)= %.2f' % (epoch+1, running_total, loss_train, acc_train))\n",
        "          \n",
        "    # print \n",
        "    t_stop = time.time() - t_start\n",
        "    print('epoch= %d, loss(train)= %.3f, accuracy(train)= %.3f, time= %.3f, lr= %.5f' % \n",
        "          (epoch+1, running_loss/running_total, running_accuray/running_total, t_stop, lr))\n",
        " \n",
        "    # update learning rate \n",
        "    lr = global_lr * pow( decay , float(global_step// decay_steps) )\n",
        "    optimizer = net.update_learning_rate(optimizer, lr)\n",
        "    \n",
        "    \n",
        "    # Test set\n",
        "    with torch.no_grad():\n",
        "        running_accuray_test = 0\n",
        "        running_total_test = 0\n",
        "        indices_test = collections.deque()\n",
        "        indices_test.extend(range(test_data.shape[0]))\n",
        "        t_start_test = time.time()\n",
        "        while len(indices_test) >= batch_size:\n",
        "            batch_idx_test = [indices_test.popleft() for i in range(batch_size)]\n",
        "            test_x, test_y = test_data[batch_idx_test,:], test_labels[batch_idx_test]\n",
        "            test_x = torch.FloatTensor(test_x).type(dtypeFloat)\n",
        "            y = net(test_x, 0.0, L, lmax) \n",
        "            test_y = test_y.astype(np.int64)\n",
        "            test_y = torch.LongTensor(test_y).type(dtypeLong)\n",
        "            acc_test = net.evaluation(y,test_y.data)\n",
        "            running_accuray_test += acc_test\n",
        "            running_total_test += 1\n",
        "        t_stop_test = time.time() - t_start_test\n",
        "        print('  accuracy(test) = %.3f %%, time= %.3f' % (running_accuray_test / running_total_test, t_stop_test))"
      ]
    },
    {
      "cell_type": "markdown",
      "metadata": {
        "id": "PsyW8kfGJhQb"
      },
      "source": [
        "> **Your answer here:** When the Laplacian is not normalized, the training diverges and the loss becomes `nan` due to numerical instability. It is expected as we are evaluating Chebyshev polynomials at the eigenvalues. The Chebyshev polnomial of any order are bounded below by -1 and above by 1 on the [-1, +1] interval but grow extremly wildely outside of those bounds. For example, above, we use K=25 and T_25(1.1) approx equal 32'730 and T_25(1.2) approx equal 32 million. Therefore, normalizing the eigenvalues is a strict requirement as the maximum eigenvalues of the Laplacians two cells earlier are out of bounds (at least 5).\n"
      ]
    },
    {
      "cell_type": "markdown",
      "metadata": {
        "id": "Li12nmcbmhth"
      },
      "source": [
        "### <font color='red'>Question 5: Is it possible to modify the Laplacian to avoid the rescaling step? (3pts)</font> \n",
        "\n",
        "Hint: Think about the eigenvalues of the Laplacian and how to normalize them."
      ]
    },
    {
      "cell_type": "markdown",
      "metadata": {
        "id": "fUEqQgHJmjUk"
      },
      "source": [
        "> **Your answer here:** Yes, it is possible to use the normalized combinatorial Laplacian $L = I_n - D^{-\\frac{1}{2}} W D^{-\\frac{1}{2}}$, which ensures that the eigenvalues are in the valid range for Chebyshev polynomials ($[-1, 1]$)."
      ]
    },
    {
      "cell_type": "markdown",
      "metadata": {
        "id": "cL4bpvypcGBx"
      },
      "source": [
        "### <font color='red'>Question 6: Which of the following choice is true? (3pts)</font> \n",
        "* (A) The presented GCN will be a message passing GNN for K=1\n",
        "* (B) The presented GCN will be a message passing GNN for any value of K\n",
        "* (C) No, it could never be a layer of message passing GNN\n",
        "\n",
        "Explain your answer.\n",
        "\n"
      ]
    },
    {
      "cell_type": "markdown",
      "metadata": {
        "id": "1ktXFqpdgndJ"
      },
      "source": [
        "> **Your answer here:** From lecture 10 (slide 29) and lecture 11 (slide 17), we see that (B) is not possible, as MPNN operate on local neighborhood, i.e. one-hop distance. On the other hand, the GCN presented here is defined using the spectral approach to convolution and can communicate with further nodes in a single layer for large values of $K$.\n",
        "\n",
        "> On the other hand, we see that if the polynomial degree is 1, the GCN layer will only allow communication between neighbouring nodes, as we only multiply the input features by the graph Laplacian once (see code). Looking at lecture 10, slide 29, we see that the GCN presented in this notebook fits the definition of a message-passing GNN. Therefore, **answer (A) is correct**."
      ]
    },
    {
      "cell_type": "markdown",
      "metadata": {
        "id": "BjwfS7bHSTpd"
      },
      "source": [
        "### <font color='red'> Question 7: In which cases do you expect: (2pts)</font> \n",
        "* a Graph CNN to work better than a CNN?\n",
        "* a CNN to work better than a Graph CNN?\n",
        "\n",
        "For the MNIST classification problem, is there an advantage in using a Graph CNN instead of CNN ? Explain. "
      ]
    },
    {
      "cell_type": "markdown",
      "metadata": {
        "id": "62sZdTlhTb9s"
      },
      "source": [
        "> **Your answer here:** Since the GCNN works on arbitrary graphs, it has no notion of \"top-left\" or \"right\" neighbours. It can only leverage that two nodes reside at a certain shortest-path distance $K$, and each parameter of the filter is associated with a distance $k \\in [0, ..., K - 1]$ and applied on all nodes at this specific distance, not on specific nodes (since neighborhood don't have fixed sizes).\n",
        "\n",
        "> On the other hand, a classical CNN operates on Euclidean spaces. For example, on 2D images, the CNN kernel has $\\mathcal O (K^2)$ parameters and the kernel parameters are associated with a particular neighbour, at a particular position. For example, it if $K=3$ and assuming no bias, the parameters $\\theta$ can be represented as a $3x3$ matrix. In this case, the parameter $\\theta_{0, 0}$ is always multiplied with the top left neighbour around a certain position.\n",
        "\n",
        "> Therefore, we see that for tasks that need to use the spatial relationship between neighbouring nodes, eg using a different weight for top left and bottom right neighbours, a regular CNN will work better. On the other hand, if the objective is invariant to permutations of the neighborhood, the GCNN should work better.\n",
        "\n",
        "> Since the MNIST classification problem is relatively easy, and the GCNN is more complex that the CNN, it is not certain that there is an advantage to use GCNN instead of regular CNN here. However, as pointed out before, the GCNN is intrisically learning a representation independent of rotations (special case of permutation), while a CNN will most likely need data augmentations to learn accurately that slightly rotated numbers still represent the same object. Therefore, there is a plausible advantage to using a GCNN rather than a CNN. On the other hand, given a fixed graph neighborhood, the GCNN is not able to differentiate a slight rotation and a shuffling of nodes. This might make the GCNN non-robust to careful attacks of this kind. Drawing definitive conclusion requires more investigations, but we can see a reason to prefer a GCNN over a CNN."
      ]
    },
    {
      "cell_type": "markdown",
      "metadata": {
        "id": "mYaR-c2Nu2kF"
      },
      "source": [
        "# Second section: Practical Session on Graph Neural Networks:\n",
        "\n",
        "## Objective:\n",
        "In the second part, you will work on a different Protein-Protein Network graph dataset, and try to defeat the baseline model by either implementing state-of-the-art GNN architectures, or possibly using your own ideas based on the task and the graph structures of this dataset. This section may guide you how you can take advantage of GNN on any unknown task or dataset in the future.\n",
        "\n",
        "\n",
        "##<font color='red'> **PART 1 : CODING** (8pts)"
      ]
    },
    {
      "cell_type": "markdown",
      "metadata": {
        "id": "ondoH9gU0ADn"
      },
      "source": [
        "### Install Pytorch Geometric\n",
        "\n",
        "To handle graph data, we use the library Pytorch Geometric : https://pytorch-geometric.readthedocs.io/en/latest/\n",
        "\n",
        "*   If you use _Google Colab_, simply run the following cell to install Pytorch Geometric (**advised**).\n",
        "*   If you plan using your _own environment_, follow the documentation to install Pytorch Geometric : https://pytorch-geometric.readthedocs.io/en/latest/install/installation.html and skip the following cell."
      ]
    },
    {
      "cell_type": "code",
      "execution_count": 1,
      "metadata": {
        "colab": {
          "base_uri": "https://localhost:8080/"
        },
        "id": "CXwb2HbW0Ady",
        "outputId": "260dc1d3-bca2-4051-e7bf-a2e175134501"
      },
      "outputs": [
        {
          "output_type": "stream",
          "name": "stdout",
          "text": [
            "Looking in indexes: https://pypi.org/simple, https://us-python.pkg.dev/colab-wheels/public/simple/\n",
            "Looking in links: https://pytorch-geometric.com/whl/torch-2.0.0+cu118.html\n",
            "Collecting torch-scatter\n",
            "  Downloading https://data.pyg.org/whl/torch-2.0.0%2Bcu118/torch_scatter-2.1.1%2Bpt20cu118-cp310-cp310-linux_x86_64.whl (10.2 MB)\n",
            "\u001b[2K     \u001b[90m━━━━━━━━━━━━━━━━━━━━━━━━━━━━━━━━━━━━━━━━\u001b[0m \u001b[32m10.2/10.2 MB\u001b[0m \u001b[31m49.7 MB/s\u001b[0m eta \u001b[36m0:00:00\u001b[0m\n",
            "\u001b[?25hInstalling collected packages: torch-scatter\n",
            "Successfully installed torch-scatter-2.1.1+pt20cu118\n",
            "Looking in indexes: https://pypi.org/simple, https://us-python.pkg.dev/colab-wheels/public/simple/\n",
            "Looking in links: https://pytorch-geometric.com/whl/torch-2.0.0+cu118.html\n",
            "Collecting torch-sparse\n",
            "  Downloading https://data.pyg.org/whl/torch-2.0.0%2Bcu118/torch_sparse-0.6.17%2Bpt20cu118-cp310-cp310-linux_x86_64.whl (4.8 MB)\n",
            "\u001b[2K     \u001b[90m━━━━━━━━━━━━━━━━━━━━━━━━━━━━━━━━━━━━━━━━\u001b[0m \u001b[32m4.8/4.8 MB\u001b[0m \u001b[31m38.0 MB/s\u001b[0m eta \u001b[36m0:00:00\u001b[0m\n",
            "\u001b[?25hRequirement already satisfied: scipy in /usr/local/lib/python3.10/dist-packages (from torch-sparse) (1.10.1)\n",
            "Requirement already satisfied: numpy<1.27.0,>=1.19.5 in /usr/local/lib/python3.10/dist-packages (from scipy->torch-sparse) (1.22.4)\n",
            "Installing collected packages: torch-sparse\n",
            "Successfully installed torch-sparse-0.6.17+pt20cu118\n",
            "Looking in indexes: https://pypi.org/simple, https://us-python.pkg.dev/colab-wheels/public/simple/\n",
            "Looking in links: https://pytorch-geometric.com/whl/torch-2.0.0+cu118.html\n",
            "Collecting torch-cluster\n",
            "  Downloading https://data.pyg.org/whl/torch-2.0.0%2Bcu118/torch_cluster-1.6.1%2Bpt20cu118-cp310-cp310-linux_x86_64.whl (3.3 MB)\n",
            "\u001b[2K     \u001b[90m━━━━━━━━━━━━━━━━━━━━━━━━━━━━━━━━━━━━━━━━\u001b[0m \u001b[32m3.3/3.3 MB\u001b[0m \u001b[31m35.9 MB/s\u001b[0m eta \u001b[36m0:00:00\u001b[0m\n",
            "\u001b[?25hRequirement already satisfied: scipy in /usr/local/lib/python3.10/dist-packages (from torch-cluster) (1.10.1)\n",
            "Requirement already satisfied: numpy<1.27.0,>=1.19.5 in /usr/local/lib/python3.10/dist-packages (from scipy->torch-cluster) (1.22.4)\n",
            "Installing collected packages: torch-cluster\n",
            "Successfully installed torch-cluster-1.6.1+pt20cu118\n",
            "Looking in indexes: https://pypi.org/simple, https://us-python.pkg.dev/colab-wheels/public/simple/\n",
            "Looking in links: https://pytorch-geometric.com/whl/torch-2.0.0+cu118.html\n",
            "Collecting torch-spline-conv\n",
            "  Downloading https://data.pyg.org/whl/torch-2.0.0%2Bcu118/torch_spline_conv-1.2.2%2Bpt20cu118-cp310-cp310-linux_x86_64.whl (884 kB)\n",
            "\u001b[2K     \u001b[90m━━━━━━━━━━━━━━━━━━━━━━━━━━━━━━━━━━━━━━\u001b[0m \u001b[32m884.9/884.9 kB\u001b[0m \u001b[31m19.1 MB/s\u001b[0m eta \u001b[36m0:00:00\u001b[0m\n",
            "\u001b[?25hInstalling collected packages: torch-spline-conv\n",
            "Successfully installed torch-spline-conv-1.2.2+pt20cu118\n",
            "Looking in indexes: https://pypi.org/simple, https://us-python.pkg.dev/colab-wheels/public/simple/\n",
            "Collecting torch-geometric\n",
            "  Downloading torch_geometric-2.3.1.tar.gz (661 kB)\n",
            "\u001b[2K     \u001b[90m━━━━━━━━━━━━━━━━━━━━━━━━━━━━━━━━━━━━━━\u001b[0m \u001b[32m661.6/661.6 kB\u001b[0m \u001b[31m18.4 MB/s\u001b[0m eta \u001b[36m0:00:00\u001b[0m\n",
            "\u001b[?25h  Installing build dependencies ... \u001b[?25l\u001b[?25hdone\n",
            "  Getting requirements to build wheel ... \u001b[?25l\u001b[?25hdone\n",
            "  Preparing metadata (pyproject.toml) ... \u001b[?25l\u001b[?25hdone\n",
            "Requirement already satisfied: tqdm in /usr/local/lib/python3.10/dist-packages (from torch-geometric) (4.65.0)\n",
            "Requirement already satisfied: numpy in /usr/local/lib/python3.10/dist-packages (from torch-geometric) (1.22.4)\n",
            "Requirement already satisfied: scipy in /usr/local/lib/python3.10/dist-packages (from torch-geometric) (1.10.1)\n",
            "Requirement already satisfied: jinja2 in /usr/local/lib/python3.10/dist-packages (from torch-geometric) (3.1.2)\n",
            "Requirement already satisfied: requests in /usr/local/lib/python3.10/dist-packages (from torch-geometric) (2.27.1)\n",
            "Requirement already satisfied: pyparsing in /usr/local/lib/python3.10/dist-packages (from torch-geometric) (3.0.9)\n",
            "Requirement already satisfied: scikit-learn in /usr/local/lib/python3.10/dist-packages (from torch-geometric) (1.2.2)\n",
            "Requirement already satisfied: psutil>=5.8.0 in /usr/local/lib/python3.10/dist-packages (from torch-geometric) (5.9.5)\n",
            "Requirement already satisfied: MarkupSafe>=2.0 in /usr/local/lib/python3.10/dist-packages (from jinja2->torch-geometric) (2.1.2)\n",
            "Requirement already satisfied: urllib3<1.27,>=1.21.1 in /usr/local/lib/python3.10/dist-packages (from requests->torch-geometric) (1.26.15)\n",
            "Requirement already satisfied: certifi>=2017.4.17 in /usr/local/lib/python3.10/dist-packages (from requests->torch-geometric) (2022.12.7)\n",
            "Requirement already satisfied: charset-normalizer~=2.0.0 in /usr/local/lib/python3.10/dist-packages (from requests->torch-geometric) (2.0.12)\n",
            "Requirement already satisfied: idna<4,>=2.5 in /usr/local/lib/python3.10/dist-packages (from requests->torch-geometric) (3.4)\n",
            "Requirement already satisfied: joblib>=1.1.1 in /usr/local/lib/python3.10/dist-packages (from scikit-learn->torch-geometric) (1.2.0)\n",
            "Requirement already satisfied: threadpoolctl>=2.0.0 in /usr/local/lib/python3.10/dist-packages (from scikit-learn->torch-geometric) (3.1.0)\n",
            "Building wheels for collected packages: torch-geometric\n",
            "  Building wheel for torch-geometric (pyproject.toml) ... \u001b[?25l\u001b[?25hdone\n",
            "  Created wheel for torch-geometric: filename=torch_geometric-2.3.1-py3-none-any.whl size=910459 sha256=85c20389f8e33afb08366bb4cf15cc926081168165a5fb0b452ccf75ce23b7dd\n",
            "  Stored in directory: /root/.cache/pip/wheels/ac/dc/30/e2874821ff308ee67dcd7a66dbde912411e19e35a1addda028\n",
            "Successfully built torch-geometric\n",
            "Installing collected packages: torch-geometric\n",
            "Successfully installed torch-geometric-2.3.1\n"
          ]
        }
      ],
      "source": [
        "########## INSTALL TORCH GEOMETRIC ##################\n",
        "# https://pytorch-geometric.readthedocs.io/en/latest/ \n",
        "#####################################################\n",
        "import torch \n",
        "\n",
        "def format_pytorch_version(version):\n",
        "  return version.split('+')[0]\n",
        "\n",
        "TORCH_version = torch.__version__\n",
        "TORCH = format_pytorch_version(TORCH_version)\n",
        "\n",
        "def format_cuda_version(version):\n",
        "  return 'cu' + version.replace('.', '')\n",
        "\n",
        "CUDA_version = torch.version.cuda\n",
        "CUDA = format_cuda_version(CUDA_version)\n",
        "\n",
        "!pip install torch-scatter     -f https://pytorch-geometric.com/whl/torch-{TORCH}+{CUDA}.html\n",
        "!pip install torch-sparse      -f https://pytorch-geometric.com/whl/torch-{TORCH}+{CUDA}.html\n",
        "!pip install torch-cluster     -f https://pytorch-geometric.com/whl/torch-{TORCH}+{CUDA}.html\n",
        "!pip install torch-spline-conv -f https://pytorch-geometric.com/whl/torch-{TORCH}+{CUDA}.html\n",
        "!pip install torch-geometric"
      ]
    },
    {
      "cell_type": "markdown",
      "metadata": {
        "id": "pPfxpPKo0PbX"
      },
      "source": [
        "### Import required packages\n",
        "\n",
        "Run the following cell to import all required packages. This cell **must not** be modified.\n",
        "\n",
        "To significantly accelerate your training, it is advised to use GPU. Using Google Colab, you need to activate it : \n",
        "\n",
        "*   Edit --> Notebook Setting --> Hardware accelerator --> GPU"
      ]
    },
    {
      "cell_type": "code",
      "execution_count": 2,
      "metadata": {
        "id": "fHBsjdUK0JvU"
      },
      "outputs": [],
      "source": [
        "#####################################################\n",
        "################## PACKAGES #########################\n",
        "#####################################################\n",
        "import numpy as np\n",
        "import matplotlib.pyplot as plt\n",
        "\n",
        "import torch.nn as nn\n",
        "import torch_geometric.nn as graphnn\n",
        "from sklearn.metrics import f1_score\n",
        "from torch_geometric.datasets import PPI\n",
        "from torch_geometric.loader import DataLoader\n",
        "import torch.nn.functional as F"
      ]
    },
    {
      "cell_type": "markdown",
      "metadata": {
        "id": "UlK5Q6Gk0hFp"
      },
      "source": [
        "### Dataset\n",
        "\n",
        "We use the Protein-Protein Interaction (PPI) network dataset which includes:\n",
        "- 20 graphs for training \n",
        "- 2 graphs for validation\n",
        "- 2 graphs for testing\n",
        "\n",
        "One graph of the PPI dataset has on average 2372 nodes. Each node contains:\n",
        "- 50 features : e.g., positional gene sets / motif gene / immunological signatures ...\n",
        "- 121 (binary) labels : gene ontology sets (way to classify gene products like proteins).\n",
        "\n",
        "**This problem aims to predict, for a given PPI graph, the correct node's labels**.\n",
        "\n",
        "**It is a node (multi-level) classification task** (trained using supervised learning). \n",
        "\n",
        "For your curiosity, more details information on the dataset and some applications:\n",
        "- https://cs.stanford.edu/~jure/pubs/pathways-psb18.pdf\n",
        "- https://arxiv.org/abs/1707.04638\n",
        "\n",
        "To understand how a graph data is implemented in Pytorch Geometric, refer to : https://pytorch-geometric.readthedocs.io/en/latest/get_started/introduction.html"
      ]
    },
    {
      "cell_type": "code",
      "execution_count": 3,
      "metadata": {
        "colab": {
          "base_uri": "https://localhost:8080/"
        },
        "id": "1hJqnV2c0JoJ",
        "outputId": "75642d0f-7876-4f3d-e8a6-00408ca3eb32"
      },
      "outputs": [
        {
          "output_type": "stream",
          "name": "stderr",
          "text": [
            "Downloading https://data.dgl.ai/dataset/ppi.zip\n",
            "Extracting ./ppi.zip\n",
            "Processing...\n"
          ]
        },
        {
          "output_type": "stream",
          "name": "stdout",
          "text": [
            "Number of samples in the train dataset:  20\n",
            "Number of samples in the val dataset:  2\n",
            "Number of samples in the test dataset:  2\n",
            "Output of one sample from the train dataset:  Data(x=[1767, 50], edge_index=[2, 32318], y=[1767, 121])\n",
            "Edge_index :\n",
            "tensor([[   0,    0,    0,  ..., 1744, 1745, 1749],\n",
            "        [ 372, 1101,  766,  ..., 1745, 1744, 1739]])\n",
            "Number of features per node:  50\n",
            "Number of classes per node:  121\n"
          ]
        },
        {
          "output_type": "stream",
          "name": "stderr",
          "text": [
            "Done!\n"
          ]
        }
      ],
      "source": [
        "### LOAD DATASETS\n",
        "\n",
        "BATCH_SIZE = 2 \n",
        "\n",
        "# Train Dataset\n",
        "train_dataset = PPI(root=\"\", split='train')\n",
        "train_dataloader = DataLoader(train_dataset, batch_size=BATCH_SIZE)\n",
        "# Val Dataset\n",
        "val_dataset = PPI(root=\"\", split='val')\n",
        "val_dataloader = DataLoader(val_dataset, batch_size=BATCH_SIZE)\n",
        "# Test Dataset\n",
        "test_dataset = PPI(root=\"\", split='test')\n",
        "test_dataloader = DataLoader(test_dataset, batch_size=BATCH_SIZE)\n",
        "\n",
        "# Number of features and classes\n",
        "n_features, n_classes = train_dataset[0].x.shape[1], train_dataset[0].y.shape[1]\n",
        "\n",
        "print(\"Number of samples in the train dataset: \", len(train_dataset))\n",
        "print(\"Number of samples in the val dataset: \", len(test_dataset))\n",
        "print(\"Number of samples in the test dataset: \", len(test_dataset))\n",
        "print(\"Output of one sample from the train dataset: \", train_dataset[0])\n",
        "print(\"Edge_index :\")\n",
        "print(train_dataset[0].edge_index)\n",
        "print(\"Number of features per node: \", n_features)\n",
        "print(\"Number of classes per node: \", n_classes)"
      ]
    },
    {
      "cell_type": "markdown",
      "metadata": {
        "id": "luhfLKBS0oB8"
      },
      "source": [
        "### Define a basic Model\n",
        "Here we define a very simple Graph Neural Network model which will be used as our baseline. This model consists of three graph convolutional layers (from https://arxiv.org/pdf/1609.02907.pdf). The first two layers computes 256 features, followed by an ELU activation function. The last layer is used for (multi-level) classification task, computing 121 features which is the number of classes."
      ]
    },
    {
      "cell_type": "code",
      "execution_count": 4,
      "metadata": {
        "id": "0ek3dvzd0Jk-"
      },
      "outputs": [],
      "source": [
        "#####################################################\n",
        "################## MODEL ############################\n",
        "#####################################################\n",
        "class BasicGraphModel(nn.Module):\n",
        "\n",
        "    def __init__(self, input_size, hidden_size, output_size):\n",
        "        super().__init__()\n",
        "\n",
        "        self.graphconv1 = graphnn.GCNConv(input_size, hidden_size)\n",
        "        self.graphconv2 = graphnn.GCNConv(hidden_size, hidden_size)\n",
        "        self.graphconv3 = graphnn.GCNConv(hidden_size, output_size)\n",
        "\n",
        "        self.elu = nn.ELU()\n",
        "\n",
        "    def forward(self, x, edge_index):\n",
        "\n",
        "        x = self.graphconv1(x, edge_index)\n",
        "        x = self.elu(x)\n",
        "        x = self.graphconv2(x, edge_index)\n",
        "        x = self.elu(x)\n",
        "        x = self.graphconv3(x, edge_index)\n",
        "\n",
        "        return x"
      ]
    },
    {
      "cell_type": "markdown",
      "metadata": {
        "id": "fRCA1Dga09Ff"
      },
      "source": [
        "Next we construct the function to train the model."
      ]
    },
    {
      "cell_type": "code",
      "execution_count": 5,
      "metadata": {
        "id": "isKRdJJT09mB"
      },
      "outputs": [],
      "source": [
        "#####################################################\n",
        "############## TRAIN FUNCTION #######################\n",
        "#####################################################\n",
        "def train(model, loss_fcn, device, optimizer, max_epochs, train_dataloader, val_dataloader):\n",
        "\n",
        "    epoch_list = []\n",
        "    scores_list = []\n",
        "\n",
        "    # loop over epochs\n",
        "    for epoch in range(max_epochs):\n",
        "        model.train()\n",
        "        losses = []\n",
        "        # loop over batches\n",
        "        for i, train_batch in enumerate(train_dataloader):\n",
        "            optimizer.zero_grad()\n",
        "            train_batch_device = train_batch.to(device)\n",
        "            # logits is the output of the model\n",
        "            logits = model(train_batch_device.x, train_batch_device.edge_index)\n",
        "            # compute the loss\n",
        "            loss = loss_fcn(logits, train_batch_device.y)\n",
        "            # optimizer step\n",
        "            loss.backward()\n",
        "            optimizer.step()\n",
        "            losses.append(loss.item())\n",
        "        loss_data = np.array(losses).mean()\n",
        "        print(\"Epoch {:05d} | Loss: {:.4f}\".format(epoch + 1, loss_data))\n",
        "\n",
        "        if epoch % 5 == 0:\n",
        "            # evaluate the model on the validation set\n",
        "            # computes the f1-score (see next function)\n",
        "            score = evaluate(model, loss_fcn, device, val_dataloader)\n",
        "            print(\"F1-Score: {:.4f}\".format(score))\n",
        "            scores_list.append(score)\n",
        "            epoch_list.append(epoch)\n",
        "\n",
        "    return epoch_list, scores_list"
      ]
    },
    {
      "cell_type": "markdown",
      "metadata": {
        "id": "ePatmKbs1F1v"
      },
      "source": [
        "Next, a function is designed to evaluate the performance of the model, computing the F1-Score."
      ]
    },
    {
      "cell_type": "code",
      "execution_count": 6,
      "metadata": {
        "id": "edbjxo1l1Eje"
      },
      "outputs": [],
      "source": [
        "#####################################################\n",
        "############### TEST FUNCTION #######################\n",
        "#####################################################\n",
        "def evaluate(model, loss_fcn, device, dataloader):\n",
        "\n",
        "    score_list_batch = []\n",
        "\n",
        "    model.eval()\n",
        "    for i, batch in enumerate(dataloader):\n",
        "        batch = batch.to(device)\n",
        "        output = model(batch.x, batch.edge_index)\n",
        "        loss_test = loss_fcn(output, batch.y)\n",
        "        predict = np.where(output.detach().cpu().numpy() >= 0, 1, 0)\n",
        "        score = f1_score(batch.y.cpu().numpy(), predict, average=\"micro\")\n",
        "        score_list_batch.append(score)\n",
        "\n",
        "    return np.array(score_list_batch).mean()"
      ]
    },
    {
      "cell_type": "markdown",
      "metadata": {
        "id": "YYvxkpSN1K0R"
      },
      "source": [
        "Let's train this model !"
      ]
    },
    {
      "cell_type": "code",
      "execution_count": 7,
      "metadata": {
        "id": "Dqlu6ytt1LOr",
        "outputId": "395521a0-d5c2-48d2-b7a5-e26958e94336",
        "colab": {
          "base_uri": "https://localhost:8080/"
        }
      },
      "outputs": [
        {
          "output_type": "stream",
          "name": "stdout",
          "text": [
            "\n",
            "Device:  cuda\n",
            "Epoch 00001 | Loss: 0.6376\n",
            "F1-Score: 0.4426\n",
            "Epoch 00002 | Loss: 0.5818\n",
            "Epoch 00003 | Loss: 0.5624\n",
            "Epoch 00004 | Loss: 0.5554\n",
            "Epoch 00005 | Loss: 0.5507\n",
            "Epoch 00006 | Loss: 0.5459\n",
            "F1-Score: 0.5081\n",
            "Epoch 00007 | Loss: 0.5421\n",
            "Epoch 00008 | Loss: 0.5378\n",
            "Epoch 00009 | Loss: 0.5343\n",
            "Epoch 00010 | Loss: 0.5314\n",
            "Epoch 00011 | Loss: 0.5288\n",
            "F1-Score: 0.5239\n",
            "Epoch 00012 | Loss: 0.5263\n",
            "Epoch 00013 | Loss: 0.5239\n",
            "Epoch 00014 | Loss: 0.5216\n",
            "Epoch 00015 | Loss: 0.5193\n",
            "Epoch 00016 | Loss: 0.5171\n",
            "F1-Score: 0.5298\n",
            "Epoch 00017 | Loss: 0.5150\n",
            "Epoch 00018 | Loss: 0.5130\n",
            "Epoch 00019 | Loss: 0.5108\n",
            "Epoch 00020 | Loss: 0.5086\n",
            "Epoch 00021 | Loss: 0.5063\n",
            "F1-Score: 0.5129\n",
            "Epoch 00022 | Loss: 0.5037\n",
            "Epoch 00023 | Loss: 0.5016\n",
            "Epoch 00024 | Loss: 0.4999\n",
            "Epoch 00025 | Loss: 0.4979\n",
            "Epoch 00026 | Loss: 0.4961\n",
            "F1-Score: 0.5410\n",
            "Epoch 00027 | Loss: 0.4945\n",
            "Epoch 00028 | Loss: 0.4925\n",
            "Epoch 00029 | Loss: 0.4903\n",
            "Epoch 00030 | Loss: 0.4883\n",
            "Epoch 00031 | Loss: 0.4865\n",
            "F1-Score: 0.5494\n",
            "Epoch 00032 | Loss: 0.4849\n",
            "Epoch 00033 | Loss: 0.4833\n",
            "Epoch 00034 | Loss: 0.4816\n",
            "Epoch 00035 | Loss: 0.4797\n",
            "Epoch 00036 | Loss: 0.4779\n",
            "F1-Score: 0.5635\n",
            "Epoch 00037 | Loss: 0.4763\n",
            "Epoch 00038 | Loss: 0.4748\n",
            "Epoch 00039 | Loss: 0.4735\n",
            "Epoch 00040 | Loss: 0.4724\n",
            "Epoch 00041 | Loss: 0.4712\n",
            "F1-Score: 0.5730\n",
            "Epoch 00042 | Loss: 0.4706\n",
            "Epoch 00043 | Loss: 0.4699\n",
            "Epoch 00044 | Loss: 0.4698\n",
            "Epoch 00045 | Loss: 0.4689\n",
            "Epoch 00046 | Loss: 0.4678\n",
            "F1-Score: 0.5697\n",
            "Epoch 00047 | Loss: 0.4672\n",
            "Epoch 00048 | Loss: 0.4665\n",
            "Epoch 00049 | Loss: 0.4660\n",
            "Epoch 00050 | Loss: 0.4631\n",
            "Epoch 00051 | Loss: 0.4614\n",
            "F1-Score: 0.5895\n",
            "Epoch 00052 | Loss: 0.4601\n",
            "Epoch 00053 | Loss: 0.4584\n",
            "Epoch 00054 | Loss: 0.4572\n",
            "Epoch 00055 | Loss: 0.4561\n",
            "Epoch 00056 | Loss: 0.4550\n",
            "F1-Score: 0.5981\n",
            "Epoch 00057 | Loss: 0.4556\n",
            "Epoch 00058 | Loss: 0.4558\n",
            "Epoch 00059 | Loss: 0.4556\n",
            "Epoch 00060 | Loss: 0.4537\n",
            "Epoch 00061 | Loss: 0.4536\n",
            "F1-Score: 0.6036\n",
            "Epoch 00062 | Loss: 0.4529\n",
            "Epoch 00063 | Loss: 0.4519\n",
            "Epoch 00064 | Loss: 0.4497\n",
            "Epoch 00065 | Loss: 0.4495\n",
            "Epoch 00066 | Loss: 0.4499\n",
            "F1-Score: 0.6016\n",
            "Epoch 00067 | Loss: 0.4491\n",
            "Epoch 00068 | Loss: 0.4488\n",
            "Epoch 00069 | Loss: 0.4475\n",
            "Epoch 00070 | Loss: 0.4463\n",
            "Epoch 00071 | Loss: 0.4464\n",
            "F1-Score: 0.6109\n",
            "Epoch 00072 | Loss: 0.4485\n",
            "Epoch 00073 | Loss: 0.4477\n",
            "Epoch 00074 | Loss: 0.4450\n",
            "Epoch 00075 | Loss: 0.4445\n",
            "Epoch 00076 | Loss: 0.4450\n",
            "F1-Score: 0.5967\n",
            "Epoch 00077 | Loss: 0.4428\n",
            "Epoch 00078 | Loss: 0.4448\n",
            "Epoch 00079 | Loss: 0.4451\n",
            "Epoch 00080 | Loss: 0.4456\n",
            "Epoch 00081 | Loss: 0.4464\n",
            "F1-Score: 0.5808\n",
            "Epoch 00082 | Loss: 0.4443\n",
            "Epoch 00083 | Loss: 0.4429\n",
            "Epoch 00084 | Loss: 0.4430\n",
            "Epoch 00085 | Loss: 0.4413\n",
            "Epoch 00086 | Loss: 0.4425\n",
            "F1-Score: 0.5900\n",
            "Epoch 00087 | Loss: 0.4445\n",
            "Epoch 00088 | Loss: 0.4429\n",
            "Epoch 00089 | Loss: 0.4417\n",
            "Epoch 00090 | Loss: 0.4397\n",
            "Epoch 00091 | Loss: 0.4398\n",
            "F1-Score: 0.5693\n",
            "Epoch 00092 | Loss: 0.4385\n",
            "Epoch 00093 | Loss: 0.4378\n",
            "Epoch 00094 | Loss: 0.4375\n",
            "Epoch 00095 | Loss: 0.4373\n",
            "Epoch 00096 | Loss: 0.4364\n",
            "F1-Score: 0.6063\n",
            "Epoch 00097 | Loss: 0.4353\n",
            "Epoch 00098 | Loss: 0.4338\n",
            "Epoch 00099 | Loss: 0.4327\n",
            "Epoch 00100 | Loss: 0.4309\n",
            "Epoch 00101 | Loss: 0.4301\n",
            "F1-Score: 0.6027\n",
            "Epoch 00102 | Loss: 0.4296\n",
            "Epoch 00103 | Loss: 0.4288\n",
            "Epoch 00104 | Loss: 0.4276\n",
            "Epoch 00105 | Loss: 0.4268\n",
            "Epoch 00106 | Loss: 0.4258\n",
            "F1-Score: 0.6253\n",
            "Epoch 00107 | Loss: 0.4261\n",
            "Epoch 00108 | Loss: 0.4266\n",
            "Epoch 00109 | Loss: 0.4267\n",
            "Epoch 00110 | Loss: 0.4270\n",
            "Epoch 00111 | Loss: 0.4274\n",
            "F1-Score: 0.5822\n",
            "Epoch 00112 | Loss: 0.4286\n",
            "Epoch 00113 | Loss: 0.4288\n",
            "Epoch 00114 | Loss: 0.4297\n",
            "Epoch 00115 | Loss: 0.4320\n",
            "Epoch 00116 | Loss: 0.4311\n",
            "F1-Score: 0.6316\n",
            "Epoch 00117 | Loss: 0.4295\n",
            "Epoch 00118 | Loss: 0.4281\n",
            "Epoch 00119 | Loss: 0.4264\n",
            "Epoch 00120 | Loss: 0.4266\n",
            "Epoch 00121 | Loss: 0.4277\n",
            "F1-Score: 0.6081\n",
            "Epoch 00122 | Loss: 0.4257\n",
            "Epoch 00123 | Loss: 0.4243\n",
            "Epoch 00124 | Loss: 0.4247\n",
            "Epoch 00125 | Loss: 0.4260\n",
            "Epoch 00126 | Loss: 0.4294\n",
            "F1-Score: 0.6248\n",
            "Epoch 00127 | Loss: 0.4284\n",
            "Epoch 00128 | Loss: 0.4263\n",
            "Epoch 00129 | Loss: 0.4261\n",
            "Epoch 00130 | Loss: 0.4237\n",
            "Epoch 00131 | Loss: 0.4252\n",
            "F1-Score: 0.6000\n",
            "Epoch 00132 | Loss: 0.4226\n",
            "Epoch 00133 | Loss: 0.4205\n",
            "Epoch 00134 | Loss: 0.4199\n",
            "Epoch 00135 | Loss: 0.4209\n",
            "Epoch 00136 | Loss: 0.4200\n",
            "F1-Score: 0.6388\n",
            "Epoch 00137 | Loss: 0.4191\n",
            "Epoch 00138 | Loss: 0.4193\n",
            "Epoch 00139 | Loss: 0.4217\n",
            "Epoch 00140 | Loss: 0.4210\n",
            "Epoch 00141 | Loss: 0.4205\n",
            "F1-Score: 0.6241\n",
            "Epoch 00142 | Loss: 0.4198\n",
            "Epoch 00143 | Loss: 0.4188\n",
            "Epoch 00144 | Loss: 0.4180\n",
            "Epoch 00145 | Loss: 0.4186\n",
            "Epoch 00146 | Loss: 0.4168\n",
            "F1-Score: 0.6218\n",
            "Epoch 00147 | Loss: 0.4147\n",
            "Epoch 00148 | Loss: 0.4133\n",
            "Epoch 00149 | Loss: 0.4120\n",
            "Epoch 00150 | Loss: 0.4116\n",
            "Epoch 00151 | Loss: 0.4119\n",
            "F1-Score: 0.6328\n",
            "Epoch 00152 | Loss: 0.4118\n",
            "Epoch 00153 | Loss: 0.4121\n",
            "Epoch 00154 | Loss: 0.4125\n",
            "Epoch 00155 | Loss: 0.4129\n",
            "Epoch 00156 | Loss: 0.4126\n",
            "F1-Score: 0.6397\n",
            "Epoch 00157 | Loss: 0.4148\n",
            "Epoch 00158 | Loss: 0.4171\n",
            "Epoch 00159 | Loss: 0.4184\n",
            "Epoch 00160 | Loss: 0.4176\n",
            "Epoch 00161 | Loss: 0.4200\n",
            "F1-Score: 0.6175\n",
            "Epoch 00162 | Loss: 0.4236\n",
            "Epoch 00163 | Loss: 0.4220\n",
            "Epoch 00164 | Loss: 0.4177\n",
            "Epoch 00165 | Loss: 0.4142\n",
            "Epoch 00166 | Loss: 0.4138\n",
            "F1-Score: 0.6044\n",
            "Epoch 00167 | Loss: 0.4125\n",
            "Epoch 00168 | Loss: 0.4130\n",
            "Epoch 00169 | Loss: 0.4126\n",
            "Epoch 00170 | Loss: 0.4134\n",
            "Epoch 00171 | Loss: 0.4121\n",
            "F1-Score: 0.6353\n",
            "Epoch 00172 | Loss: 0.4138\n",
            "Epoch 00173 | Loss: 0.4110\n",
            "Epoch 00174 | Loss: 0.4096\n",
            "Epoch 00175 | Loss: 0.4085\n",
            "Epoch 00176 | Loss: 0.4072\n",
            "F1-Score: 0.6509\n",
            "Epoch 00177 | Loss: 0.4060\n",
            "Epoch 00178 | Loss: 0.4047\n",
            "Epoch 00179 | Loss: 0.4058\n",
            "Epoch 00180 | Loss: 0.4059\n",
            "Epoch 00181 | Loss: 0.4066\n",
            "F1-Score: 0.6425\n",
            "Epoch 00182 | Loss: 0.4074\n",
            "Epoch 00183 | Loss: 0.4073\n",
            "Epoch 00184 | Loss: 0.4070\n",
            "Epoch 00185 | Loss: 0.4093\n",
            "Epoch 00186 | Loss: 0.4092\n",
            "F1-Score: 0.6065\n",
            "Epoch 00187 | Loss: 0.4088\n",
            "Epoch 00188 | Loss: 0.4076\n",
            "Epoch 00189 | Loss: 0.4071\n",
            "Epoch 00190 | Loss: 0.4057\n",
            "Epoch 00191 | Loss: 0.4057\n",
            "F1-Score: 0.6334\n",
            "Epoch 00192 | Loss: 0.4050\n",
            "Epoch 00193 | Loss: 0.4050\n",
            "Epoch 00194 | Loss: 0.4051\n",
            "Epoch 00195 | Loss: 0.4043\n",
            "Epoch 00196 | Loss: 0.4042\n",
            "F1-Score: 0.6474\n",
            "Epoch 00197 | Loss: 0.4044\n",
            "Epoch 00198 | Loss: 0.4050\n",
            "Epoch 00199 | Loss: 0.4031\n",
            "Epoch 00200 | Loss: 0.4027\n"
          ]
        }
      ],
      "source": [
        "### DEVICE GPU OR CPU : will select GPU if available\n",
        "device = torch.device('cuda' if torch.cuda.is_available() else 'cpu')\n",
        "print(\"\\nDevice: \", device)\n",
        "\n",
        "### Max number of epochs\n",
        "max_epochs = 200\n",
        "\n",
        "### DEFINE THE MODEL\n",
        "basic_model = BasicGraphModel(  input_size = n_features, \n",
        "                                hidden_size = 256, \n",
        "                                output_size = n_classes).to(device)\n",
        "\n",
        "### DEFINE LOSS FUNCTION\n",
        "loss_fcn = nn.BCEWithLogitsLoss()\n",
        "\n",
        "### DEFINE OPTIMIZER\n",
        "optimizer = torch.optim.Adam(basic_model.parameters(), lr=0.005)\n",
        "\n",
        "### TRAIN THE MODEL\n",
        "epoch_list, basic_model_scores = train(basic_model, loss_fcn, device, optimizer, max_epochs, train_dataloader, val_dataloader)"
      ]
    },
    {
      "cell_type": "code",
      "execution_count": 8,
      "metadata": {
        "id": "ptwWgxmN1QlM",
        "outputId": "c1f55e7e-6f03-4948-a44a-8ff8c1b99630",
        "colab": {
          "base_uri": "https://localhost:8080/",
          "height": 485
        }
      },
      "outputs": [
        {
          "output_type": "stream",
          "name": "stdout",
          "text": [
            "Basic Model : F1-Score on the test set: 0.6543\n"
          ]
        },
        {
          "output_type": "display_data",
          "data": {
            "text/plain": [
              "<Figure size 1000x500 with 1 Axes>"
            ],
            "image/png": "[encoded data removed]"
          },
          "metadata": {}
        }
      ],
      "source": [
        "### F1-SCORE ON TEST DATASET\n",
        "score_test = evaluate(basic_model, loss_fcn, device, test_dataloader)\n",
        "print(\"Basic Model : F1-Score on the test set: {:.4f}\".format(score_test))\n",
        "\n",
        "### PLOT EVOLUTION OF F1-SCORE W.R.T EPOCHS\n",
        "def plot_f1_score(epoch_list, scores) :\n",
        "    plt.figure(figsize=[10,5])\n",
        "    plt.plot(epoch_list, scores)\n",
        "    plt.title(\"Evolution of F1S-Score w.r.t epochs\")\n",
        "    plt.ylim([0.0, 1.0])\n",
        "    plt.show()\n",
        "    \n",
        "plot_f1_score(epoch_list, basic_model_scores)"
      ]
    },
    {
      "cell_type": "markdown",
      "metadata": {
        "id": "3Q9qSfkZ1bAa"
      },
      "source": [
        "### <font color='red'> Define a better model\n",
        "\n",
        "Now, it's your turn to improve this basic model ! To do so, complete whenever ###### YOUR ANSWER ######## and run the two following cells. You can either use the architectures you learned from the lecture, or try to come up with an idea of your own.\n",
        "\n",
        "**HINT :** https://arxiv.org/pdf/1710.10903.pdf"
      ]
    },
    {
      "cell_type": "code",
      "execution_count": 9,
      "metadata": {
        "id": "gZP3m81kFd1x"
      },
      "outputs": [],
      "source": [
        "# Your solution here ###########################################################\n",
        "\n",
        "#^^^^^^^^^^^^^^^^^^^^^^^^^^^^^^^^^^^^^^^^^^^^^^^^^^^^^^^^^^^^^^^^^^^^^^^^^^^^^^^\n",
        "class StudentModel(nn.Module):\n",
        "  def __init__(\n",
        "        self, \n",
        "        input_size, \n",
        "        hidden_size, \n",
        "        output_size, \n",
        "        use_skip_connection=True,\n",
        "        heads=1,\n",
        "        output_heads=6,\n",
        "    ):\n",
        "      super().__init__()\n",
        "      \n",
        "      ####### YOUR ANSWER #######\n",
        "      self.gc1 = graphnn.GATConv(input_size, hidden_size, heads=heads, act=None)\n",
        "      print(input_size * heads)\n",
        "      self.gc2 = graphnn.GATConv(hidden_size * heads, hidden_size, heads=heads, act=None)\n",
        "      self.gc3 = graphnn.GATConv(hidden_size * heads, output_size, heads=output_heads, act=None, concat=False)   \n",
        "\n",
        "      if use_skip_connection:\n",
        "         self.opt_skip = lambda x, edge_index, layer: x + layer(x, edge_index)\n",
        "      else:\n",
        "         self.opt_skip = lambda x, edge_index, layer: layer(x, edge_index)\n",
        "\n",
        "      \n",
        "  def forward(self, x, edge_index):\n",
        "\n",
        "      ####### YOUR ANSWER #######\n",
        "      x = self.gc1(x, edge_index)\n",
        "      x = F.elu(x)\n",
        "      x = self.opt_skip(x, edge_index, self.gc2)\n",
        "      x = F.elu(x)\n",
        "      x = self.gc3(x, edge_index)\n",
        "\n",
        "      return x"
      ]
    },
    {
      "cell_type": "code",
      "execution_count": 10,
      "metadata": {
        "id": "95NkPqsZ1kwc",
        "outputId": "11d10086-863a-4d92-cbb4-8b18ea8ba543",
        "colab": {
          "base_uri": "https://localhost:8080/"
        }
      },
      "outputs": [
        {
          "output_type": "stream",
          "name": "stdout",
          "text": [
            "200\n",
            "Epoch 00001 | Loss: 0.6957\n",
            "F1-Score: 0.4348\n",
            "Epoch 00002 | Loss: 0.5618\n",
            "Epoch 00003 | Loss: 0.5440\n",
            "Epoch 00004 | Loss: 0.5228\n",
            "Epoch 00005 | Loss: 0.5157\n",
            "Epoch 00006 | Loss: 0.5032\n",
            "F1-Score: 0.5183\n",
            "Epoch 00007 | Loss: 0.4960\n",
            "Epoch 00008 | Loss: 0.4899\n",
            "Epoch 00009 | Loss: 0.4807\n",
            "Epoch 00010 | Loss: 0.4720\n",
            "Epoch 00011 | Loss: 0.4640\n",
            "F1-Score: 0.5469\n",
            "Epoch 00012 | Loss: 0.4563\n",
            "Epoch 00013 | Loss: 0.4617\n",
            "Epoch 00014 | Loss: 0.4545\n",
            "Epoch 00015 | Loss: 0.4434\n",
            "Epoch 00016 | Loss: 0.4362\n",
            "F1-Score: 0.6253\n",
            "Epoch 00017 | Loss: 0.4303\n",
            "Epoch 00018 | Loss: 0.4233\n",
            "Epoch 00019 | Loss: 0.4219\n",
            "Epoch 00020 | Loss: 0.4200\n",
            "Epoch 00021 | Loss: 0.4171\n",
            "F1-Score: 0.6551\n",
            "Epoch 00022 | Loss: 0.4061\n",
            "Epoch 00023 | Loss: 0.3968\n",
            "Epoch 00024 | Loss: 0.3889\n",
            "Epoch 00025 | Loss: 0.3830\n",
            "Epoch 00026 | Loss: 0.3800\n",
            "F1-Score: 0.6888\n",
            "Epoch 00027 | Loss: 0.3734\n",
            "Epoch 00028 | Loss: 0.3729\n",
            "Epoch 00029 | Loss: 0.3702\n",
            "Epoch 00030 | Loss: 0.3616\n",
            "Epoch 00031 | Loss: 0.3508\n",
            "F1-Score: 0.7096\n",
            "Epoch 00032 | Loss: 0.3429\n",
            "Epoch 00033 | Loss: 0.3347\n",
            "Epoch 00034 | Loss: 0.3304\n",
            "Epoch 00035 | Loss: 0.3274\n",
            "Epoch 00036 | Loss: 0.3244\n",
            "F1-Score: 0.7197\n",
            "Epoch 00037 | Loss: 0.3262\n",
            "Epoch 00038 | Loss: 0.3289\n",
            "Epoch 00039 | Loss: 0.3222\n",
            "Epoch 00040 | Loss: 0.3138\n",
            "Epoch 00041 | Loss: 0.3070\n",
            "F1-Score: 0.7515\n",
            "Epoch 00042 | Loss: 0.3017\n",
            "Epoch 00043 | Loss: 0.2941\n",
            "Epoch 00044 | Loss: 0.2881\n",
            "Epoch 00045 | Loss: 0.2827\n",
            "Epoch 00046 | Loss: 0.2819\n",
            "F1-Score: 0.7744\n",
            "Epoch 00047 | Loss: 0.2785\n",
            "Epoch 00048 | Loss: 0.2778\n",
            "Epoch 00049 | Loss: 0.2773\n",
            "Epoch 00050 | Loss: 0.2842\n",
            "Epoch 00051 | Loss: 0.2810\n",
            "F1-Score: 0.7774\n",
            "Epoch 00052 | Loss: 0.2684\n",
            "Epoch 00053 | Loss: 0.2610\n",
            "Epoch 00054 | Loss: 0.2565\n",
            "Epoch 00055 | Loss: 0.2522\n",
            "Epoch 00056 | Loss: 0.2525\n",
            "F1-Score: 0.7995\n",
            "Epoch 00057 | Loss: 0.2523\n",
            "Epoch 00058 | Loss: 0.2521\n",
            "Epoch 00059 | Loss: 0.2545\n",
            "Epoch 00060 | Loss: 0.2529\n",
            "Epoch 00061 | Loss: 0.2590\n",
            "F1-Score: 0.7713\n",
            "Epoch 00062 | Loss: 0.2621\n",
            "Epoch 00063 | Loss: 0.2518\n",
            "Epoch 00064 | Loss: 0.2371\n",
            "Epoch 00065 | Loss: 0.2247\n",
            "Epoch 00066 | Loss: 0.2169\n",
            "F1-Score: 0.8146\n",
            "Epoch 00067 | Loss: 0.2125\n",
            "Epoch 00068 | Loss: 0.2142\n",
            "Epoch 00069 | Loss: 0.2145\n",
            "Epoch 00070 | Loss: 0.2099\n",
            "Epoch 00071 | Loss: 0.2087\n",
            "F1-Score: 0.8249\n",
            "Epoch 00072 | Loss: 0.2049\n",
            "Epoch 00073 | Loss: 0.2015\n",
            "Epoch 00074 | Loss: 0.2069\n",
            "Epoch 00075 | Loss: 0.2068\n",
            "Epoch 00076 | Loss: 0.2032\n",
            "F1-Score: 0.8346\n",
            "Epoch 00077 | Loss: 0.1974\n",
            "Epoch 00078 | Loss: 0.1937\n",
            "Epoch 00079 | Loss: 0.1885\n",
            "Epoch 00080 | Loss: 0.1864\n",
            "Epoch 00081 | Loss: 0.1845\n",
            "F1-Score: 0.8482\n",
            "Epoch 00082 | Loss: 0.1839\n",
            "Epoch 00083 | Loss: 0.1856\n",
            "Epoch 00084 | Loss: 0.1851\n",
            "Epoch 00085 | Loss: 0.1840\n",
            "Epoch 00086 | Loss: 0.1774\n",
            "F1-Score: 0.8531\n",
            "Epoch 00087 | Loss: 0.1708\n",
            "Epoch 00088 | Loss: 0.1647\n",
            "Epoch 00089 | Loss: 0.1624\n",
            "Epoch 00090 | Loss: 0.1644\n",
            "Epoch 00091 | Loss: 0.1691\n",
            "F1-Score: 0.8477\n",
            "Epoch 00092 | Loss: 0.1763\n",
            "Epoch 00093 | Loss: 0.1760\n",
            "Epoch 00094 | Loss: 0.1708\n",
            "Epoch 00095 | Loss: 0.1680\n",
            "Epoch 00096 | Loss: 0.1644\n",
            "F1-Score: 0.8550\n",
            "Epoch 00097 | Loss: 0.1624\n",
            "Epoch 00098 | Loss: 0.1572\n",
            "Epoch 00099 | Loss: 0.1517\n",
            "Epoch 00100 | Loss: 0.1484\n",
            "Epoch 00101 | Loss: 0.1482\n",
            "F1-Score: 0.8635\n",
            "Epoch 00102 | Loss: 0.1466\n",
            "Epoch 00103 | Loss: 0.1440\n",
            "Epoch 00104 | Loss: 0.1410\n",
            "Epoch 00105 | Loss: 0.1401\n",
            "Epoch 00106 | Loss: 0.1405\n",
            "F1-Score: 0.8684\n",
            "Epoch 00107 | Loss: 0.1432\n",
            "Epoch 00108 | Loss: 0.1447\n",
            "Epoch 00109 | Loss: 0.1479\n",
            "Epoch 00110 | Loss: 0.1501\n",
            "Epoch 00111 | Loss: 0.1517\n",
            "F1-Score: 0.8636\n",
            "Epoch 00112 | Loss: 0.1509\n",
            "Epoch 00113 | Loss: 0.1427\n",
            "Epoch 00114 | Loss: 0.1367\n",
            "Epoch 00115 | Loss: 0.1343\n",
            "Epoch 00116 | Loss: 0.1296\n",
            "F1-Score: 0.8794\n",
            "Epoch 00117 | Loss: 0.1264\n",
            "Epoch 00118 | Loss: 0.1246\n",
            "Epoch 00119 | Loss: 0.1229\n",
            "Epoch 00120 | Loss: 0.1242\n",
            "Epoch 00121 | Loss: 0.1218\n",
            "F1-Score: 0.8820\n",
            "Epoch 00122 | Loss: 0.1223\n",
            "Epoch 00123 | Loss: 0.1215\n",
            "Epoch 00124 | Loss: 0.1266\n",
            "Epoch 00125 | Loss: 0.1282\n",
            "Epoch 00126 | Loss: 0.1291\n",
            "F1-Score: 0.8785\n",
            "Epoch 00127 | Loss: 0.1303\n",
            "Epoch 00128 | Loss: 0.1280\n",
            "Epoch 00129 | Loss: 0.1243\n",
            "Epoch 00130 | Loss: 0.1203\n",
            "Epoch 00131 | Loss: 0.1146\n",
            "F1-Score: 0.8844\n",
            "Epoch 00132 | Loss: 0.1091\n",
            "Epoch 00133 | Loss: 0.1058\n",
            "Epoch 00134 | Loss: 0.1044\n",
            "Epoch 00135 | Loss: 0.1042\n",
            "Epoch 00136 | Loss: 0.1068\n",
            "F1-Score: 0.8863\n",
            "Epoch 00137 | Loss: 0.1083\n",
            "Epoch 00138 | Loss: 0.1133\n",
            "Epoch 00139 | Loss: 0.1153\n",
            "Epoch 00140 | Loss: 0.1163\n",
            "Epoch 00141 | Loss: 0.1160\n",
            "F1-Score: 0.8859\n",
            "Epoch 00142 | Loss: 0.1151\n",
            "Epoch 00143 | Loss: 0.1116\n",
            "Epoch 00144 | Loss: 0.1110\n",
            "Epoch 00145 | Loss: 0.1133\n",
            "Epoch 00146 | Loss: 0.1132\n",
            "F1-Score: 0.8892\n",
            "Epoch 00147 | Loss: 0.1107\n",
            "Epoch 00148 | Loss: 0.1070\n",
            "Epoch 00149 | Loss: 0.1051\n",
            "Epoch 00150 | Loss: 0.1038\n",
            "Epoch 00151 | Loss: 0.1053\n",
            "F1-Score: 0.8940\n",
            "Epoch 00152 | Loss: 0.1046\n",
            "Epoch 00153 | Loss: 0.1020\n",
            "Epoch 00154 | Loss: 0.1022\n",
            "Epoch 00155 | Loss: 0.1029\n",
            "Epoch 00156 | Loss: 0.1016\n",
            "F1-Score: 0.8911\n",
            "Epoch 00157 | Loss: 0.0977\n",
            "Epoch 00158 | Loss: 0.0937\n",
            "Epoch 00159 | Loss: 0.0941\n",
            "Epoch 00160 | Loss: 0.0934\n",
            "Epoch 00161 | Loss: 0.0930\n",
            "F1-Score: 0.8939\n",
            "Epoch 00162 | Loss: 0.0943\n",
            "Epoch 00163 | Loss: 0.0976\n",
            "Epoch 00164 | Loss: 0.0999\n",
            "Epoch 00165 | Loss: 0.1010\n",
            "Epoch 00166 | Loss: 0.1005\n",
            "F1-Score: 0.8963\n",
            "Epoch 00167 | Loss: 0.1010\n",
            "Epoch 00168 | Loss: 0.0979\n",
            "Epoch 00169 | Loss: 0.0943\n",
            "Epoch 00170 | Loss: 0.0906\n",
            "Epoch 00171 | Loss: 0.0874\n",
            "F1-Score: 0.8981\n",
            "Epoch 00172 | Loss: 0.0839\n",
            "Epoch 00173 | Loss: 0.0820\n",
            "Epoch 00174 | Loss: 0.0814\n",
            "Epoch 00175 | Loss: 0.0800\n",
            "Epoch 00176 | Loss: 0.0791\n",
            "F1-Score: 0.9050\n",
            "Epoch 00177 | Loss: 0.0783\n",
            "Epoch 00178 | Loss: 0.0796\n",
            "Epoch 00179 | Loss: 0.0785\n",
            "Epoch 00180 | Loss: 0.0788\n",
            "Epoch 00181 | Loss: 0.0795\n",
            "F1-Score: 0.9006\n",
            "Epoch 00182 | Loss: 0.0808\n",
            "Epoch 00183 | Loss: 0.0851\n",
            "Epoch 00184 | Loss: 0.0875\n",
            "Epoch 00185 | Loss: 0.0895\n",
            "Epoch 00186 | Loss: 0.0898\n",
            "F1-Score: 0.8970\n",
            "Epoch 00187 | Loss: 0.0868\n",
            "Epoch 00188 | Loss: 0.0856\n",
            "Epoch 00189 | Loss: 0.0816\n",
            "Epoch 00190 | Loss: 0.0800\n",
            "Epoch 00191 | Loss: 0.0828\n",
            "F1-Score: 0.9054\n",
            "Epoch 00192 | Loss: 0.0814\n",
            "Epoch 00193 | Loss: 0.0812\n",
            "Epoch 00194 | Loss: 0.0834\n",
            "Epoch 00195 | Loss: 0.0913\n",
            "Epoch 00196 | Loss: 0.0932\n",
            "F1-Score: 0.8956\n",
            "Epoch 00197 | Loss: 0.0942\n",
            "Epoch 00198 | Loss: 0.0921\n",
            "Epoch 00199 | Loss: 0.0898\n",
            "Epoch 00200 | Loss: 0.0866\n"
          ]
        }
      ],
      "source": [
        "## Student model\n",
        "student_model = StudentModel(\n",
        "    input_size=n_features, \n",
        "    hidden_size=256, \n",
        "    output_size=n_classes,\n",
        "    heads=4,\n",
        "    ).to(device)\n",
        "\n",
        "### DEFINE LOSS FUNCTION AND OPTIMIZER\n",
        "optimizer = torch.optim.Adam(student_model.parameters(), lr=0.005)\n",
        "\n",
        "### TRAIN\n",
        "epoch_list, student_model_scores = train(student_model, loss_fcn, device, optimizer, max_epochs, train_dataloader, val_dataloader)"
      ]
    },
    {
      "cell_type": "code",
      "execution_count": 11,
      "metadata": {
        "id": "0fb3U1cNGI7K",
        "outputId": "f8d34530-b347-492c-9ee2-edcf204ceb97",
        "colab": {
          "base_uri": "https://localhost:8080/",
          "height": 504
        }
      },
      "outputs": [
        {
          "output_type": "stream",
          "name": "stdout",
          "text": [
            "Student Model : F1-Score on the test set: 0.9219\n"
          ]
        },
        {
          "output_type": "display_data",
          "data": {
            "text/plain": [
              "<Figure size 1000x500 with 1 Axes>"
            ],
            "image/png": "[encoded data removed]"
          },
          "metadata": {}
        }
      ],
      "source": [
        "score_test = evaluate(student_model, loss_fcn, device, test_dataloader)\n",
        "print(\"Student Model : F1-Score on the test set: {:.4f}\".format(score_test))\n",
        "\n",
        "def plot_f1_score(epoch_list, basic_model_scores, student_model_scores) :\n",
        "    plt.figure(figsize = [10,5])\n",
        "    plt.plot(epoch_list, basic_model_scores, 'b', label = \"Basic Model\")\n",
        "    plt.plot(epoch_list, student_model_scores, 'r', label = \"Student Model\")\n",
        "    plt.title(\"Evolution of f1 score w.r.t epochs\")\n",
        "    plt.ylim([0.0, 1.0])\n",
        "    plt.ylabel(\"Epochs\")\n",
        "    plt.xlabel(\"F1-Score\")\n",
        "    plt.legend()\n",
        "    plt.show()\n",
        "    \n",
        "plot_f1_score(epoch_list, basic_model_scores, student_model_scores)"
      ]
    },
    {
      "cell_type": "code",
      "execution_count": 12,
      "metadata": {
        "id": "0-LHYlHcIdMa"
      },
      "outputs": [],
      "source": [
        "def count_parameters(model):\n",
        "    return sum(p.numel() for p in model.parameters() if p.requires_grad)"
      ]
    },
    {
      "cell_type": "code",
      "execution_count": 13,
      "metadata": {
        "id": "v6t0ZaUQIiU2",
        "outputId": "bb2a1ea1-3b82-4454-e24f-09722a1ca9e6",
        "colab": {
          "base_uri": "https://localhost:8080/"
        }
      },
      "outputs": [
        {
          "output_type": "stream",
          "name": "stdout",
          "text": [
            "Number of parameters in the basic model: 109945\n",
            "Number of parameters in the student model: 1850917\n"
          ]
        }
      ],
      "source": [
        "print(f\"Number of parameters in the basic model: {count_parameters(basic_model)}\")\n",
        "print(f\"Number of parameters in the student model: {count_parameters(student_model)}\")"
      ]
    },
    {
      "cell_type": "markdown",
      "metadata": {
        "id": "hkrgsmMi1q27"
      },
      "source": [
        "## <font color='red'> **PART 2 : QUESTIONS** (12pts)\n"
      ]
    },
    {
      "cell_type": "markdown",
      "metadata": {
        "id": "UClH63M5N0Nx"
      },
      "source": [
        "<font color='red'> 1. Explains your achitecture and justifies your choices (why the Graph Layer you chose is more efficient than the GCNLayer from the Basic Model?)."
      ]
    },
    {
      "cell_type": "markdown",
      "metadata": {
        "id": "t_slihJpTFFT"
      },
      "source": [
        "> **Your answer here:** We followed the architecture from the original GAT paper. As you can see above, we use a 3 layer graph attention network with 4, 4 and 6 heads respectively. As suggested by the original work, we also use skip-connection. The hidden dimension is 256 and we average the output of the last layer heads to obtain the output logits. \n",
        "\n",
        "> The most notable difference between the GAT and GCN layer is that the GAT is able to give a different weight to each neighbor due to the attention mechanism. For a given center node $i$, the model uses the score computed between features of $i$ and its neighbors. That way, we can compute a weighted  average (weights = attention scores) between neighbors instead of a plain average. On the other hand, the GCN treats all neighbors similarly. As a consequence, it is generally less expressive than the GAT. "
      ]
    },
    {
      "cell_type": "markdown",
      "metadata": {
        "id": "ZQZuIBDON1FS"
      },
      "source": [
        "<font color='red'>  2. Analyses your results (what is the F1-Score ? are your results convincing ?)"
      ]
    },
    {
      "cell_type": "markdown",
      "metadata": {
        "id": "_Bm-redLN1XR"
      },
      "source": [
        "> **Your answer here:** The GAT obtains a test F1-score of 0.9284, while the GCN only attains 0.6172. We can explain this result from two factors. First, as observed in the original GAT paper, GCNs generally attains lower performance on the PPI dataset. On the other hand, we see that our GAT model has much more parameters (18x more) than the baseline in this notebook. Nonetheless, note that the GAT-based model is not overfitting the dataset as the test performance remains high. Hence it is able to use its capacity adequately.\n",
        "\n",
        "> In order to understand better which factor explains the performance boost the most, one should conduct an ablation study. We would compare different pairs of GCN and GAT based models with close number of parameters and observe how the performance is affected. As it is not the goal of this homework, we prefered to spend more time on the project and other courses.\n"
      ]
    },
    {
      "cell_type": "markdown",
      "metadata": {
        "id": "QwBHsPl6N1m3"
      },
      "source": [
        "<font color='red'> 3. Provide a diagram of your architecture, which includes a good and clear legend as well as shapes information. The diagram must be submitted as an external file, along with this notebook (PDF, JEPG or PNG format accepted)."
      ]
    },
    {
      "cell_type": "markdown",
      "metadata": {
        "id": "BJ7YIdxKuQwX"
      },
      "source": [
        "> **Your answer here:**\n",
        "![Student model architecture](https://github.com/deschena/networks_ml_epfl/blob/main/assignment4/model_architecture.jpg?raw=1)\n"
      ]
    },
    {
      "cell_type": "markdown",
      "metadata": {
        "id": "bawTfQN5N5rZ"
      },
      "source": [
        "<font color='red'> 4. What is the name of the problem that arises when using deep GNNs? Define and explain this problem."
      ]
    },
    {
      "cell_type": "markdown",
      "metadata": {
        "id": "PygWElzkOiOi"
      },
      "source": [
        "> **Your answer here:** The over-smoothing or over-mixing problem is a key challenge when using deep GNNs.\n",
        "\n",
        "> Over-smoothing occurs when information from neighbouring nodes in the graph is excessively aggregated through the process of message-passing across multiple layers. As the network depth increases, the repeated application of Laplacian-type graph convolutions causes the node representations to become increasingly similar, making them indistinguishable from each other."
      ]
    },
    {
      "cell_type": "markdown",
      "metadata": {
        "id": "0K3G6Qu8N5jV"
      },
      "source": [
        "<font color='red'> 5. Are there solutions to overcome it ? "
      ]
    },
    {
      "cell_type": "markdown",
      "metadata": {
        "id": "coLl-zvNN5Z9"
      },
      "source": [
        "> **Your answer here:** Several techniques have been proposed to mitigate the over-smoothing problem in deep GNNs:\n",
        "\n",
        "> 1.   **Skip-connections**: as observed in other domains and models (eg computer vision or transformers), skip-connections allow better gradient propagation through layers and in the case of deep GNN, preserves discriminative features and mitigates the over-smoothing problem.\n",
        "> 2.   Attention mechanisms: Attention-based GNN layers, such as GATs, can focus on more informative neighbors during the aggregation process, hence, there is less risk of (plainly) averaging the features of all nodes in a neighborhood.\n",
        "> 3.   Coarsening and pooling operations: By coarsening the graph structure and reducing the number of nodes, it was observed that the problem is aleviated."
      ]
    }
  ],
  "metadata": {
    "accelerator": "GPU",
    "colab": {
      "gpuType": "T4",
      "provenance": [],
      "include_colab_link": true
    },
    "gpuClass": "standard",
    "kernelspec": {
      "display_name": "networks_ml",
      "language": "python",
      "name": "python3"
    },
    "language_info": {
      "codemirror_mode": {
        "name": "ipython",
        "version": 3
      },
      "file_extension": ".py",
      "mimetype": "text/x-python",
      "name": "python",
      "nbconvert_exporter": "python",
      "pygments_lexer": "ipython3",
      "version": "3.8.16"
    }
  },
  "nbformat": 4,
  "nbformat_minor": 0
}