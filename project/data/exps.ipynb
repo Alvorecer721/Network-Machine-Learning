{
 "cells": [
  {
   "cell_type": "code",
   "execution_count": 1,
   "id": "ff6a60e2-6f28-4ad5-b8ec-41857f6a354a",
   "metadata": {},
   "outputs": [],
   "source": [
    "import networkx as nx\n",
    "import csv\n",
    "import numpy as np\n",
    "%matplotlib inline \n",
    "from matplotlib import pyplot as plt\n",
    "import os\n",
    "import pandas as pd\n"
   ]
  },
  {
   "cell_type": "markdown",
   "id": "83ff3db6-1562-4858-bd8e-12db2e1e6c18",
   "metadata": {},
   "source": [
    "# Exploration notebook"
   ]
  },
  {
   "cell_type": "markdown",
   "id": "bcc00c01-3d04-48d4-a37c-f3aa3e5e33a6",
   "metadata": {},
   "source": [
    "**TODO: see https://www.notion.so/Networks-ML-project-1230cf1ae7ec497eb5845daa0442e993 for ideas of exploration**. I think it is good to start with basic things, like we've done in the first homeworks, before looking into more advanced stuff like interactive animations. I really believe it is more important for the graders to see that we understood the concepts introduced earlier in the course, like the different random graph models, and then if we have time, we can make some more fancy/advanced things."
   ]
  },
  {
   "cell_type": "code",
   "execution_count": null,
   "id": "9da7f7fb-4493-461d-8978-c6c843028588",
   "metadata": {},
   "outputs": [],
   "source": [
    "def load_graph(city, mode):\n",
    "    edges = pd.read_csv(f\"all_cities/{city}/network_{mode}.csv\", sep=\";\")\n",
    "    nodes = pd.read_csv(f\"all_cities/{city}/network_nodes.csv\", sep=\";\")\n",
    "    \n",
    "    graph = nx.DiGraph()\n",
    "    for idx, row in nodes.iterrows():\n",
    "        graph.add_node(\n",
    "            row.stop_I, \n",
    "            lat=row.lat, \n",
    "            lon=row.lon, \n",
    "            name=row.name, \n",
    "            pos=(row.lon, row.lat)\n",
    "        )\n",
    "\n",
    "    for idx, row in edges.iterrows():\n",
    "        graph.add_edge(\n",
    "            row.from_stop_I, \n",
    "            row.to_stop_I, \n",
    "            d=row.d, \n",
    "            duration_avg=row.duration_avg, \n",
    "            n_vehicles=row.n_vehicles\n",
    "        )\n",
    "\n",
    "        \n",
    "    return graph\n",
    "    "
   ]
  },
  {
   "cell_type": "code",
   "execution_count": 24,
   "id": "de45c0e4-48e9-4073-8be2-92cd609de76f",
   "metadata": {},
   "outputs": [],
   "source": [
    "def draw_graph(graph, ax, node_size=0.5, no_edge_alpha=0.5):\n",
    "    # Plot disconnected edges lighter\n",
    "    degrees = nx.degree(graph)\n",
    "    node_with_edges = []\n",
    "    node_without_edges = []\n",
    "\n",
    "    for node in graph.nodes():\n",
    "        if degrees[node] > 0:\n",
    "            node_with_edges.append(node)\n",
    "        else:\n",
    "            node_without_edges.append(node)\n",
    "\n",
    "    # Split graph based on non-zero-degree\n",
    "    no_edge_subgraph = graph.subgraph(node_without_edges)\n",
    "    with_edges_subgraph = graph.subgraph(node_with_edges)\n",
    "    # No edges\n",
    "    nx.draw_networkx_nodes(\n",
    "        no_edge_subgraph,\n",
    "        pos=nx.get_node_attributes(no_edge_subgraph, \"pos\"),\n",
    "        node_size=node_size,\n",
    "        ax=ax,\n",
    "        alpha=no_edge_alpha,\n",
    "        node_color='lightgreen',\n",
    "    )\n",
    "    # With edges\n",
    "    nx.draw_networkx(\n",
    "        with_edges_subgraph,\n",
    "        pos=nx.get_node_attributes(with_edges_subgraph, \"pos\"),\n",
    "        with_labels=False,\n",
    "        node_size=node_size,\n",
    "        ax=ax,\n",
    "        alpha=0.7,\n",
    "        arrows=False,\n",
    "        edge_color='orange',\n",
    "    )\n",
    "    \n"
   ]
  },
  {
   "cell_type": "code",
   "execution_count": 17,
   "id": "c109629d-5fa2-47ea-a2d8-071b4d5baaec",
   "metadata": {},
   "outputs": [],
   "source": [
    "def city_has_mode(city, mode):\n",
    "    return os.path.exists(f\"all_cities/{city}/network_{mode}.csv\")"
   ]
  },
  {
   "cell_type": "code",
   "execution_count": 18,
   "id": "9adf7522-efd9-4c60-b223-eb81808a24f8",
   "metadata": {},
   "outputs": [
    {
     "name": "stdout",
     "output_type": "stream",
     "text": [
      "walk 25\n",
      "bus 25\n",
      "combined 25\n",
      "tram 14\n",
      "rail 12\n",
      "subway 8\n",
      "ferry 8\n",
      "cablecar 1\n",
      "gondola 0\n",
      "funicular 0\n"
     ]
    }
   ],
   "source": [
    "all_cities = [city for city in os.listdir(\"all_cities\") if os.path.isdir(f\"all_cities/{city}\")]\n",
    "all_modes = ['walk', 'tram', 'subway', 'rail', 'bus', 'ferry', 'cablecar', 'gondola', 'funicular', 'combined']\n",
    "\n",
    "\n",
    "# Count how many cities have each transportation mode\n",
    "mode_counts = []\n",
    "for mode in all_modes:\n",
    "    cities = [c for c in all_cities if os.path.exists(f\"all_cities/{c}/network_{mode}.csv\")]\n",
    "    mode_counts.append((mode, len(cities)))\n",
    "\n",
    "mode_counts.sort(key=lambda x: x[1], reverse=True)\n",
    "\n",
    "for mode, counts in mode_counts:\n",
    "    print(mode, counts)\n",
    "    "
   ]
  },
  {
   "cell_type": "code",
   "execution_count": 26,
   "id": "354799cf-c269-4e84-83b7-f6304ff9e85f",
   "metadata": {},
   "outputs": [],
   "source": [
    "mode = 'bus'\n",
    "os.makedirs(\"plots\", exist_ok=True)\n",
    "for city in all_cities:\n",
    "    if not city_has_mode(city, mode):\n",
    "        continue\n",
    "    fig, ax = plt.subplots()\n",
    "    graph = load_graph(city, mode)\n",
    "    draw_graph(graph, ax)\n",
    "    fig.suptitle(city.capitalize())\n",
    "    fig.savefig(f\"plots/{city}-{mode}.png\", dpi=300)\n",
    "    plt.close()"
   ]
  },
  {
   "cell_type": "markdown",
   "id": "c1e07eb8-a8d4-43a5-8a41-d28322245b68",
   "metadata": {},
   "source": [
    "Baseline ETA/Congestion: shortest path + node/edge centrality as proxy for congestion; tune baseline on that feature + others to see"
   ]
  },
  {
   "cell_type": "markdown",
   "id": "e8c7ed11-c04b-4c75-aecd-7025746c0e29",
   "metadata": {},
   "source": [
    "TODO: \n",
    "* Plot histogram of edge congestion (avg duration on edges)\n",
    "* Plot percentage of edges in each network (tram vs subway vs bus, etc)\n",
    "* Plot degree distribution; check small world property, if close to erdos etc\n"
   ]
  },
  {
   "cell_type": "code",
   "execution_count": null,
   "id": "41eef908-09b6-48ed-a944-d07085881644",
   "metadata": {},
   "outputs": [],
   "source": [
    "nx.conne"
   ]
  },
  {
   "cell_type": "code",
   "execution_count": 94,
   "id": "ba6be86c-9bd9-45d2-810c-04c98b5f4d92",
   "metadata": {},
   "outputs": [],
   "source": [
    "def compute_statistics(graph):\n",
    "    \"\"\"\n",
    "    Aggregated statistic over graphs. Try kmeans on top to see if can cluster graphs into visually similar ones\n",
    "    \"\"\"\n",
    "    stats = {}\n",
    "    stats['avg_clustering'] = nx.average_clustering(graph)\n",
    "    \n",
    "    # Best result in PSET 2; argue that's why we use it in report\n",
    "    eigvec_centrality = nx.eigenvector_centrality(graph, max_iter=1000)\n",
    "    eigvec_values = [v for k, v in eigvec_centrality.items()]\n",
    "    stats['avg_eig_centr'] = np.mean(eigvec_values)\n",
    "    stats['std_eig_centr'] = np.std(eigvec_values)\n",
    "    # TODO: very long to compute\n",
    "    #betw_centrality = nx.betweenness_centrality(graph)\n",
    "    #betw_values = [v for k, v in betw_centrality.items()]\n",
    "    #stats['avg_betw_centr'] = np.mean(betw_values)\n",
    "    #stats['std_betw_centr'] = np.std(betw_values)\n",
    "\n",
    "    #close_centrality = nx.closeness_centrality(graph)\n",
    "    #close_centr_values = [v for k, v in close_centrality.items()]\n",
    "    #stats['avg_close_centr'] = np.mean(close_centr_values)\n",
    "    #stats['std_close_centr'] = np.std(close_centr_values)\n",
    "\n",
    "    degree_distr = nx.degree(graph)\n",
    "    degree_distr_values = [v for k, v in degree_distr]\n",
    "    stats['avg_degree_distr'] = np.mean(degree_distr_values)\n",
    "    stats['std_degree_distr'] = np.std(degree_distr_values)\n",
    "    sec_moment = [v ** 2 for v in degree_distr_values]\n",
    "    stats['avg_sec_moment'] = np.mean(sec_moment)\n",
    "    stats['std_sec_moment'] = np.std(sec_moment)\n",
    "\n",
    "    ccs = nx.connected_components(nx.to_undirected(graph))\n",
    "    largest_cc_idxs = max(ccs, key=len)\n",
    "    largest_cc = nx.subgraph(graph, largest_cc_idxs)\n",
    "    # stats['avg_path_lengths'] = nx.average_shortest_path_length(largest_cc)\n",
    "    stats['frac_node_in_largest_cc'] = len(largest_cc_idxs) / nx.number_of_nodes(graph)\n",
    "    return stats\n",
    "    "
   ]
  },
  {
   "cell_type": "code",
   "execution_count": 97,
   "id": "dd8a359e-c554-4516-b926-212ca05ac9f7",
   "metadata": {},
   "outputs": [],
   "source": [
    "def degree_distribution(graph):\n",
    "    pass"
   ]
  }
 ],
 "metadata": {
  "kernelspec": {
   "display_name": "Python 3 (ipykernel)",
   "language": "python",
   "name": "python3"
  },
  "language_info": {
   "codemirror_mode": {
    "name": "ipython",
    "version": 3
   },
   "file_extension": ".py",
   "mimetype": "text/x-python",
   "name": "python",
   "nbconvert_exporter": "python",
   "pygments_lexer": "ipython3",
   "version": "3.8.16"
  }
 },
 "nbformat": 4,
 "nbformat_minor": 5
}
