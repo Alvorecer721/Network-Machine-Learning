{
 "cells": [
  {
   "cell_type": "code",
   "execution_count": 1,
   "metadata": {},
   "outputs": [],
   "source": [
    "\n",
    "import sys\n",
    "sys.path.append(\"../\")  # To import utils\n",
    "from utils import list_cities\n",
    "import numpy as np\n",
    "import torch\n",
    "from torch_geometric.loader import DataLoader\n",
    "import xgboost as xgb\n",
    "from training import pyg_train, sklearn_train\n",
    "from models import SimpleGCN\n",
    "from prepare_data import load_features\n",
    "from matplotlib import pyplot as plt\n",
    "\n",
    "%load_ext autoreload\n",
    "%autoreload 2"
   ]
  },
  {
   "attachments": {},
   "cell_type": "markdown",
   "metadata": {},
   "source": [
    "# How to use the API"
   ]
  },
  {
   "attachments": {},
   "cell_type": "markdown",
   "metadata": {},
   "source": [
    "## Average duration regression"
   ]
  },
  {
   "attachments": {},
   "cell_type": "markdown",
   "metadata": {},
   "source": [
    "#### Pytorch geometric"
   ]
  },
  {
   "cell_type": "code",
   "execution_count": 2,
   "metadata": {},
   "outputs": [],
   "source": [
    "all_data = [load_features(city, task=\"link_pred\", neg_sample_ratio=3) for city in list_cities()]"
   ]
  },
  {
   "cell_type": "code",
   "execution_count": 14,
   "metadata": {},
   "outputs": [
    {
     "name": "stderr",
     "output_type": "stream",
     "text": [
      "Classification train...: 100%|██████████| 500/500 [03:35<00:00,  2.32it/s]\n"
     ]
    }
   ],
   "source": [
    "train_split = all_data[:2]\n",
    "valid_split = all_data[2: 5]\n",
    "\n",
    "\n",
    "num_features = 258\n",
    "model = SimpleGCN(num_features, 1, hidden_dim=512)\n",
    "device = \"cpu\"  # mps is the macOS gpu device\n",
    "batch_size = 1\n",
    "optimizer = torch.optim.SGD(model.parameters(), 0.01)\n",
    "criterion = torch.nn.MSELoss()\n",
    "criterion = torch.nn.BCEWithLogitsLoss()\n",
    "num_steps = 500\n",
    "eval_every = 25\n",
    "verbose=True\n",
    "\n",
    "results = pyg_train(\n",
    "    model, \n",
    "    device, \n",
    "    train_split,\n",
    "    valid_split,\n",
    "    optimizer, \n",
    "    criterion, \n",
    "    num_steps=num_steps,\n",
    "    eval_every=eval_every,\n",
    "    batch_size=batch_size,\n",
    "    verbose=verbose,\n",
    "    regression=False\n",
    "    )\n",
    "\n"
   ]
  },
  {
   "cell_type": "code",
   "execution_count": 19,
   "metadata": {},
   "outputs": [
    {
     "data": {
      "text/plain": [
       "[<matplotlib.lines.Line2D at 0x17fa1d940>]"
      ]
     },
     "execution_count": 19,
     "metadata": {},
     "output_type": "execute_result"
    },
    {
     "data": {
      "image/png": "[encoded data removed]",
      "text/plain": [
       "<Figure size 640x480 with 1 Axes>"
      ]
     },
     "metadata": {},
     "output_type": "display_data"
    }
   ],
   "source": [
    "plt.plot(results[\"loss\"][0::2])  # Loss at every step; prbably needs smoothing\n",
    "plt.plot(results[\"loss\"][1::2])  # Loss at every step; prbably needs smoothing\n",
    "# If one graph is bigger, then it will influence the loss more heavily; explain in report, that optimally we could normalize the loss by the graph size"
   ]
  },
  {
   "cell_type": "code",
   "execution_count": 16,
   "metadata": {},
   "outputs": [
    {
     "data": {
      "text/plain": [
       "{'accuracy': array([0.75, 0.75, 0.75, 0.75, 0.75, 0.75, 0.75, 0.75, 0.75, 0.75, 0.75,\n",
       "        0.75, 0.75, 0.75, 0.75, 0.75, 0.75, 0.75, 0.75, 0.75]),\n",
       " 'f1-score': array([0., 0., 0., 0., 0., 0., 0., 0., 0., 0., 0., 0., 0., 0., 0., 0., 0.,\n",
       "        0., 0., 0.]),\n",
       " 'x': array([ 25,  50,  75, 100, 125, 150, 175, 200, 225, 250, 275, 300, 325,\n",
       "        350, 375, 400, 425, 450, 475, 500])}"
      ]
     },
     "execution_count": 16,
     "metadata": {},
     "output_type": "execute_result"
    }
   ],
   "source": [
    "results[\"eval_metrics\"]"
   ]
  },
  {
   "cell_type": "code",
   "execution_count": 77,
   "metadata": {},
   "outputs": [
    {
     "name": "stdout",
     "output_type": "stream",
     "text": [
      "Preparing data...\n",
      "Data prepared\n",
      "Training model...\n",
      "Model trained.\n",
      "Evaluation model...\n",
      "Model evaluated\n"
     ]
    }
   ],
   "source": [
    "tm, vm = sklearn_train(model, train_split, valid_split, \"sum\")"
   ]
  },
  {
   "attachments": {},
   "cell_type": "markdown",
   "metadata": {},
   "source": [
    "#### Classical ML"
   ]
  },
  {
   "cell_type": "code",
   "execution_count": 35,
   "metadata": {},
   "outputs": [],
   "source": [
    "all_data = [load_features(city, task=\"link_pred\", format=\"numpy\", neg_sample_ratio=50) for city in list_cities()]"
   ]
  },
  {
   "cell_type": "code",
   "execution_count": 36,
   "metadata": {},
   "outputs": [
    {
     "name": "stdout",
     "output_type": "stream",
     "text": [
      "Preparing data...\n",
      "Data prepared\n",
      "Training model...\n",
      "Model trained.\n",
      "Evaluation model...\n",
      "Model evaluated\n"
     ]
    }
   ],
   "source": [
    "train_split = all_data[:2]\n",
    "valid_split = all_data[2: 5]\n",
    "\n",
    "model = xgb.XGBRegressor()\n",
    "model = xgb.XGBClassifier()\n",
    "\n",
    "\n",
    "\n",
    "results = sklearn_train(\n",
    "    model,\n",
    "    train_split,\n",
    "    valid_split,\n",
    "    edge_aggr=\"sum\",\n",
    "    normalize_targets=False,  # Very important for link prediction\n",
    "    train_criterions=[\"accuracy\", \"f1\"],\n",
    "    valid_criterions=[\"accuracy\", \"f1\"],\n",
    ")"
   ]
  },
  {
   "cell_type": "code",
   "execution_count": 34,
   "metadata": {},
   "outputs": [
    {
     "data": {
      "text/plain": [
       "(0.9833172922682066, 0.14890840652446674)"
      ]
     },
     "execution_count": 34,
     "metadata": {},
     "output_type": "execute_result"
    }
   ],
   "source": [
    "# Look into xgb parameters to avoid overfitting\n",
    "results[\"train_metrics\"][\"f1\"], results[\"valid_metrics\"][\"f1\"]"
   ]
  },
  {
   "attachments": {},
   "cell_type": "markdown",
   "metadata": {},
   "source": [
    "#### Link prediction"
   ]
  },
  {
   "cell_type": "code",
   "execution_count": 27,
   "metadata": {},
   "outputs": [
    {
     "name": "stdout",
     "output_type": "stream",
     "text": [
      "Preparing data...\n",
      "Data prepared\n",
      "Training model...\n",
      "Model trained.\n",
      "Evaluation model...\n",
      "Model evaluated\n"
     ]
    }
   ],
   "source": [
    "all_data = [load_features(city, task=\"link_pred\", format=\"numpy\", neg_sample_ratio=3.0) \n",
    "            for city in list_cities()]\n",
    "\n",
    "train_split = all_data[:2]\n",
    "valid_split = all_data[2: 5]\n",
    "\n",
    "model = xgb.XGBClassifier()\n",
    "\n",
    "results = sklearn_train(\n",
    "    model,\n",
    "    train_split,\n",
    "    valid_split,\n",
    "    edge_aggr=\"sum\",\n",
    "    normalize_targets=False,\n",
    ")\n"
   ]
  },
  {
   "cell_type": "code",
   "execution_count": 29,
   "metadata": {},
   "outputs": [
    {
     "data": {
      "text/plain": [
       "(0.06330853816300129, 0.48877053388090347)"
      ]
     },
     "execution_count": 29,
     "metadata": {},
     "output_type": "execute_result"
    }
   ],
   "source": [
    "results[\"train_metrics\"][\"mse\"], results[\"valid_metrics\"][\"mse\"]"
   ]
  },
  {
   "cell_type": "code",
   "execution_count": null,
   "metadata": {},
   "outputs": [],
   "source": []
  }
 ],
 "metadata": {
  "kernelspec": {
   "display_name": "networks_ml",
   "language": "python",
   "name": "python3"
  },
  "language_info": {
   "codemirror_mode": {
    "name": "ipython",
    "version": 3
   },
   "file_extension": ".py",
   "mimetype": "text/x-python",
   "name": "python",
   "nbconvert_exporter": "python",
   "pygments_lexer": "ipython3",
   "version": "3.8.16"
  },
  "orig_nbformat": 4
 },
 "nbformat": 4,
 "nbformat_minor": 2
}
