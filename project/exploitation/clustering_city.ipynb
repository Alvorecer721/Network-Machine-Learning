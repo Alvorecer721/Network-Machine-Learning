{
 "cells": [
  {
   "cell_type": "markdown",
   "metadata": {
    "id": "view-in-github"
   },
   "source": [
    "<a href=\"https://colab.research.google.com/github/deschena/networks_ml_epfl/blob/main/project/exploitation/clustering_city.ipynb\" target=\"_parent\"><img src=\"https://colab.research.google.com/assets/colab-badge.svg\" alt=\"Open In Colab\"/></a>"
   ]
  },
  {
   "cell_type": "code",
   "source": [
    "!pip install grakel einops torch_geometric node2vec bayesian-optimization optuna"
   ],
   "metadata": {
    "id": "B9kYJWB-4DLZ",
    "ExecuteTime": {
     "end_time": "2023-06-08T20:17:22.766507Z",
     "start_time": "2023-06-08T20:16:29.602429Z"
    }
   },
   "execution_count": null,
   "outputs": []
  },
  {
   "cell_type": "code",
   "source": [
    "%load_ext autoreload\n",
    "%autoreload 2"
   ],
   "metadata": {
    "id": "LM7Na5zh3zO1",
    "ExecuteTime": {
     "end_time": "2023-06-09T12:05:47.888714Z",
     "start_time": "2023-06-09T12:05:47.867177Z"
    }
   },
   "execution_count": 1,
   "outputs": []
  },
  {
   "cell_type": "markdown",
   "source": [
    "## Colab Setup"
   ],
   "metadata": {
    "id": "xuPGBdNo-mtj"
   }
  },
  {
   "cell_type": "code",
   "source": [
    "from google.colab import drive\n",
    "drive.mount('/content/drive')"
   ],
   "metadata": {
    "colab": {
     "base_uri": "https://localhost:8080/"
    },
    "id": "jpHUox3bA18F",
    "outputId": "424b8353-4860-4ccd-a564-d0d97e73466d"
   },
   "execution_count": 161,
   "outputs": [
    {
     "output_type": "stream",
     "name": "stdout",
     "text": [
      "Drive already mounted at /content/drive; to attempt to forcibly remount, call drive.mount(\"/content/drive\", force_remount=True).\n"
     ]
    }
   ]
  },
  {
   "cell_type": "code",
   "source": [
    "import sys\n",
    "sys.path.append(\"/content/drive/MyDrive/EPFL/Network_ML/Project\")  # To import utils\n",
    "\n",
    "from utils import *\n",
    "import numpy as np\n",
    "import networkx as nx\n",
    "from tqdm import tqdm\n",
    "import pickle\n",
    "np.random.seed(42)\n",
    "\n",
    "import warnings\n",
    "warnings.filterwarnings('ignore', category=UserWarning)\n",
    "\n",
    "%load_ext autoreload\n",
    "%autoreload 2"
   ],
   "metadata": {
    "id": "vyeen7vm-l-Z",
    "colab": {
     "base_uri": "https://localhost:8080/"
    },
    "outputId": "dfc32df4-9c18-4c72-d841-b7e48ecf639f"
   },
   "execution_count": 162,
   "outputs": [
    {
     "output_type": "stream",
     "name": "stdout",
     "text": [
      "The autoreload extension is already loaded. To reload it, use:\n",
      "  %reload_ext autoreload\n"
     ]
    }
   ]
  },
  {
   "cell_type": "code",
   "source": [
    "%cd /content/drive/MyDrive/EPFL/Network_ML/Project/exploitation"
   ],
   "metadata": {
    "colab": {
     "base_uri": "https://localhost:8080/"
    },
    "id": "kzdZM2nBGSkb",
    "outputId": "5ad97f8d-29f6-4eed-93bc-e549d9b90636"
   },
   "execution_count": 163,
   "outputs": [
    {
     "output_type": "stream",
     "name": "stdout",
     "text": [
      "/content/drive/MyDrive/EPFL/Network_ML/Project/exploitation\n"
     ]
    }
   ]
  },
  {
   "cell_type": "code",
   "source": [
    "from training import *\n",
    "from models import *\n",
    "from prepare_data import load_features\n",
    "from matplotlib import pyplot as plt\n",
    "import optuna\n",
    "from optuna.samplers import RandomSampler\n",
    "import xgboost as xgb"
   ],
   "metadata": {
    "id": "7-qv-e6X34rM"
   },
   "execution_count": 164,
   "outputs": []
  },
  {
   "cell_type": "code",
   "source": [
    "model_type=SimpleGCN"
   ],
   "metadata": {
    "id": "j-IGJgIMqGuH"
   },
   "execution_count": 165,
   "outputs": []
  },
  {
   "cell_type": "code",
   "source": [
    "target_city = 'paris'\n",
    "num_neighbour = 5\n",
    "device = \"cuda\"\n",
    "num_features = 258\n",
    "all_cities = list_cities()\n",
    "graph_list = [load_graph(city, transport) for city in tqdm(all_cities) for transport in [\"combined\"]]\n",
    "K = compute_graph_kernels(graph_list, n_samples=15)\n",
    "neighbouring_cities = get_neighbouring_cities(target_city, all_cities, K, num_neighbour)\n",
    "print(neighbouring_cities)"
   ],
   "metadata": {
    "colab": {
     "base_uri": "https://localhost:8080/"
    },
    "id": "edCDma6H43Zf",
    "outputId": "96b9a0d6-1c3b-463e-f671-862431e2d0f7",
    "ExecuteTime": {
     "end_time": "2023-06-09T15:26:02.611587Z",
     "start_time": "2023-06-09T15:25:35.694672Z"
    }
   },
   "execution_count": 36,
   "outputs": [
    {
     "name": "stderr",
     "output_type": "stream",
     "text": [
      "100%|██████████| 25/25 [00:14<00:00,  1.69it/s]\n",
      "100%|██████████| 25/25 [00:01<00:00, 15.35it/s]\n",
      "/Users/xuyixuan/opt/anaconda3/envs/Network_ML/lib/python3.9/site-packages/grakel/graph_kernels.py:495: UserWarning: Kernel List not empty while reaching a base-kernel - the rest kernel names will be ignored\n",
      "  warnings.warn('Kernel List not empty while reaching a base-kernel - '\n"
     ]
    },
    {
     "name": "stdout",
     "output_type": "stream",
     "text": [
      "['paris', 'grenoble', 'brisbane', 'helsinki', 'prague', 'melbourne']\n"
     ]
    }
   ]
  },
  {
   "cell_type": "markdown",
   "source": [
    "## Local Setup"
   ],
   "metadata": {
    "id": "6b1ktYr1-r6t"
   }
  },
  {
   "cell_type": "code",
   "execution_count": 1,
   "metadata": {
    "id": "vD6pf2EJ-jsq",
    "ExecuteTime": {
     "end_time": "2023-06-09T13:12:39.278370Z",
     "start_time": "2023-06-09T13:12:38.503905Z"
    }
   },
   "outputs": [],
   "source": [
    "import sys\n",
    "sys.path.append(\"../\")  # To import utils\n",
    "\n",
    "from utils import *\n",
    "import numpy as np\n",
    "import networkx as nx\n",
    "from tqdm import tqdm\n",
    "import pickle\n",
    "np.random.seed(42)"
   ]
  },
  {
   "cell_type": "code",
   "execution_count": 2,
   "outputs": [],
   "source": [
    "from prepare_data import load_features\n",
    "from training import *\n",
    "from models import *\n",
    "import optuna\n",
    "from optuna.samplers import RandomSampler"
   ],
   "metadata": {
    "id": "tTOMBJ7X4fHG",
    "ExecuteTime": {
     "end_time": "2023-06-09T13:12:41.970445Z",
     "start_time": "2023-06-09T13:12:39.278570Z"
    }
   }
  },
  {
   "cell_type": "code",
   "execution_count": 3,
   "outputs": [
    {
     "name": "stderr",
     "output_type": "stream",
     "text": [
      "100%|██████████| 25/25 [00:13<00:00,  1.86it/s]\n",
      "100%|██████████| 25/25 [00:00<00:00, 49.14it/s]\n",
      "/Users/xuyixuan/opt/anaconda3/envs/Network_ML/lib/python3.9/site-packages/grakel/graph_kernels.py:495: UserWarning: Kernel List not empty while reaching a base-kernel - the rest kernel names will be ignored\n",
      "  warnings.warn('Kernel List not empty while reaching a base-kernel - '\n"
     ]
    },
    {
     "name": "stdout",
     "output_type": "stream",
     "text": [
      "['paris', 'winnipeg', 'melbourne', 'luxembourg', 'venice', 'belfast']\n"
     ]
    }
   ],
   "source": [
    "target_city = 'paris'\n",
    "num_neighbour = 5\n",
    "device = \"cpu\"\n",
    "num_features = 258\n",
    "all_cities = list_cities()\n",
    "graph_list = [load_graph(city, transport) for city in tqdm(all_cities) for transport in [\"combined\"]]\n",
    "K = compute_graph_kernels(graph_list, n_samples=18)\n",
    "neighbouring_cities = get_neighbouring_cities(target_city, all_cities, K, num_neighbour)\n",
    "print(neighbouring_cities)"
   ],
   "metadata": {
    "id": "vizEdWqx4fHG",
    "outputId": "b096ea42-079b-4b6d-b8f3-0f9c83737d49",
    "ExecuteTime": {
     "end_time": "2023-06-09T13:13:05.775571Z",
     "start_time": "2023-06-09T13:12:41.972804Z"
    }
   }
  },
  {
   "cell_type": "markdown",
   "source": [
    "## Duration Regression"
   ],
   "metadata": {
    "id": "8RLGjNnHBZdi"
   }
  },
  {
   "cell_type": "code",
   "source": [
    "data = [load_features(city, task=\"duration_regr\") for city in neighbouring_cities]\n",
    "train_split = data[2:] # Bottom k-1 for training\n",
    "valid_split = data[1:2] # Top 1 for validating\n",
    "test_split  = data[:1]"
   ],
   "metadata": {
    "id": "SCN31hHkNpqd",
    "ExecuteTime": {
     "end_time": "2023-06-09T02:25:11.767942Z",
     "start_time": "2023-06-09T02:25:11.687923Z"
    }
   },
   "execution_count": 167,
   "outputs": []
  },
  {
   "cell_type": "markdown",
   "source": [
    "### Bayesian Optimisation"
   ],
   "metadata": {
    "id": "mObSS9sjlCis"
   }
  },
  {
   "cell_type": "code",
   "source": [
    "from bayes_opt import BayesianOptimization\n",
    "\n",
    "# Bounded region of parameter space\n",
    "pbounds = {'lr': (1e-5, 1e-3), 'weight_decay': (1e-5, 1e-3), 'hidden_dim': (512, 1028)}\n",
    "\n",
    "\n",
    "tuner = BayesianOptimization(\n",
    "    f=lambda lr, weight_decay, hidden_dim: tuning_model(lr, weight_decay, hidden_dim, \n",
    "                                                        device=device,\n",
    "                                                        model_type=model_type,\n",
    "                                                        num_features=num_features,\n",
    "                                                        train_split=train_split,\n",
    "                                                        valid_split=valid_split,\n",
    "                                                        criterion=torch.nn.MSELoss(),\n",
    "                                                        regression=True),\n",
    "    pbounds=pbounds,\n",
    "    random_state=1,\n",
    ")\n",
    "\n",
    "tuner.maximize(\n",
    "    init_points=5,\n",
    "    n_iter=20,\n",
    ")\n",
    "\n",
    "optimal_params = tuner.max['params']\n"
   ],
   "metadata": {
    "colab": {
     "base_uri": "https://localhost:8080/"
    },
    "id": "jth-6WFL6hCH",
    "outputId": "cba54139-5504-4dc7-bfd8-759dc612c47c"
   },
   "execution_count": null,
   "outputs": [
    {
     "output_type": "stream",
     "name": "stdout",
     "text": [
      "|   iter    |  target   | hidden... |    lr     | weight... |\n",
      "-------------------------------------------------------------\n",
      "| \u001B[0m1        \u001B[0m | \u001B[0m-0.914   \u001B[0m | \u001B[0m727.2    \u001B[0m | \u001B[0m0.0007231\u001B[0m | \u001B[0m1.011e-05\u001B[0m |\n",
      "| \u001B[0m2        \u001B[0m | \u001B[0m-0.9211  \u001B[0m | \u001B[0m668.0    \u001B[0m | \u001B[0m0.0001553\u001B[0m | \u001B[0m0.0001014\u001B[0m |\n",
      "| \u001B[95m3        \u001B[0m | \u001B[95m-0.8935  \u001B[0m | \u001B[95m608.1    \u001B[0m | \u001B[95m0.0003521\u001B[0m | \u001B[95m0.0004028\u001B[0m |\n",
      "| \u001B[0m4        \u001B[0m | \u001B[0m-0.9159  \u001B[0m | \u001B[0m790.0    \u001B[0m | \u001B[0m0.000425 \u001B[0m | \u001B[0m0.0006884\u001B[0m |\n",
      "| \u001B[0m5        \u001B[0m | \u001B[0m-0.933   \u001B[0m | \u001B[0m617.5    \u001B[0m | \u001B[0m0.0008793\u001B[0m | \u001B[0m3.711e-05\u001B[0m |\n",
      "| \u001B[0m6        \u001B[0m | \u001B[0m-0.8989  \u001B[0m | \u001B[0m608.3    \u001B[0m | \u001B[0m0.0004228\u001B[0m | \u001B[0m0.0002256\u001B[0m |\n",
      "| \u001B[0m7        \u001B[0m | \u001B[0m-0.9087  \u001B[0m | \u001B[0m607.6    \u001B[0m | \u001B[0m0.0008806\u001B[0m | \u001B[0m0.000732 \u001B[0m |\n",
      "| \u001B[0m8        \u001B[0m | \u001B[0m-0.902   \u001B[0m | \u001B[0m609.4    \u001B[0m | \u001B[0m0.0002182\u001B[0m | \u001B[0m0.0002315\u001B[0m |\n",
      "| \u001B[95m9        \u001B[0m | \u001B[95m-0.8691  \u001B[0m | \u001B[95m629.4    \u001B[0m | \u001B[95m0.000164 \u001B[0m | \u001B[95m0.0009478\u001B[0m |\n",
      "| \u001B[0m10       \u001B[0m | \u001B[0m-0.922   \u001B[0m | \u001B[0m886.7    \u001B[0m | \u001B[0m0.0007313\u001B[0m | \u001B[0m0.0002027\u001B[0m |\n",
      "| \u001B[0m11       \u001B[0m | \u001B[0m-0.8957  \u001B[0m | \u001B[0m629.7    \u001B[0m | \u001B[0m0.0001361\u001B[0m | \u001B[0m0.0002721\u001B[0m |\n",
      "| \u001B[0m12       \u001B[0m | \u001B[0m-0.9198  \u001B[0m | \u001B[0m1.005e+03\u001B[0m | \u001B[0m0.0006674\u001B[0m | \u001B[0m0.000476 \u001B[0m |\n",
      "| \u001B[0m13       \u001B[0m | \u001B[0m-0.8836  \u001B[0m | \u001B[0m764.2    \u001B[0m | \u001B[0m0.0008428\u001B[0m | \u001B[0m0.0009793\u001B[0m |\n",
      "| \u001B[0m14       \u001B[0m | \u001B[0m-0.8927  \u001B[0m | \u001B[0m629.1    \u001B[0m | \u001B[0m0.0005918\u001B[0m | \u001B[0m0.0008127\u001B[0m |\n",
      "| \u001B[0m15       \u001B[0m | \u001B[0m-0.9073  \u001B[0m | \u001B[0m763.9    \u001B[0m | \u001B[0m0.0004921\u001B[0m | \u001B[0m0.0006027\u001B[0m |\n",
      "| \u001B[0m16       \u001B[0m | \u001B[0m-0.9026  \u001B[0m | \u001B[0m861.4    \u001B[0m | \u001B[0m0.0005524\u001B[0m | \u001B[0m0.0003894\u001B[0m |\n",
      "| \u001B[0m17       \u001B[0m | \u001B[0m-0.8762  \u001B[0m | \u001B[0m584.6    \u001B[0m | \u001B[0m0.000148 \u001B[0m | \u001B[0m0.0003237\u001B[0m |\n",
      "| \u001B[0m18       \u001B[0m | \u001B[0m-0.9323  \u001B[0m | \u001B[0m653.4    \u001B[0m | \u001B[0m0.0007667\u001B[0m | \u001B[0m7.62e-05 \u001B[0m |\n",
      "| \u001B[0m19       \u001B[0m | \u001B[0m-0.9002  \u001B[0m | \u001B[0m584.4    \u001B[0m | \u001B[0m0.0008772\u001B[0m | \u001B[0m0.0007981\u001B[0m |\n",
      "| \u001B[0m20       \u001B[0m | \u001B[0m-0.8792  \u001B[0m | \u001B[0m820.7    \u001B[0m | \u001B[0m0.0001216\u001B[0m | \u001B[0m0.0001256\u001B[0m |\n",
      "| \u001B[0m21       \u001B[0m | \u001B[0m-0.9179  \u001B[0m | \u001B[0m828.6    \u001B[0m | \u001B[0m0.0005618\u001B[0m | \u001B[0m0.0006571\u001B[0m |\n",
      "| \u001B[0m22       \u001B[0m | \u001B[0m-0.8941  \u001B[0m | \u001B[0m584.6    \u001B[0m | \u001B[0m0.0004333\u001B[0m | \u001B[0m0.0008405\u001B[0m |\n",
      "| \u001B[0m23       \u001B[0m | \u001B[0m-0.9211  \u001B[0m | \u001B[0m629.4    \u001B[0m | \u001B[0m0.0005301\u001B[0m | \u001B[0m0.0009884\u001B[0m |\n",
      "| \u001B[0m24       \u001B[0m | \u001B[0m-0.9053  \u001B[0m | \u001B[0m751.4    \u001B[0m | \u001B[0m0.0001445\u001B[0m | \u001B[0m0.0005717\u001B[0m |\n",
      "| \u001B[0m25       \u001B[0m | \u001B[0m-0.922   \u001B[0m | \u001B[0m982.3    \u001B[0m | \u001B[0m0.0006264\u001B[0m | \u001B[0m0.0009696\u001B[0m |\n",
      "=============================================================\n"
     ]
    }
   ]
  },
  {
   "cell_type": "markdown",
   "source": [
    "### Random Sampling Optimisation"
   ],
   "metadata": {
    "id": "2bk7RiatlOWV"
   }
  },
  {
   "cell_type": "code",
   "source": [
    "study = optuna.create_study(sampler=RandomSampler(seed=1))\n",
    "objective = create_objective_pyg(device=device,\n",
    "                                 model_type=model_type,\n",
    "                                 num_features=num_features,\n",
    "                                 train=train_split,\n",
    "                                 valid=valid_split,\n",
    "                                 criterion=torch.nn.MSELoss(),\n",
    "                                 regression=True)\n",
    "study.optimize(objective, n_trials=25)"
   ],
   "metadata": {
    "colab": {
     "base_uri": "https://localhost:8080/"
    },
    "id": "_y3HDIgYpaEh",
    "outputId": "3fc3695c-3ba3-491b-affb-f033d25924c4",
    "ExecuteTime": {
     "end_time": "2023-06-09T03:51:42.247753Z",
     "start_time": "2023-06-09T02:28:14.292560Z"
    }
   },
   "execution_count": 168,
   "outputs": [
    {
     "output_type": "stream",
     "name": "stderr",
     "text": [
      "[I 2023-06-09 10:55:05,344] A new study created in memory with name: no-name-bc71312e-d7c2-4240-bc07-96d284ab4e1b\n",
      "[I 2023-06-09 10:55:06,200] Trial 0 finished with value: -0.876021095938521 and parameters: {'lr': 0.0004228517846555483, 'weight_decay': 0.0007231212485077365, 'hidden_dim': 512}. Best is trial 0 with value: -0.876021095938521.\n",
      "[I 2023-06-09 10:55:07,097] Trial 1 finished with value: -0.8775384729325237 and parameters: {'lr': 0.0003093092469055214, 'weight_decay': 0.0001552883319089419, 'hidden_dim': 559}. Best is trial 1 with value: -0.8775384729325237.\n",
      "[I 2023-06-09 10:55:08,171] Trial 2 finished with value: -0.8698804471206761 and parameters: {'lr': 0.00019439760926389418, 'weight_decay': 0.0003521051197726173, 'hidden_dim': 717}. Best is trial 1 with value: -0.8775384729325237.\n",
      "[I 2023-06-09 10:55:09,474] Trial 3 finished with value: -0.8737675979653923 and parameters: {'lr': 0.0005434285666633233, 'weight_decay': 0.00042500256925926186, 'hidden_dim': 866}. Best is trial 1 with value: -0.8775384729325237.\n",
      "[I 2023-06-09 10:55:10,360] Trial 4 finished with value: -0.8709315675027672 and parameters: {'lr': 0.00021240772723420226, 'weight_decay': 0.000879336262027036, 'hidden_dim': 526}. Best is trial 1 with value: -0.8775384729325237.\n",
      "[I 2023-06-09 10:55:11,568] Trial 5 finished with value: -0.8785777855741703 and parameters: {'lr': 0.0006737628350766183, 'weight_decay': 0.00042313175434345574, 'hidden_dim': 800}. Best is trial 5 with value: -0.8785777855741703.\n",
      "[I 2023-06-09 10:55:12,965] Trial 6 finished with value: -0.8687741996633017 and parameters: {'lr': 0.00014898306920928142, 'weight_decay': 0.00020612047419403, 'hidden_dim': 925}. Best is trial 5 with value: -0.8785777855741703.\n",
      "[I 2023-06-09 10:55:14,265] Trial 7 finished with value: -0.8903091941549853 and parameters: {'lr': 0.0009685789599622036, 'weight_decay': 0.0003202899363776504, 'hidden_dim': 869}. Best is trial 7 with value: -0.8903091941549853.\n",
      "[I 2023-06-09 10:55:15,145] Trial 8 finished with value: -0.8844378876988851 and parameters: {'lr': 0.000877625260773078, 'weight_decay': 0.0008956605968688089, 'hidden_dim': 555}. Best is trial 7 with value: -0.8903091941549853.\n",
      "[I 2023-06-09 10:55:16,618] Trial 9 finished with value: -0.8580483687289783 and parameters: {'lr': 4.8664235400553536e-05, 'weight_decay': 0.00017813211536892322, 'hidden_dim': 965}. Best is trial 7 with value: -0.8903091941549853.\n",
      "[I 2023-06-09 10:55:18,159] Trial 10 finished with value: -0.8668743289760641 and parameters: {'lr': 0.0001073633654947196, 'weight_decay': 0.0004268965487550017, 'hidden_dim': 1007}. Best is trial 7 with value: -0.8903091941549853.\n",
      "[I 2023-06-09 10:55:19,195] Trial 11 finished with value: -0.8781139617443361 and parameters: {'lr': 0.0005378336321232869, 'weight_decay': 0.0006949583428109686, 'hidden_dim': 675}. Best is trial 7 with value: -0.8903091941549853.\n",
      "[I 2023-06-09 10:55:20,077] Trial 12 finished with value: -0.8875954616946341 and parameters: {'lr': 0.0006896359184047679, 'weight_decay': 0.0008362794151783992, 'hidden_dim': 521}. Best is trial 7 with value: -0.8903091941549853.\n",
      "[I 2023-06-09 10:55:21,449] Trial 13 finished with value: -0.8808613034922937 and parameters: {'lr': 0.0007526428717955178, 'weight_decay': 0.0009889724780174297, 'hidden_dim': 898}. Best is trial 7 with value: -0.8903091941549853.\n",
      "[I 2023-06-09 10:55:22,347] Trial 14 finished with value: -0.8780249012541972 and parameters: {'lr': 0.0002876395521437612, 'weight_decay': 0.0007913865351669736, 'hidden_dim': 565}. Best is trial 7 with value: -0.8903091941549853.\n",
      "[I 2023-06-09 10:55:23,364] Trial 15 finished with value: -0.8762353623238266 and parameters: {'lr': 0.00045341459091414614, 'weight_decay': 0.0009095095480621646, 'hidden_dim': 663}. Best is trial 7 with value: -0.8903091941549853.\n",
      "[I 2023-06-09 10:55:24,251] Trial 16 finished with value: -0.8828274885947596 and parameters: {'lr': 0.00029489758520048526, 'weight_decay': 0.00013872828639709489, 'hidden_dim': 522}. Best is trial 7 with value: -0.8903091941549853.\n",
      "[I 2023-06-09 10:55:25,284] Trial 17 finished with value: -0.8722098346776799 and parameters: {'lr': 0.000682047177610492, 'weight_decay': 0.00021951183484005844, 'hidden_dim': 649}. Best is trial 7 with value: -0.8903091941549853.\n",
      "[I 2023-06-09 10:55:26,492] Trial 18 finished with value: -0.8732586972786138 and parameters: {'lr': 0.0004966574276875349, 'weight_decay': 6.282891966590958e-05, 'hidden_dim': 808}. Best is trial 7 with value: -0.8903091941549853.\n",
      "[I 2023-06-09 10:55:27,800] Trial 19 finished with value: -0.8674658594916433 and parameters: {'lr': 0.00015526128915675205, 'weight_decay': 0.0005934124815342515, 'hidden_dim': 873}. Best is trial 7 with value: -0.8903091941549853.\n",
      "[I 2023-06-09 10:55:29,102] Trial 20 finished with value: -0.865698145451101 and parameters: {'lr': 0.00011131108453954758, 'weight_decay': 0.00041991542794137264, 'hidden_dim': 871}. Best is trial 7 with value: -0.8903091941549853.\n",
      "[I 2023-06-09 10:55:30,284] Trial 21 finished with value: -0.8780374938154146 and parameters: {'lr': 0.00042003747683163364, 'weight_decay': 5.9453924356626284e-05, 'hidden_dim': 789}. Best is trial 7 with value: -0.8903091941549853.\n",
      "[I 2023-06-09 10:55:31,798] Trial 22 finished with value: -0.8924661645432749 and parameters: {'lr': 0.0006671566987675909, 'weight_decay': 0.0005197402209377255, 'hidden_dim': 1000}. Best is trial 22 with value: -0.8924661645432749.\n",
      "[I 2023-06-09 10:55:32,713] Trial 23 finished with value: -0.8727675979050797 and parameters: {'lr': 0.000590689490096973, 'weight_decay': 0.0009043678961350046, 'hidden_dim': 583}. Best is trial 22 with value: -0.8924661645432749.\n",
      "[I 2023-06-09 10:55:33,787] Trial 24 finished with value: -0.8676340139250829 and parameters: {'lr': 0.00014788358377825097, 'weight_decay': 0.0008093173758224286, 'hidden_dim': 717}. Best is trial 22 with value: -0.8924661645432749.\n"
     ]
    }
   ]
  },
  {
   "cell_type": "code",
   "source": [
    "optimal_params = study.best_params\n",
    "print(optimal_params)"
   ],
   "metadata": {
    "colab": {
     "base_uri": "https://localhost:8080/"
    },
    "id": "4RIUBWycwYjV",
    "outputId": "fd8e1a86-c6e6-4e82-a8ce-30d3f7757410",
    "ExecuteTime": {
     "end_time": "2023-06-09T03:51:42.251619Z",
     "start_time": "2023-06-09T03:51:42.249248Z"
    }
   },
   "execution_count": 169,
   "outputs": [
    {
     "output_type": "stream",
     "name": "stdout",
     "text": [
      "{'lr': 0.0006671566987675909, 'weight_decay': 0.0005197402209377255, 'hidden_dim': 1000}\n"
     ]
    }
   ]
  },
  {
   "cell_type": "markdown",
   "source": [
    "### Our Model"
   ],
   "metadata": {
    "id": "_L3ywDfbpbVR"
   }
  },
  {
   "cell_type": "code",
   "source": [
    "batch_size = 1\n",
    "num_steps = 1000\n",
    "eval_every = 100\n",
    "verbose=False\n",
    "\n",
    "optimal_hidden_dim = int(optimal_params['hidden_dim'])  # make sure to cast to int because the optimizer works with float\n",
    "optimal_lr = optimal_params['lr']\n",
    "optimal_weight_decay = optimal_params['weight_decay']\n",
    "\n",
    "model = model_type(258, 1, hidden_dim=optimal_hidden_dim)\n",
    "model = model.to(device)\n",
    "\n",
    "# Initialize your optimizer with the optimal learning rate and weight decay\n",
    "optimizer = torch.optim.SGD(model.parameters(), lr=optimal_lr, weight_decay=optimal_weight_decay)\n",
    "criterion = torch.nn.MSELoss()\n",
    "\n",
    "results = pyg_train(\n",
    "    model, \n",
    "    device, \n",
    "    train_split+valid_split,\n",
    "    test_split,\n",
    "    optimizer, \n",
    "    criterion, \n",
    "    num_steps=num_steps,\n",
    "    eval_every=eval_every,\n",
    "    batch_size=batch_size,\n",
    "    verbose=verbose,\n",
    "    regression=True\n",
    "    )\n"
   ],
   "metadata": {
    "id": "dNKwwS6gPHBS",
    "ExecuteTime": {
     "end_time": "2023-06-09T04:14:39.875024Z",
     "start_time": "2023-06-09T03:51:42.255324Z"
    }
   },
   "execution_count": 170,
   "outputs": []
  },
  {
   "cell_type": "code",
   "source": [
    "plot_loss(results[\"loss\"], neighbouring_cities, target_city=target_city)"
   ],
   "metadata": {
    "colab": {
     "base_uri": "https://localhost:8080/",
     "height": 399
    },
    "id": "LwzeXRGxbO1q",
    "outputId": "1d8ad955-169e-4c69-da72-0bf9449c60a4",
    "ExecuteTime": {
     "end_time": "2023-06-09T04:14:40.112084Z",
     "start_time": "2023-06-09T04:14:39.878253Z"
    }
   },
   "execution_count": 171,
   "outputs": [
    {
     "output_type": "display_data",
     "data": {
      "text/plain": [
       "<Figure size 640x480 with 1 Axes>"
      ],
      "image/png": "[encoded data removed]"
     },
     "metadata": {}
    }
   ]
  },
  {
   "cell_type": "code",
   "source": [
    "plot_eval(results[\"eval_metrics\"])"
   ],
   "metadata": {
    "colab": {
     "base_uri": "https://localhost:8080/",
     "height": 412
    },
    "id": "qDxGoBqfaqA9",
    "outputId": "fe6a1b09-7eb6-4bf5-a167-7e73fde2e86d",
    "ExecuteTime": {
     "end_time": "2023-06-09T04:14:40.206382Z",
     "start_time": "2023-06-09T04:14:40.111726Z"
    }
   },
   "execution_count": 172,
   "outputs": [
    {
     "output_type": "display_data",
     "data": {
      "text/plain": [
       "<Figure size 640x480 with 1 Axes>"
      ],
      "image/png": "[encoded data removed]"
     },
     "metadata": {}
    }
   ]
  },
  {
   "cell_type": "code",
   "source": [
    "results[\"eval_metrics\"]"
   ],
   "metadata": {
    "colab": {
     "base_uri": "https://localhost:8080/"
    },
    "id": "VSsGWe7Sjslt",
    "outputId": "8e06b396-d21f-4a6b-dbe6-ca4c4e552ae1"
   },
   "execution_count": 173,
   "outputs": [
    {
     "output_type": "execute_result",
     "data": {
      "text/plain": [
       "{'mse': array([0.63313574, 0.58306044, 0.58775753, 0.60664266, 0.62845504,\n",
       "        0.64956665, 0.66873825, 0.68560195, 0.70014304, 0.71249747]),\n",
       " 'mae': array([0.38397107, 0.40574721, 0.44545427, 0.48139527, 0.51156473,\n",
       "        0.53638309, 0.55681145, 0.57356727, 0.58724415, 0.59839672]),\n",
       " 'x': array([ 100,  200,  300,  400,  500,  600,  700,  800,  900, 1000])}"
      ]
     },
     "metadata": {},
     "execution_count": 173
    }
   ]
  },
  {
   "cell_type": "markdown",
   "source": [
    "### Baseline Model"
   ],
   "metadata": {
    "id": "mOt0zzmamoRH"
   }
  },
  {
   "cell_type": "code",
   "source": [
    "data = [load_features(city, task=\"duration_regr\") for city in all_cities]\n",
    "\n",
    "city_index = all_cities.index(target_city)\n",
    "train_split = data[:city_index] + data[city_index+1:]\n",
    "valid_split = data[city_index:city_index+1]"
   ],
   "metadata": {
    "id": "FKvhcQC7FVgi",
    "ExecuteTime": {
     "end_time": "2023-06-09T04:14:40.414613Z",
     "start_time": "2023-06-09T04:14:40.208273Z"
    }
   },
   "execution_count": 174,
   "outputs": []
  },
  {
   "cell_type": "code",
   "source": [
    "model = model_type(258, 1, hidden_dim=optimal_hidden_dim)\n",
    "model = model.to(device)\n",
    "\n",
    "optimizer = torch.optim.SGD(model.parameters(), lr=optimal_lr, weight_decay=optimal_weight_decay)\n",
    "criterion = torch.nn.MSELoss()\n",
    "\n",
    "results = pyg_train(\n",
    "    model, \n",
    "    device, \n",
    "    train_split,\n",
    "    valid_split,\n",
    "    optimizer, \n",
    "    criterion, \n",
    "    num_steps=num_steps,\n",
    "    eval_every=eval_every,\n",
    "    batch_size=batch_size,\n",
    "    verbose=verbose,\n",
    "    regression=True\n",
    "    )"
   ],
   "metadata": {
    "id": "_IPLRkqdGcOj",
    "ExecuteTime": {
     "end_time": "2023-06-09T04:29:15.458535Z",
     "start_time": "2023-06-09T04:14:40.416789Z"
    }
   },
   "execution_count": 175,
   "outputs": []
  },
  {
   "cell_type": "code",
   "source": [
    "def plot_loss(loss, cities, target_city):\n",
    "    neighbours = [city for city in cities if city != target_city]\n",
    "    num_neighbour = len(neighbours)\n",
    "    for i in range(num_neighbour):\n",
    "        plt.plot(results[\"loss\"][i::num_neighbour],label=neighbours[i])\n",
    "    plt.xlabel('Iteration')\n",
    "    plt.ylabel('Loss')\n",
    "    plt.legend(bbox_to_anchor=(1.05, 1), loc='upper left')"
   ],
   "metadata": {
    "id": "3_cko9Gir7ue",
    "ExecuteTime": {
     "end_time": "2023-06-09T04:29:15.461837Z",
     "start_time": "2023-06-09T04:29:15.459075Z"
    }
   },
   "execution_count": 176,
   "outputs": []
  },
  {
   "cell_type": "code",
   "source": [
    "plot_loss(results[\"loss\"], all_cities, target_city=target_city)"
   ],
   "metadata": {
    "colab": {
     "base_uri": "https://localhost:8080/",
     "height": 484
    },
    "id": "uIfjCZPynT0l",
    "outputId": "b1105c44-3fe0-4a83-8031-bbc3d9331366",
    "ExecuteTime": {
     "end_time": "2023-06-09T04:29:15.684440Z",
     "start_time": "2023-06-09T04:29:15.463962Z"
    }
   },
   "execution_count": 177,
   "outputs": [
    {
     "output_type": "display_data",
     "data": {
      "text/plain": [
       "<Figure size 640x480 with 1 Axes>"
      ],
      "image/png": "[encoded data removed]"
     },
     "metadata": {}
    }
   ]
  },
  {
   "cell_type": "code",
   "source": [
    "plot_eval(results[\"eval_metrics\"])"
   ],
   "metadata": {
    "colab": {
     "base_uri": "https://localhost:8080/",
     "height": 417
    },
    "id": "r-NFHUVRm_in",
    "outputId": "01f9eee6-a233-4a69-e781-84cc1a61fed3",
    "ExecuteTime": {
     "end_time": "2023-06-09T04:29:15.779384Z",
     "start_time": "2023-06-09T04:29:15.689394Z"
    }
   },
   "execution_count": 178,
   "outputs": [
    {
     "output_type": "display_data",
     "data": {
      "text/plain": [
       "<Figure size 640x480 with 1 Axes>"
      ],
      "image/png": "[encoded data removed]"
     },
     "metadata": {}
    }
   ]
  },
  {
   "cell_type": "code",
   "source": [
    "results[\"eval_metrics\"]"
   ],
   "metadata": {
    "colab": {
     "base_uri": "https://localhost:8080/"
    },
    "id": "oPjo3zBqkf-h",
    "outputId": "1384aa9f-20ca-4efb-8f80-9425818e54bf"
   },
   "execution_count": 179,
   "outputs": [
    {
     "output_type": "execute_result",
     "data": {
      "text/plain": [
       "{'mse': array([0.83463615, 0.7907216 , 0.79296392, 0.8109256 , 0.82754236,\n",
       "        0.85566139, 0.87166244, 0.89078707, 0.91194737, 0.93189496]),\n",
       " 'mae': array([0.44685367, 0.47053406, 0.50957435, 0.54608911, 0.57051665,\n",
       "        0.60395455, 0.62085062, 0.63940293, 0.65852964, 0.67558551]),\n",
       " 'x': array([ 100,  200,  300,  400,  500,  600,  700,  800,  900, 1000])}"
      ]
     },
     "metadata": {},
     "execution_count": 179
    }
   ]
  },
  {
   "cell_type": "markdown",
   "source": [
    "### Classical ML"
   ],
   "metadata": {
    "id": "mM2UjrGskR2l"
   }
  },
  {
   "cell_type": "markdown",
   "source": [
    "#### Classical ML on neighbours"
   ],
   "metadata": {
    "id": "twt2b6jzfpka"
   }
  },
  {
   "cell_type": "code",
   "source": [
    "data = [load_features(city, task=\"duration_regr\", format=\"numpy\") for city in neighbouring_cities]\n",
    "train_split = data[2:] # Bottom k-1 for training\n",
    "valid_split = data[1:2] # Top 1 for validating\n",
    "test_split  = data[:1]"
   ],
   "metadata": {
    "id": "YZeUetyikWeX",
    "ExecuteTime": {
     "end_time": "2023-06-09T13:13:05.870959Z",
     "start_time": "2023-06-09T13:13:05.778336Z"
    }
   },
   "execution_count": 4,
   "outputs": []
  },
  {
   "cell_type": "code",
   "source": [
    "objective = create_objective_sklearn(train_split, valid_split, \"sum\")\n",
    "study = optuna.create_study(direction='minimize')\n",
    "study.optimize(objective, n_trials=40)"
   ],
   "metadata": {
    "colab": {
     "base_uri": "https://localhost:8080/"
    },
    "id": "7wGOv7tMOSdw",
    "outputId": "fa5c1c57-0569-4e27-d7c1-db2eacfaa00e",
    "ExecuteTime": {
     "end_time": "2023-06-09T13:26:20.452728Z",
     "start_time": "2023-06-09T13:13:16.540908Z"
    }
   },
   "execution_count": 5,
   "outputs": [
    {
     "name": "stderr",
     "output_type": "stream",
     "text": [
      "[I 2023-06-09 15:13:16,533] A new study created in memory with name: no-name-d5e03cbd-62e5-4c6a-801f-e9ad4b0fad19\n",
      "[I 2023-06-09 15:13:22,326] Trial 0 finished with value: 0.39340803027153015 and parameters: {'learning_rate': 0.3506996303496444, 'max_depth': 2, 'n_estimators': 457, 'subsample': 0.8953156622720301, 'colsample_bytree': 0.24255761213869992, 'reg_lambda': 0.24478719370426225, 'reg_alpha': 0.00020866428331357478}. Best is trial 0 with value: 0.39340803027153015.\n",
      "[I 2023-06-09 15:13:34,755] Trial 1 finished with value: 2.367091655731201 and parameters: {'learning_rate': 0.31654648611906977, 'max_depth': 3, 'n_estimators': 905, 'subsample': 0.16123984373156683, 'colsample_bytree': 0.5423601011376068, 'reg_lambda': 0.00683964511457193, 'reg_alpha': 0.0005374805510857194}. Best is trial 0 with value: 0.39340803027153015.\n",
      "[I 2023-06-09 15:13:42,584] Trial 2 finished with value: 2.1994104385375977 and parameters: {'learning_rate': 0.4094406585658492, 'max_depth': 8, 'n_estimators': 225, 'subsample': 0.7987703739401473, 'colsample_bytree': 0.13556352048031334, 'reg_lambda': 0.027535461835802556, 'reg_alpha': 0.00042577782956692987}. Best is trial 0 with value: 0.39340803027153015.\n",
      "[I 2023-06-09 15:15:10,704] Trial 3 finished with value: 0.3077729046344757 and parameters: {'learning_rate': 0.023072454008059667, 'max_depth': 8, 'n_estimators': 829, 'subsample': 0.9161097664452521, 'colsample_bytree': 0.6975087856157386, 'reg_lambda': 0.010271809731778813, 'reg_alpha': 0.010580508294106174}. Best is trial 3 with value: 0.3077729046344757.\n",
      "[I 2023-06-09 15:15:16,747] Trial 4 finished with value: 107.735595703125 and parameters: {'learning_rate': 0.6626806656341565, 'max_depth': 9, 'n_estimators': 264, 'subsample': 0.2062367524015437, 'colsample_bytree': 0.17411576609675297, 'reg_lambda': 0.37885747853575263, 'reg_alpha': 0.011039220650593163}. Best is trial 3 with value: 0.3077729046344757.\n",
      "[I 2023-06-09 15:15:34,565] Trial 5 finished with value: 0.7323456406593323 and parameters: {'learning_rate': 0.09505299396866249, 'max_depth': 4, 'n_estimators': 743, 'subsample': 0.22709613949109958, 'colsample_bytree': 0.7263331488420233, 'reg_lambda': 0.006145257136528952, 'reg_alpha': 0.12769524214523317}. Best is trial 3 with value: 0.3077729046344757.\n",
      "[I 2023-06-09 15:16:06,563] Trial 6 finished with value: 0.3504011034965515 and parameters: {'learning_rate': 0.058263268992644, 'max_depth': 4, 'n_estimators': 653, 'subsample': 0.8459879858789734, 'colsample_bytree': 0.7191014824543991, 'reg_lambda': 0.10435533606897093, 'reg_alpha': 0.0008247471977601736}. Best is trial 3 with value: 0.3077729046344757.\n",
      "[I 2023-06-09 15:16:18,494] Trial 7 finished with value: 0.55426025390625 and parameters: {'learning_rate': 0.5421224613886447, 'max_depth': 2, 'n_estimators': 773, 'subsample': 0.8837685790994182, 'colsample_bytree': 0.3676123756785359, 'reg_lambda': 0.3947445109661628, 'reg_alpha': 0.08329163378153163}. Best is trial 3 with value: 0.3077729046344757.\n",
      "[I 2023-06-09 15:16:23,094] Trial 8 finished with value: 0.33003267645835876 and parameters: {'learning_rate': 0.01677504592270312, 'max_depth': 2, 'n_estimators': 539, 'subsample': 0.18229701299746678, 'colsample_bytree': 0.3910861160354545, 'reg_lambda': 0.0029916252501979096, 'reg_alpha': 0.009781635174931967}. Best is trial 3 with value: 0.3077729046344757.\n",
      "[I 2023-06-09 15:16:40,867] Trial 9 finished with value: 5.634928226470947 and parameters: {'learning_rate': 0.3225846890768571, 'max_depth': 5, 'n_estimators': 946, 'subsample': 0.10203359372609283, 'colsample_bytree': 0.7198171427777904, 'reg_lambda': 0.051182860346519116, 'reg_alpha': 0.0034063610264831097}. Best is trial 3 with value: 0.3077729046344757.\n",
      "[I 2023-06-09 15:17:25,828] Trial 10 finished with value: 0.22331997752189636 and parameters: {'learning_rate': 0.01518315605743141, 'max_depth': 7, 'n_estimators': 402, 'subsample': 0.9967794094047422, 'colsample_bytree': 0.9416504766867398, 'reg_lambda': 0.00024406059714805913, 'reg_alpha': 0.4862121308574692}. Best is trial 10 with value: 0.22331997752189636.\n",
      "[I 2023-06-09 15:18:09,960] Trial 11 finished with value: 0.23064127564430237 and parameters: {'learning_rate': 0.011313542121983475, 'max_depth': 7, 'n_estimators': 383, 'subsample': 0.9866688876282688, 'colsample_bytree': 0.9913788720278841, 'reg_lambda': 0.00026295931305217625, 'reg_alpha': 0.5293225016769436}. Best is trial 10 with value: 0.22331997752189636.\n",
      "[I 2023-06-09 15:18:54,740] Trial 12 finished with value: 0.2389361560344696 and parameters: {'learning_rate': 0.012043292730327707, 'max_depth': 7, 'n_estimators': 393, 'subsample': 0.9877567482177693, 'colsample_bytree': 0.9883345037367298, 'reg_lambda': 0.00014737402708217694, 'reg_alpha': 0.8805421788273854}. Best is trial 10 with value: 0.22331997752189636.\n",
      "[I 2023-06-09 15:19:24,124] Trial 13 finished with value: 0.2125297635793686 and parameters: {'learning_rate': 0.010964193503367846, 'max_depth': 6, 'n_estimators': 351, 'subsample': 0.7032540981680122, 'colsample_bytree': 0.9981437000746278, 'reg_lambda': 0.00012315201284154376, 'reg_alpha': 0.9564589627887741}. Best is trial 13 with value: 0.2125297635793686.\n",
      "[I 2023-06-09 15:19:32,338] Trial 14 finished with value: 0.2078522890806198 and parameters: {'learning_rate': 0.028964439824968474, 'max_depth': 6, 'n_estimators': 106, 'subsample': 0.7085468363387866, 'colsample_bytree': 0.8876573408819692, 'reg_lambda': 0.0005826761610377831, 'reg_alpha': 0.27405181735626727}. Best is trial 14 with value: 0.2078522890806198.\n",
      "[I 2023-06-09 15:19:39,325] Trial 15 finished with value: 0.20798325538635254 and parameters: {'learning_rate': 0.03187399680169149, 'max_depth': 5, 'n_estimators': 111, 'subsample': 0.6776143382467915, 'colsample_bytree': 0.8698705235116944, 'reg_lambda': 0.0008843468289755083, 'reg_alpha': 0.19360824437625904}. Best is trial 14 with value: 0.2078522890806198.\n",
      "[I 2023-06-09 15:19:45,604] Trial 16 finished with value: 0.20704273879528046 and parameters: {'learning_rate': 0.03289591615751874, 'max_depth': 5, 'n_estimators': 101, 'subsample': 0.6134658085638366, 'colsample_bytree': 0.8710980046994373, 'reg_lambda': 0.0009661767793072918, 'reg_alpha': 0.1295607072162709}. Best is trial 16 with value: 0.20704273879528046.\n",
      "[I 2023-06-09 15:19:51,943] Trial 17 finished with value: 0.24716299772262573 and parameters: {'learning_rate': 0.03710025357910423, 'max_depth': 6, 'n_estimators': 104, 'subsample': 0.44823878689192875, 'colsample_bytree': 0.8246477025179941, 'reg_lambda': 0.0005472431313765304, 'reg_alpha': 0.04653670520990935}. Best is trial 16 with value: 0.20704273879528046.\n",
      "[I 2023-06-09 15:20:01,530] Trial 18 finished with value: 0.2803046703338623 and parameters: {'learning_rate': 0.06288569368691475, 'max_depth': 4, 'n_estimators': 208, 'subsample': 0.5163185166199467, 'colsample_bytree': 0.839593218755154, 'reg_lambda': 0.0013484844659161904, 'reg_alpha': 0.039657291100277686}. Best is trial 16 with value: 0.20704273879528046.\n",
      "[I 2023-06-09 15:20:05,856] Trial 19 finished with value: 0.3167121410369873 and parameters: {'learning_rate': 0.15279080906978448, 'max_depth': 1, 'n_estimators': 287, 'subsample': 0.6247910933682395, 'colsample_bytree': 0.8878002674093636, 'reg_lambda': 0.0006228429391586478, 'reg_alpha': 0.24791851745094423}. Best is trial 16 with value: 0.20704273879528046.\n",
      "[I 2023-06-09 15:20:15,085] Trial 20 finished with value: 0.21676316857337952 and parameters: {'learning_rate': 0.021707160566261072, 'max_depth': 6, 'n_estimators': 171, 'subsample': 0.5449779101258758, 'colsample_bytree': 0.6330092423216912, 'reg_lambda': 0.0016469850911543216, 'reg_alpha': 0.3162633153984413}. Best is trial 16 with value: 0.20704273879528046.\n",
      "[I 2023-06-09 15:20:22,956] Trial 21 finished with value: 0.21260246634483337 and parameters: {'learning_rate': 0.03637578341722644, 'max_depth': 5, 'n_estimators': 123, 'subsample': 0.7040580819471574, 'colsample_bytree': 0.8758573714815218, 'reg_lambda': 0.0006012024366259214, 'reg_alpha': 0.17315020777684823}. Best is trial 16 with value: 0.20704273879528046.\n",
      "[I 2023-06-09 15:20:29,544] Trial 22 finished with value: 0.2190415859222412 and parameters: {'learning_rate': 0.029034513187107952, 'max_depth': 5, 'n_estimators': 108, 'subsample': 0.7422821871696311, 'colsample_bytree': 0.8107282607248747, 'reg_lambda': 0.0015726417559395447, 'reg_alpha': 0.08273706584150332}. Best is trial 16 with value: 0.20704273879528046.\n",
      "[I 2023-06-09 15:20:48,877] Trial 23 finished with value: 0.28684914112091064 and parameters: {'learning_rate': 0.04104083634593424, 'max_depth': 5, 'n_estimators': 283, 'subsample': 0.6398981663623433, 'colsample_bytree': 0.9032016662861886, 'reg_lambda': 0.00043417364431219365, 'reg_alpha': 0.24531611273306966}. Best is trial 16 with value: 0.20704273879528046.\n",
      "[I 2023-06-09 15:21:01,932] Trial 24 finished with value: 0.23428690433502197 and parameters: {'learning_rate': 0.025458145626492786, 'max_depth': 6, 'n_estimators': 173, 'subsample': 0.768525274295091, 'colsample_bytree': 0.7890472449608394, 'reg_lambda': 0.0009754551159672356, 'reg_alpha': 0.13138750200863542}. Best is trial 16 with value: 0.20704273879528046.\n",
      "[I 2023-06-09 15:21:21,925] Trial 25 finished with value: 0.222764253616333 and parameters: {'learning_rate': 0.019530776934546277, 'max_depth': 3, 'n_estimators': 508, 'subsample': 0.6211655461621332, 'colsample_bytree': 0.921620765599441, 'reg_lambda': 0.0027282635657932255, 'reg_alpha': 0.442684940177775}. Best is trial 16 with value: 0.20704273879528046.\n",
      "[I 2023-06-09 15:21:47,620] Trial 26 finished with value: 0.32980215549468994 and parameters: {'learning_rate': 0.050247669720254434, 'max_depth': 4, 'n_estimators': 626, 'subsample': 0.459969069091473, 'colsample_bytree': 0.7823050157820562, 'reg_lambda': 0.0002649312679334562, 'reg_alpha': 0.04182414815000275}. Best is trial 16 with value: 0.20704273879528046.\n",
      "[I 2023-06-09 15:22:07,326] Trial 27 finished with value: 0.2464824765920639 and parameters: {'learning_rate': 0.029678683372767432, 'max_depth': 5, 'n_estimators': 303, 'subsample': 0.6812197614931336, 'colsample_bytree': 0.8636911410791673, 'reg_lambda': 0.00105675273695016, 'reg_alpha': 0.24145891434914118}. Best is trial 16 with value: 0.20704273879528046.\n",
      "[I 2023-06-09 15:22:15,457] Trial 28 finished with value: 0.27017539739608765 and parameters: {'learning_rate': 0.07922123554118746, 'max_depth': 3, 'n_estimators': 187, 'subsample': 0.8107366616242845, 'colsample_bytree': 0.9327032552958681, 'reg_lambda': 0.003488204051094395, 'reg_alpha': 0.9619738336269209}. Best is trial 16 with value: 0.20704273879528046.\n",
      "[I 2023-06-09 15:22:55,923] Trial 29 finished with value: 0.36868977546691895 and parameters: {'learning_rate': 0.047004566606151314, 'max_depth': 8, 'n_estimators': 488, 'subsample': 0.5758477525808267, 'colsample_bytree': 0.6467994500333923, 'reg_lambda': 0.00037903994506722783, 'reg_alpha': 0.10648933620390516}. Best is trial 16 with value: 0.20704273879528046.\n",
      "[I 2023-06-09 15:23:07,136] Trial 30 finished with value: 0.23637022078037262 and parameters: {'learning_rate': 0.03089987824800444, 'max_depth': 6, 'n_estimators': 150, 'subsample': 0.7265108487189482, 'colsample_bytree': 0.7809445678709543, 'reg_lambda': 0.00013072222567699535, 'reg_alpha': 0.06250148942977508}. Best is trial 16 with value: 0.20704273879528046.\n",
      "[I 2023-06-09 15:23:36,638] Trial 31 finished with value: 0.21262484788894653 and parameters: {'learning_rate': 0.011445979509208146, 'max_depth': 6, 'n_estimators': 349, 'subsample': 0.6889801704726215, 'colsample_bytree': 0.994805366791915, 'reg_lambda': 0.00010188317757474657, 'reg_alpha': 0.8815836925258428}. Best is trial 16 with value: 0.20704273879528046.\n",
      "[I 2023-06-09 15:23:57,962] Trial 32 finished with value: 0.21245354413986206 and parameters: {'learning_rate': 0.016899688300913866, 'max_depth': 7, 'n_estimators': 220, 'subsample': 0.7573752616072532, 'colsample_bytree': 0.9280991853103524, 'reg_lambda': 0.00021476166517840506, 'reg_alpha': 0.5037688489423863}. Best is trial 16 with value: 0.20704273879528046.\n",
      "[I 2023-06-09 15:24:19,720] Trial 33 finished with value: 0.20908577740192413 and parameters: {'learning_rate': 0.01734027521473042, 'max_depth': 7, 'n_estimators': 236, 'subsample': 0.7747869363308767, 'colsample_bytree': 0.8563245266730843, 'reg_lambda': 0.0007346445059836974, 'reg_alpha': 0.44424689791436195}. Best is trial 16 with value: 0.20704273879528046.\n",
      "[I 2023-06-09 15:24:46,186] Trial 34 finished with value: 0.239182248711586 and parameters: {'learning_rate': 0.022614801360306552, 'max_depth': 8, 'n_estimators': 239, 'subsample': 0.8158679391140982, 'colsample_bytree': 0.842168283716463, 'reg_lambda': 0.0008347162631008892, 'reg_alpha': 0.18646258096115573}. Best is trial 16 with value: 0.20704273879528046.\n",
      "[I 2023-06-09 15:25:01,607] Trial 35 finished with value: 0.22012242674827576 and parameters: {'learning_rate': 0.03406854077711005, 'max_depth': 7, 'n_estimators': 152, 'subsample': 0.7881989908873553, 'colsample_bytree': 0.8610511549947376, 'reg_lambda': 0.0003697420828463158, 'reg_alpha': 0.32477809354467724}. Best is trial 16 with value: 0.20704273879528046.\n",
      "[I 2023-06-09 15:25:12,551] Trial 36 finished with value: 0.2558262050151825 and parameters: {'learning_rate': 0.02466437436303755, 'max_depth': 9, 'n_estimators': 104, 'subsample': 0.6495750512304607, 'colsample_bytree': 0.7621739347549915, 'reg_lambda': 0.000806052241968056, 'reg_alpha': 0.1525289328663137}. Best is trial 16 with value: 0.20704273879528046.\n",
      "[I 2023-06-09 15:25:26,107] Trial 37 finished with value: 0.22736099362373352 and parameters: {'learning_rate': 0.017501874416676808, 'max_depth': 5, 'n_estimators': 234, 'subsample': 0.8584364214629654, 'colsample_bytree': 0.671437371327194, 'reg_lambda': 0.0020822456638233066, 'reg_alpha': 0.027447637618028112}. Best is trial 16 with value: 0.20704273879528046.\n",
      "[I 2023-06-09 15:25:38,849] Trial 38 finished with value: 0.22430351376533508 and parameters: {'learning_rate': 0.014531354535430231, 'max_depth': 4, 'n_estimators': 311, 'subsample': 0.7492682801274243, 'colsample_bytree': 0.5968891760995612, 'reg_lambda': 0.005125171008437876, 'reg_alpha': 0.0984415425169001}. Best is trial 16 with value: 0.20704273879528046.\n",
      "[I 2023-06-09 15:26:20,448] Trial 39 finished with value: 0.3888186812400818 and parameters: {'learning_rate': 0.04250865325965018, 'max_depth': 8, 'n_estimators': 449, 'subsample': 0.5881378472241895, 'colsample_bytree': 0.7253092439936137, 'reg_lambda': 0.010854721861406059, 'reg_alpha': 0.1647339122580462}. Best is trial 16 with value: 0.20704273879528046.\n"
     ]
    }
   ]
  },
  {
   "cell_type": "code",
   "source": [
    "study.best_params"
   ],
   "metadata": {
    "colab": {
     "base_uri": "https://localhost:8080/"
    },
    "id": "aNgCpnmBbZew",
    "outputId": "727bc61c-cc22-4946-f8dc-3018ac09aa3e",
    "ExecuteTime": {
     "end_time": "2023-06-09T13:26:20.460108Z",
     "start_time": "2023-06-09T13:26:20.456588Z"
    }
   },
   "execution_count": 6,
   "outputs": [
    {
     "data": {
      "text/plain": "{'learning_rate': 0.03289591615751874,\n 'max_depth': 5,\n 'n_estimators': 101,\n 'subsample': 0.6134658085638366,\n 'colsample_bytree': 0.8710980046994373,\n 'reg_lambda': 0.0009661767793072918,\n 'reg_alpha': 0.1295607072162709}"
     },
     "execution_count": 6,
     "metadata": {},
     "output_type": "execute_result"
    }
   ]
  },
  {
   "cell_type": "code",
   "source": [
    "model = xgb.XGBRegressor(**study.best_params)\n",
    "\n",
    "results = sklearn_train(\n",
    "    model,\n",
    "    train_split+valid_split,\n",
    "    test_split,\n",
    "    edge_aggr=\"sum\"\n",
    ")"
   ],
   "metadata": {
    "colab": {
     "base_uri": "https://localhost:8080/"
    },
    "id": "oZd5l9mgklWy",
    "outputId": "a00413e2-d1be-41d6-e4a0-2f374e535e4d",
    "ExecuteTime": {
     "end_time": "2023-06-09T13:26:28.049503Z",
     "start_time": "2023-06-09T13:26:20.461956Z"
    }
   },
   "execution_count": 7,
   "outputs": [
    {
     "name": "stdout",
     "output_type": "stream",
     "text": [
      "Preparing data...\n",
      "Data prepared\n",
      "Training model...\n",
      "Model trained.\n",
      "Evaluation model...\n",
      "Model evaluated\n"
     ]
    }
   ]
  },
  {
   "cell_type": "code",
   "execution_count": 8,
   "outputs": [
    {
     "data": {
      "text/plain": "{'learning_rate': 0.03289591615751874,\n 'max_depth': 5,\n 'n_estimators': 101,\n 'subsample': 0.6134658085638366,\n 'colsample_bytree': 0.8710980046994373,\n 'reg_lambda': 0.0009661767793072918,\n 'reg_alpha': 0.1295607072162709}"
     },
     "execution_count": 8,
     "metadata": {},
     "output_type": "execute_result"
    }
   ],
   "source": [
    "study.best_params"
   ],
   "metadata": {
    "collapsed": false,
    "ExecuteTime": {
     "end_time": "2023-06-09T13:26:28.054796Z",
     "start_time": "2023-06-09T13:26:28.052001Z"
    }
   }
  },
  {
   "cell_type": "code",
   "source": [
    "results[\"train_metrics\"][\"mse\"], results[\"valid_metrics\"][\"mse\"]"
   ],
   "metadata": {
    "colab": {
     "base_uri": "https://localhost:8080/"
    },
    "id": "3sBo9n57kuTk",
    "outputId": "ad1c6171-ac54-40db-b62a-5521852774c0",
    "ExecuteTime": {
     "end_time": "2023-06-09T13:26:28.059411Z",
     "start_time": "2023-06-09T13:26:28.056438Z"
    }
   },
   "execution_count": 9,
   "outputs": [
    {
     "data": {
      "text/plain": "(0.42596823, 1.2396884)"
     },
     "execution_count": 9,
     "metadata": {},
     "output_type": "execute_result"
    }
   ]
  },
  {
   "cell_type": "code",
   "execution_count": 10,
   "outputs": [
    {
     "data": {
      "text/plain": "{'mse': 0.42596823, 'mae': 0.35389355}"
     },
     "execution_count": 10,
     "metadata": {},
     "output_type": "execute_result"
    }
   ],
   "source": [
    "results[\"train_metrics\"]"
   ],
   "metadata": {
    "collapsed": false,
    "ExecuteTime": {
     "end_time": "2023-06-09T13:26:28.064019Z",
     "start_time": "2023-06-09T13:26:28.061276Z"
    }
   }
  },
  {
   "cell_type": "code",
   "source": [
    "results[\"train_metrics\"][\"mae\"], results[\"valid_metrics\"][\"mae\"]"
   ],
   "metadata": {
    "id": "4P9y0jX4yKGe",
    "ExecuteTime": {
     "end_time": "2023-06-09T13:26:28.068635Z",
     "start_time": "2023-06-09T13:26:28.065906Z"
    }
   },
   "execution_count": 11,
   "outputs": [
    {
     "data": {
      "text/plain": "(0.35389355, 0.5666077)"
     },
     "execution_count": 11,
     "metadata": {},
     "output_type": "execute_result"
    }
   ]
  },
  {
   "cell_type": "markdown",
   "source": [
    "#### Classical ML on all data exclude target city"
   ],
   "metadata": {
    "id": "jl4koMW-d-rl"
   }
  },
  {
   "cell_type": "code",
   "source": [
    "data = [load_features(city, task=\"duration_regr\") for city in all_cities]\n",
    "\n",
    "city_index = all_cities.index(target_city)\n",
    "train_split = data[:city_index] + data[city_index+1:]\n",
    "valid_split = data[city_index:city_index+1]"
   ],
   "metadata": {
    "id": "UOnCHCv0dbLl",
    "ExecuteTime": {
     "end_time": "2023-06-09T13:26:28.252076Z",
     "start_time": "2023-06-09T13:26:28.069819Z"
    }
   },
   "execution_count": 12,
   "outputs": []
  },
  {
   "cell_type": "code",
   "source": [
    "# objective = create_objective_sklearn(train_split, valid_split, \"sum\")\n",
    "# study = optuna.create_study(direction='minimize', sampler=RandomSampler(seed=42))\n",
    "# study.optimize(objective, n_trials=40)"
   ],
   "metadata": {
    "colab": {
     "base_uri": "https://localhost:8080/"
    },
    "id": "e_dotBsMdmOt",
    "outputId": "f1122080-6b81-44ce-91b0-6db37a7cdc84",
    "ExecuteTime": {
     "end_time": "2023-06-09T13:26:28.255279Z",
     "start_time": "2023-06-09T13:26:28.252767Z"
    }
   },
   "execution_count": 13,
   "outputs": []
  },
  {
   "cell_type": "code",
   "source": [
    "model = xgb.XGBRegressor(**study.best_params)\n",
    "\n",
    "results = sklearn_train(\n",
    "    model,\n",
    "    train_split,\n",
    "    valid_split,\n",
    "    edge_aggr=\"sum\"\n",
    ")"
   ],
   "metadata": {
    "id": "pKjEZ1QJdl_B",
    "outputId": "3df4d309-b919-4fcf-d60f-6f50ca194c8d",
    "ExecuteTime": {
     "end_time": "2023-06-09T13:27:02.561123Z",
     "start_time": "2023-06-09T13:26:28.257194Z"
    }
   },
   "execution_count": 14,
   "outputs": [
    {
     "name": "stdout",
     "output_type": "stream",
     "text": [
      "Preparing data...\n",
      "Data prepared\n",
      "Training model...\n",
      "Model trained.\n",
      "Evaluation model...\n",
      "Model evaluated\n"
     ]
    }
   ]
  },
  {
   "cell_type": "code",
   "source": [
    "results[\"train_metrics\"][\"mse\"], results[\"valid_metrics\"][\"mse\"]"
   ],
   "metadata": {
    "id": "MgUGOsf9hOYF",
    "outputId": "98ac4a96-b3ad-4df3-aa09-002f680d7ea2",
    "ExecuteTime": {
     "end_time": "2023-06-09T13:27:02.569881Z",
     "start_time": "2023-06-09T13:27:02.562703Z"
    }
   },
   "execution_count": 15,
   "outputs": [
    {
     "data": {
      "text/plain": "(0.65396, 1.162746)"
     },
     "execution_count": 15,
     "metadata": {},
     "output_type": "execute_result"
    }
   ]
  },
  {
   "cell_type": "code",
   "source": [
    "results[\"train_metrics\"][\"mae\"], results[\"valid_metrics\"][\"mae\"]"
   ],
   "metadata": {
    "id": "g-S-SHZuyOzG",
    "ExecuteTime": {
     "end_time": "2023-06-09T13:27:02.570168Z",
     "start_time": "2023-06-09T13:27:02.566727Z"
    }
   },
   "execution_count": 16,
   "outputs": [
    {
     "data": {
      "text/plain": "(0.3954291, 0.53466445)"
     },
     "execution_count": 16,
     "metadata": {},
     "output_type": "execute_result"
    }
   ]
  },
  {
   "cell_type": "markdown",
   "source": [
    "## Link Prediction"
   ],
   "metadata": {
    "id": "2dSOcHN6vr6C"
   }
  },
  {
   "cell_type": "markdown",
   "source": [
    "### Our Model"
   ],
   "metadata": {
    "id": "5FtlY4h53Gu7"
   }
  },
  {
   "cell_type": "code",
   "source": [
    "data = [load_features(city, task=\"link_pred\", neg_sample_ratio=20) for city in neighbouring_cities]\n",
    "train_split = data[2:] # Bottom k-1 for training\n",
    "valid_split = data[1:2] # Top 1 for validating\n",
    "test_split  = data[:1]"
   ],
   "metadata": {
    "id": "M_QjLVpkvtd1",
    "ExecuteTime": {
     "end_time": "2023-06-09T06:18:03.094145Z",
     "start_time": "2023-06-09T06:17:51.676685Z"
    }
   },
   "execution_count": null,
   "outputs": []
  },
  {
   "cell_type": "code",
   "source": [
    "study = optuna.create_study(sampler=RandomSampler(seed=1))\n",
    "objective = create_objective_pyg(device=device,\n",
    "                                 model_type=model_type,\n",
    "                                 num_features=num_features,\n",
    "                                 train=train_split,\n",
    "                                 valid=valid_split,\n",
    "                                 criterion=torch.nn.BCEWithLogitsLoss(),\n",
    "                                 regression=False)\n",
    "study.optimize(objective, n_trials=2)"
   ],
   "metadata": {
    "colab": {
     "base_uri": "https://localhost:8080/"
    },
    "id": "1ExuWeqKEnd0",
    "outputId": "f924455a-4f21-4d1e-a335-9cfb5a991fb9",
    "ExecuteTime": {
     "end_time": "2023-06-09T07:40:18.358660Z",
     "start_time": "2023-06-09T06:18:03.095343Z"
    }
   },
   "execution_count": null,
   "outputs": [
    {
     "name": "stderr",
     "output_type": "stream",
     "text": [
      "[I 2023-06-09 08:18:03,095] A new study created in memory with name: no-name-d6372162-be72-418f-a108-0f5f67df303c\n",
      "[I 2023-06-09 08:54:43,873] Trial 0 finished with value: 0.0 and parameters: {'lr': 0.0004228517846555483, 'weight_decay': 0.0007231212485077365, 'hidden_dim': 512}. Best is trial 0 with value: 0.0.\n",
      "[I 2023-06-09 09:40:18,233] Trial 1 finished with value: 0.0 and parameters: {'lr': 0.0003093092469055214, 'weight_decay': 0.0001552883319089419, 'hidden_dim': 559}. Best is trial 0 with value: 0.0.\n"
     ]
    }
   ]
  },
  {
   "cell_type": "code",
   "source": [
    "num_features = 258\n",
    "batch_size = 1\n",
    "num_steps = 1000\n",
    "eval_every = 100\n",
    "verbose=False\n",
    "optimal_params = study.best_params\n",
    "\n",
    "optimal_hidden_dim = int(optimal_params['hidden_dim'])  # make sure to cast to int because the optimizer works with float\n",
    "optimal_lr = optimal_params['lr']\n",
    "optimal_weight_decay = optimal_params['weight_decay']\n",
    "\n",
    "model = model_type(num_features, 1, hidden_dim=optimal_hidden_dim)\n",
    "model = model.to(device)\n",
    "\n",
    "# Initialize your optimizer with the optimal learning rate and weight decay\n",
    "optimizer = torch.optim.SGD(model.parameters(), lr=optimal_lr, weight_decay=optimal_weight_decay)\n",
    "criterion=torch.nn.BCEWithLogitsLoss()\n",
    "\n",
    "results = pyg_train(\n",
    "    model, \n",
    "    device, \n",
    "    train_split+valid_split,\n",
    "    test_split,\n",
    "    optimizer, \n",
    "    criterion, \n",
    "    num_steps=num_steps,\n",
    "    eval_every=eval_every,\n",
    "    batch_size=batch_size,\n",
    "    verbose=verbose,\n",
    "    regression=False\n",
    "    )"
   ],
   "metadata": {
    "id": "_B08QZ0E1Hyt",
    "ExecuteTime": {
     "end_time": "2023-06-09T09:21:02.406156Z",
     "start_time": "2023-06-09T07:40:18.396309Z"
    },
    "outputId": "53334e2e-5189-4563-f046-1bc90bc16801"
   },
   "execution_count": null,
   "outputs": [
    {
     "ename": "KeyboardInterrupt",
     "evalue": "",
     "output_type": "error",
     "traceback": [
      "\u001B[0;31m---------------------------------------------------------------------------\u001B[0m",
      "\u001B[0;31mKeyboardInterrupt\u001B[0m                         Traceback (most recent call last)",
      "Cell \u001B[0;32mIn[31], line 19\u001B[0m\n\u001B[1;32m     16\u001B[0m optimizer \u001B[38;5;241m=\u001B[39m torch\u001B[38;5;241m.\u001B[39moptim\u001B[38;5;241m.\u001B[39mSGD(model\u001B[38;5;241m.\u001B[39mparameters(), lr\u001B[38;5;241m=\u001B[39moptimal_lr, weight_decay\u001B[38;5;241m=\u001B[39moptimal_weight_decay)\n\u001B[1;32m     17\u001B[0m criterion\u001B[38;5;241m=\u001B[39mtorch\u001B[38;5;241m.\u001B[39mnn\u001B[38;5;241m.\u001B[39mBCEWithLogitsLoss()\n\u001B[0;32m---> 19\u001B[0m results \u001B[38;5;241m=\u001B[39m \u001B[43mpyg_train\u001B[49m\u001B[43m(\u001B[49m\n\u001B[1;32m     20\u001B[0m \u001B[43m    \u001B[49m\u001B[43mmodel\u001B[49m\u001B[43m,\u001B[49m\u001B[43m \u001B[49m\n\u001B[1;32m     21\u001B[0m \u001B[43m    \u001B[49m\u001B[43mdevice\u001B[49m\u001B[43m,\u001B[49m\u001B[43m \u001B[49m\n\u001B[1;32m     22\u001B[0m \u001B[43m    \u001B[49m\u001B[43mtrain_split\u001B[49m\u001B[38;5;241;43m+\u001B[39;49m\u001B[43mvalid_split\u001B[49m\u001B[43m,\u001B[49m\n\u001B[1;32m     23\u001B[0m \u001B[43m    \u001B[49m\u001B[43mtest_split\u001B[49m\u001B[43m,\u001B[49m\n\u001B[1;32m     24\u001B[0m \u001B[43m    \u001B[49m\u001B[43moptimizer\u001B[49m\u001B[43m,\u001B[49m\u001B[43m \u001B[49m\n\u001B[1;32m     25\u001B[0m \u001B[43m    \u001B[49m\u001B[43mcriterion\u001B[49m\u001B[43m,\u001B[49m\u001B[43m \u001B[49m\n\u001B[1;32m     26\u001B[0m \u001B[43m    \u001B[49m\u001B[43mnum_steps\u001B[49m\u001B[38;5;241;43m=\u001B[39;49m\u001B[43mnum_steps\u001B[49m\u001B[43m,\u001B[49m\n\u001B[1;32m     27\u001B[0m \u001B[43m    \u001B[49m\u001B[43meval_every\u001B[49m\u001B[38;5;241;43m=\u001B[39;49m\u001B[43meval_every\u001B[49m\u001B[43m,\u001B[49m\n\u001B[1;32m     28\u001B[0m \u001B[43m    \u001B[49m\u001B[43mbatch_size\u001B[49m\u001B[38;5;241;43m=\u001B[39;49m\u001B[43mbatch_size\u001B[49m\u001B[43m,\u001B[49m\n\u001B[1;32m     29\u001B[0m \u001B[43m    \u001B[49m\u001B[43mverbose\u001B[49m\u001B[38;5;241;43m=\u001B[39;49m\u001B[43mverbose\u001B[49m\u001B[43m,\u001B[49m\n\u001B[1;32m     30\u001B[0m \u001B[43m    \u001B[49m\u001B[43mregression\u001B[49m\u001B[38;5;241;43m=\u001B[39;49m\u001B[38;5;28;43;01mFalse\u001B[39;49;00m\n\u001B[1;32m     31\u001B[0m \u001B[43m    \u001B[49m\u001B[43m)\u001B[49m\n",
      "File \u001B[0;32m~/Downloads/Project/networks_ml_epfl/Project/exploitation/training.py:245\u001B[0m, in \u001B[0;36mpyg_train\u001B[0;34m(model, device, train_split, valid_split, optimizer, criterion, batch_size, num_steps, eval_every, normalize_features, normalize_targets, regression, verbose)\u001B[0m\n\u001B[1;32m    243\u001B[0m optimizer\u001B[38;5;241m.\u001B[39mzero_grad()\n\u001B[1;32m    244\u001B[0m loss \u001B[38;5;241m=\u001B[39m criterion(preds, y)\n\u001B[0;32m--> 245\u001B[0m \u001B[43mloss\u001B[49m\u001B[38;5;241;43m.\u001B[39;49m\u001B[43mbackward\u001B[49m\u001B[43m(\u001B[49m\u001B[43m)\u001B[49m\n\u001B[1;32m    246\u001B[0m optimizer\u001B[38;5;241m.\u001B[39mstep()\n\u001B[1;32m    247\u001B[0m loss_array\u001B[38;5;241m.\u001B[39mappend(loss\u001B[38;5;241m.\u001B[39mdetach()\u001B[38;5;241m.\u001B[39mcpu()\u001B[38;5;241m.\u001B[39mitem())\n",
      "File \u001B[0;32m~/opt/anaconda3/envs/Network_ML/lib/python3.9/site-packages/torch/_tensor.py:487\u001B[0m, in \u001B[0;36mTensor.backward\u001B[0;34m(self, gradient, retain_graph, create_graph, inputs)\u001B[0m\n\u001B[1;32m    477\u001B[0m \u001B[38;5;28;01mif\u001B[39;00m has_torch_function_unary(\u001B[38;5;28mself\u001B[39m):\n\u001B[1;32m    478\u001B[0m     \u001B[38;5;28;01mreturn\u001B[39;00m handle_torch_function(\n\u001B[1;32m    479\u001B[0m         Tensor\u001B[38;5;241m.\u001B[39mbackward,\n\u001B[1;32m    480\u001B[0m         (\u001B[38;5;28mself\u001B[39m,),\n\u001B[0;32m   (...)\u001B[0m\n\u001B[1;32m    485\u001B[0m         inputs\u001B[38;5;241m=\u001B[39minputs,\n\u001B[1;32m    486\u001B[0m     )\n\u001B[0;32m--> 487\u001B[0m \u001B[43mtorch\u001B[49m\u001B[38;5;241;43m.\u001B[39;49m\u001B[43mautograd\u001B[49m\u001B[38;5;241;43m.\u001B[39;49m\u001B[43mbackward\u001B[49m\u001B[43m(\u001B[49m\n\u001B[1;32m    488\u001B[0m \u001B[43m    \u001B[49m\u001B[38;5;28;43mself\u001B[39;49m\u001B[43m,\u001B[49m\u001B[43m \u001B[49m\u001B[43mgradient\u001B[49m\u001B[43m,\u001B[49m\u001B[43m \u001B[49m\u001B[43mretain_graph\u001B[49m\u001B[43m,\u001B[49m\u001B[43m \u001B[49m\u001B[43mcreate_graph\u001B[49m\u001B[43m,\u001B[49m\u001B[43m \u001B[49m\u001B[43minputs\u001B[49m\u001B[38;5;241;43m=\u001B[39;49m\u001B[43minputs\u001B[49m\n\u001B[1;32m    489\u001B[0m \u001B[43m\u001B[49m\u001B[43m)\u001B[49m\n",
      "File \u001B[0;32m~/opt/anaconda3/envs/Network_ML/lib/python3.9/site-packages/torch/autograd/__init__.py:200\u001B[0m, in \u001B[0;36mbackward\u001B[0;34m(tensors, grad_tensors, retain_graph, create_graph, grad_variables, inputs)\u001B[0m\n\u001B[1;32m    195\u001B[0m     retain_graph \u001B[38;5;241m=\u001B[39m create_graph\n\u001B[1;32m    197\u001B[0m \u001B[38;5;66;03m# The reason we repeat same the comment below is that\u001B[39;00m\n\u001B[1;32m    198\u001B[0m \u001B[38;5;66;03m# some Python versions print out the first line of a multi-line function\u001B[39;00m\n\u001B[1;32m    199\u001B[0m \u001B[38;5;66;03m# calls in the traceback and some print out the last line\u001B[39;00m\n\u001B[0;32m--> 200\u001B[0m \u001B[43mVariable\u001B[49m\u001B[38;5;241;43m.\u001B[39;49m\u001B[43m_execution_engine\u001B[49m\u001B[38;5;241;43m.\u001B[39;49m\u001B[43mrun_backward\u001B[49m\u001B[43m(\u001B[49m\u001B[43m  \u001B[49m\u001B[38;5;66;43;03m# Calls into the C++ engine to run the backward pass\u001B[39;49;00m\n\u001B[1;32m    201\u001B[0m \u001B[43m    \u001B[49m\u001B[43mtensors\u001B[49m\u001B[43m,\u001B[49m\u001B[43m \u001B[49m\u001B[43mgrad_tensors_\u001B[49m\u001B[43m,\u001B[49m\u001B[43m \u001B[49m\u001B[43mretain_graph\u001B[49m\u001B[43m,\u001B[49m\u001B[43m \u001B[49m\u001B[43mcreate_graph\u001B[49m\u001B[43m,\u001B[49m\u001B[43m \u001B[49m\u001B[43minputs\u001B[49m\u001B[43m,\u001B[49m\n\u001B[1;32m    202\u001B[0m \u001B[43m    \u001B[49m\u001B[43mallow_unreachable\u001B[49m\u001B[38;5;241;43m=\u001B[39;49m\u001B[38;5;28;43;01mTrue\u001B[39;49;00m\u001B[43m,\u001B[49m\u001B[43m \u001B[49m\u001B[43maccumulate_grad\u001B[49m\u001B[38;5;241;43m=\u001B[39;49m\u001B[38;5;28;43;01mTrue\u001B[39;49;00m\u001B[43m)\u001B[49m\n",
      "\u001B[0;31mKeyboardInterrupt\u001B[0m: "
     ]
    }
   ]
  },
  {
   "cell_type": "code",
   "source": [
    "plot_eval(results['eval_metrics'], regression=False)"
   ],
   "metadata": {
    "id": "PXWahgc53BRk",
    "ExecuteTime": {
     "start_time": "2023-06-09T09:21:02.392675Z"
    }
   },
   "execution_count": null,
   "outputs": []
  },
  {
   "cell_type": "code",
   "source": [
    "plot_loss(results['loss'], cities=neighbouring_cities, target_city=target_city)"
   ],
   "metadata": {
    "id": "AvggBQEH73WF",
    "ExecuteTime": {
     "start_time": "2023-06-09T09:21:02.404706Z"
    }
   },
   "execution_count": null,
   "outputs": []
  },
  {
   "cell_type": "markdown",
   "source": [
    "### Baseline Model"
   ],
   "metadata": {
    "id": "GT_pcGPe8QUy"
   }
  },
  {
   "cell_type": "code",
   "source": [
    "data = [load_features(city, task=\"link_pred\", neg_sample_ratio=20) for city in all_cities]\n",
    "\n",
    "city_index = all_cities.index(target_city)\n",
    "train_split = data[:city_index] + data[city_index+1:]\n",
    "valid_split = data[city_index:city_index+1]"
   ],
   "metadata": {
    "id": "6ZULm65p8SmE"
   },
   "execution_count": null,
   "outputs": []
  },
  {
   "cell_type": "code",
   "source": [
    "model = model_type(258, 1, hidden_dim=optimal_hidden_dim)\n",
    "model = model.to(device)\n",
    "\n",
    "optimizer = torch.optim.SGD(model.parameters(), lr=optimal_lr, weight_decay=optimal_weight_decay)\n",
    "criterion = torch.nn.MSELoss()\n",
    "\n",
    "results = pyg_train(\n",
    "    model, \n",
    "    device, \n",
    "    train_split,\n",
    "    valid_split,\n",
    "    optimizer, \n",
    "    criterion, \n",
    "    num_steps=num_steps,\n",
    "    eval_every=eval_every,\n",
    "    batch_size=batch_size,\n",
    "    verbose=verbose,\n",
    "    regression=False\n",
    "    )"
   ],
   "metadata": {
    "id": "OmMuPAD38Zyx"
   },
   "execution_count": null,
   "outputs": []
  },
  {
   "cell_type": "code",
   "source": [
    "plot_eval(results['eval_metrics'], regression=False)"
   ],
   "metadata": {
    "id": "3_5U_km18Zw4"
   },
   "execution_count": null,
   "outputs": []
  },
  {
   "cell_type": "code",
   "source": [
    "plot_loss(results['loss'], cities=all_cities, target_city=target_city)"
   ],
   "metadata": {
    "id": "EYtchlDKD5gj"
   },
   "execution_count": null,
   "outputs": []
  },
  {
   "cell_type": "markdown",
   "source": [
    "### Classic ML"
   ],
   "metadata": {
    "id": "zdsOc5moFU-n"
   }
  },
  {
   "cell_type": "markdown",
   "source": [
    "#### Classical ML on neighbours"
   ],
   "metadata": {
    "collapsed": false,
    "id": "ObnVkIFHiUTt"
   }
  },
  {
   "cell_type": "code",
   "source": [
    "data = [load_features(city, task=\"link_pred\", neg_sample_ratio=10) for city in neighbouring_cities]\n",
    "train_split = data[2:] # Bottom k-1 for training\n",
    "valid_split = data[1:2] # Top 1 for validating\n",
    "test_split  = data[:1]"
   ],
   "metadata": {
    "id": "en4ln31FFYBt",
    "ExecuteTime": {
     "end_time": "2023-06-09T15:26:25.424182Z",
     "start_time": "2023-06-09T15:26:19.501229Z"
    }
   },
   "execution_count": 37,
   "outputs": []
  },
  {
   "cell_type": "code",
   "execution_count": 38,
   "outputs": [
    {
     "name": "stderr",
     "output_type": "stream",
     "text": [
      "[I 2023-06-09 17:26:25,435] A new study created in memory with name: no-name-229baec2-a093-47be-a86c-a29a3119e73b\n"
     ]
    },
    {
     "name": "stdout",
     "output_type": "stream",
     "text": [
      "Preparing data...\n",
      "Data prepared\n",
      "Training model...\n",
      "Model trained.\n",
      "Evaluation model...\n"
     ]
    },
    {
     "name": "stderr",
     "output_type": "stream",
     "text": [
      "[I 2023-06-09 17:36:06,094] Trial 0 finished with value: 0.19443087445041524 and parameters: {'learning_rate': 0.05611516415334506, 'max_depth': 9, 'n_estimators': 759, 'subsample': 0.6387926357773329, 'colsample_bytree': 0.24041677639819287, 'reg_lambda': 0.0004207053950287938, 'reg_alpha': 0.0001707396743152812}. Best is trial 0 with value: 0.19443087445041524.\n"
     ]
    },
    {
     "name": "stdout",
     "output_type": "stream",
     "text": [
      "Model evaluated\n",
      "Preparing data...\n",
      "Data prepared\n",
      "Training model...\n",
      "Model trained.\n",
      "Evaluation model...\n"
     ]
    },
    {
     "name": "stderr",
     "output_type": "stream",
     "text": [
      "[I 2023-06-09 17:42:38,618] Trial 1 finished with value: 0.1856594110115237 and parameters: {'learning_rate': 0.5399484409787431, 'max_depth': 6, 'n_estimators': 737, 'subsample': 0.1185260448662222, 'colsample_bytree': 0.9729188669457949, 'reg_lambda': 0.21368329072358744, 'reg_alpha': 0.0007068974950624604}. Best is trial 0 with value: 0.19443087445041524.\n"
     ]
    },
    {
     "name": "stdout",
     "output_type": "stream",
     "text": [
      "Model evaluated\n",
      "Preparing data...\n",
      "Data prepared\n",
      "Training model...\n",
      "Model trained.\n",
      "Evaluation model...\n"
     ]
    },
    {
     "name": "stderr",
     "output_type": "stream",
     "text": [
      "[I 2023-06-09 17:44:21,691] Trial 2 finished with value: 0.17607003891050585 and parameters: {'learning_rate': 0.02310201887845294, 'max_depth': 2, 'n_estimators': 374, 'subsample': 0.5722807884690141, 'colsample_bytree': 0.48875051677790415, 'reg_lambda': 0.0014618962793704966, 'reg_alpha': 0.0280163515871626}. Best is trial 0 with value: 0.19443087445041524.\n"
     ]
    },
    {
     "name": "stdout",
     "output_type": "stream",
     "text": [
      "Model evaluated\n",
      "Preparing data...\n",
      "Data prepared\n",
      "Training model...\n",
      "Model trained.\n",
      "Evaluation model...\n"
     ]
    },
    {
     "name": "stderr",
     "output_type": "stream",
     "text": [
      "[I 2023-06-09 17:48:29,313] Trial 3 finished with value: 0.18611987381703468 and parameters: {'learning_rate': 0.01901024531987036, 'max_depth': 3, 'n_estimators': 430, 'subsample': 0.5104629857953323, 'colsample_bytree': 0.8066583652537123, 'reg_lambda': 0.0006290644294586153, 'reg_alpha': 0.011400863701127324}. Best is trial 0 with value: 0.19443087445041524.\n"
     ]
    },
    {
     "name": "stdout",
     "output_type": "stream",
     "text": [
      "Model evaluated\n",
      "Preparing data...\n",
      "Data prepared\n",
      "Training model...\n",
      "Model trained.\n",
      "Evaluation model...\n"
     ]
    },
    {
     "name": "stderr",
     "output_type": "stream",
     "text": [
      "[I 2023-06-09 17:49:17,772] Trial 4 finished with value: 0.19992690058479531 and parameters: {'learning_rate': 0.15304852121831464, 'max_depth': 1, 'n_estimators': 647, 'subsample': 0.2534717113185624, 'colsample_bytree': 0.1585464336867516, 'reg_lambda': 0.6245139574743068, 'reg_alpha': 0.7286653737491037}. Best is trial 4 with value: 0.19992690058479531.\n"
     ]
    },
    {
     "name": "stdout",
     "output_type": "stream",
     "text": [
      "Model evaluated\n",
      "Preparing data...\n",
      "Data prepared\n",
      "Training model...\n",
      "Model trained.\n",
      "Evaluation model...\n"
     ]
    },
    {
     "name": "stderr",
     "output_type": "stream",
     "text": [
      "[I 2023-06-09 17:50:42,549] Trial 5 finished with value: 0.21444114737883282 and parameters: {'learning_rate': 0.4138040112561014, 'max_depth': 3, 'n_estimators': 188, 'subsample': 0.7158097238609412, 'colsample_bytree': 0.4961372443656412, 'reg_lambda': 0.00030771802712506853, 'reg_alpha': 0.009565499215943823}. Best is trial 5 with value: 0.21444114737883282.\n"
     ]
    },
    {
     "name": "stdout",
     "output_type": "stream",
     "text": [
      "Model evaluated\n",
      "Preparing data...\n",
      "Data prepared\n",
      "Training model...\n",
      "Model trained.\n",
      "Evaluation model...\n"
     ]
    },
    {
     "name": "stderr",
     "output_type": "stream",
     "text": [
      "[I 2023-06-09 17:56:49,688] Trial 6 finished with value: 0.10582639714625447 and parameters: {'learning_rate': 0.011715937392307063, 'max_depth': 9, 'n_estimators': 333, 'subsample': 0.6962700559185838, 'colsample_bytree': 0.3805399684804699, 'reg_lambda': 0.012030178871154668, 'reg_alpha': 0.015375920235481757}. Best is trial 5 with value: 0.21444114737883282.\n"
     ]
    },
    {
     "name": "stdout",
     "output_type": "stream",
     "text": [
      "Model evaluated\n",
      "Preparing data...\n",
      "Data prepared\n",
      "Training model...\n",
      "Model trained.\n",
      "Evaluation model...\n"
     ]
    },
    {
     "name": "stderr",
     "output_type": "stream",
     "text": [
      "[I 2023-06-09 18:31:55,541] Trial 7 finished with value: 0.15517241379310343 and parameters: {'learning_rate': 0.02342658105820405, 'max_depth': 9, 'n_estimators': 798, 'subsample': 0.9455490474077702, 'colsample_bytree': 0.905344615384884, 'reg_lambda': 0.024637685958997457, 'reg_alpha': 0.48696409415208936}. Best is trial 5 with value: 0.21444114737883282.\n"
     ]
    },
    {
     "name": "stdout",
     "output_type": "stream",
     "text": [
      "Model evaluated\n"
     ]
    }
   ],
   "source": [
    "objective = create_objective_sklearn(train_split, valid_split, \"sum\", regression=False)\n",
    "study = optuna.create_study(direction='maximize', sampler=RandomSampler(seed=42))\n",
    "study.optimize(objective, n_trials=8)"
   ],
   "metadata": {
    "id": "6JE02MV0iUTt",
    "outputId": "67a4cefb-0949-41d8-8e0c-bb31011bca31",
    "ExecuteTime": {
     "end_time": "2023-06-09T16:31:55.553962Z",
     "start_time": "2023-06-09T15:26:25.427943Z"
    }
   }
  },
  {
   "cell_type": "code",
   "execution_count": 39,
   "outputs": [
    {
     "name": "stdout",
     "output_type": "stream",
     "text": [
      "Preparing data...\n",
      "Data prepared\n",
      "Training model...\n",
      "Model trained.\n",
      "Evaluation model...\n",
      "Model evaluated\n"
     ]
    }
   ],
   "source": [
    "model = xgb.XGBClassifier(**study.best_params)\n",
    "\n",
    "results = sklearn_train(\n",
    "    model,\n",
    "    train_split+valid_split,\n",
    "    test_split,\n",
    "    edge_aggr=\"sum\",\n",
    "    normalize_targets=False,  # Very important for link prediction\n",
    "    train_criterions=[\"accuracy\", \"f1\"],\n",
    "    valid_criterions=[\"accuracy\", \"f1\"],\n",
    ")"
   ],
   "metadata": {
    "id": "3HACFX-fiUTt",
    "ExecuteTime": {
     "end_time": "2023-06-09T16:33:32.743010Z",
     "start_time": "2023-06-09T16:31:55.551666Z"
    }
   }
  },
  {
   "cell_type": "code",
   "execution_count": 40,
   "outputs": [
    {
     "data": {
      "text/plain": "(0.7238241258222464, 0.13444580111246776)"
     },
     "execution_count": 40,
     "metadata": {},
     "output_type": "execute_result"
    }
   ],
   "source": [
    "results[\"train_metrics\"][\"f1\"], results[\"valid_metrics\"][\"f1\"]"
   ],
   "metadata": {
    "id": "Pd6sRSkEiUTt",
    "ExecuteTime": {
     "end_time": "2023-06-09T16:33:32.750684Z",
     "start_time": "2023-06-09T16:33:32.747994Z"
    }
   }
  },
  {
   "cell_type": "code",
   "execution_count": 41,
   "outputs": [
    {
     "data": {
      "text/plain": "(0.9565751613655805, 0.9079657251666138)"
     },
     "execution_count": 41,
     "metadata": {},
     "output_type": "execute_result"
    }
   ],
   "source": [
    "results[\"train_metrics\"][\"accuracy\"], results[\"valid_metrics\"][\"accuracy\"]"
   ],
   "metadata": {
    "collapsed": false,
    "ExecuteTime": {
     "end_time": "2023-06-09T16:33:32.755305Z",
     "start_time": "2023-06-09T16:33:32.751010Z"
    }
   }
  },
  {
   "cell_type": "markdown",
   "source": [
    "#### Classical ML on all data exclude target city"
   ],
   "metadata": {
    "collapsed": false,
    "id": "8nJsaiwriUTt"
   }
  },
  {
   "cell_type": "code",
   "execution_count": 42,
   "outputs": [],
   "source": [
    "data = [load_features(city, task=\"link_pred\", neg_sample_ratio=10) for city in all_cities]\n",
    "\n",
    "city_index = all_cities.index(target_city)\n",
    "train_split = data[:city_index] + data[city_index+1:]\n",
    "valid_split = data[city_index:city_index+1]"
   ],
   "metadata": {
    "id": "v_DGXu6tiUTt",
    "ExecuteTime": {
     "end_time": "2023-06-09T16:33:48.642299Z",
     "start_time": "2023-06-09T16:33:32.757159Z"
    }
   }
  },
  {
   "cell_type": "code",
   "execution_count": 43,
   "outputs": [],
   "source": [
    "# objective = create_objective_sklearn(train_split, valid_split, \"sum\", regression=False)\n",
    "# study = optuna.create_study(direction='maximize')\n",
    "# study.optimize(objective, n_trials=20)"
   ],
   "metadata": {
    "id": "iEiaF_uaiUTt",
    "ExecuteTime": {
     "end_time": "2023-06-09T16:33:48.647040Z",
     "start_time": "2023-06-09T16:33:48.642765Z"
    }
   }
  },
  {
   "cell_type": "code",
   "execution_count": 44,
   "outputs": [
    {
     "name": "stdout",
     "output_type": "stream",
     "text": [
      "Preparing data...\n",
      "Data prepared\n",
      "Training model...\n",
      "Model trained.\n",
      "Evaluation model...\n",
      "Model evaluated\n"
     ]
    }
   ],
   "source": [
    "model = xgb.XGBClassifier(**study.best_params)\n",
    "\n",
    "results = sklearn_train(\n",
    "    model,\n",
    "    train_split,\n",
    "    valid_split,\n",
    "    edge_aggr=\"sum\",\n",
    "    normalize_targets=False,  # Very important for link prediction\n",
    "    train_criterions=[\"accuracy\", \"f1\"],\n",
    "    valid_criterions=[\"accuracy\", \"f1\"],\n",
    ")"
   ],
   "metadata": {
    "id": "ndKtO2IUiUTt",
    "ExecuteTime": {
     "end_time": "2023-06-09T16:43:06.152466Z",
     "start_time": "2023-06-09T16:33:48.646635Z"
    }
   }
  },
  {
   "cell_type": "code",
   "execution_count": 45,
   "outputs": [
    {
     "data": {
      "text/plain": "(0.4443514410870233, 0.15486961149547632)"
     },
     "execution_count": 45,
     "metadata": {},
     "output_type": "execute_result"
    }
   ],
   "source": [
    "results[\"train_metrics\"][\"f1\"], results[\"valid_metrics\"][\"f1\"]"
   ],
   "metadata": {
    "id": "oO_FQDX9iUTt",
    "ExecuteTime": {
     "end_time": "2023-06-09T16:43:06.156476Z",
     "start_time": "2023-06-09T16:43:06.092573Z"
    }
   }
  },
  {
   "cell_type": "code",
   "execution_count": 46,
   "outputs": [
    {
     "data": {
      "text/plain": "(0.9308964835222032, 0.9083696373445659)"
     },
     "execution_count": 46,
     "metadata": {},
     "output_type": "execute_result"
    }
   ],
   "source": [
    "results[\"train_metrics\"][\"accuracy\"], results[\"valid_metrics\"][\"accuracy\"]"
   ],
   "metadata": {
    "id": "oHVMVHY6iUTt",
    "ExecuteTime": {
     "end_time": "2023-06-09T16:43:06.156622Z",
     "start_time": "2023-06-09T16:43:06.110984Z"
    }
   }
  },
  {
   "cell_type": "code",
   "execution_count": null,
   "outputs": [],
   "source": [],
   "metadata": {
    "collapsed": false
   }
  }
 ],
 "metadata": {
  "kernelspec": {
   "display_name": "Network_ML",
   "language": "python",
   "name": "network_ml"
  },
  "language_info": {
   "codemirror_mode": {
    "name": "ipython",
    "version": 3
   },
   "file_extension": ".py",
   "mimetype": "text/x-python",
   "name": "python",
   "nbconvert_exporter": "python",
   "pygments_lexer": "ipython3",
   "version": "3.9.16"
  },
  "orig_nbformat": 4,
  "colab": {
   "provenance": [],
   "collapsed_sections": [
    "xuPGBdNo-mtj",
    "6b1ktYr1-r6t",
    "mObSS9sjlCis",
    "2bk7RiatlOWV",
    "twt2b6jzfpka",
    "jl4koMW-d-rl",
    "2dSOcHN6vr6C",
    "5FtlY4h53Gu7",
    "GT_pcGPe8QUy"
   ],
   "machine_shape": "hm",
   "gpuType": "A100"
  },
  "accelerator": "GPU"
 },
 "nbformat": 4,
 "nbformat_minor": 0
}
