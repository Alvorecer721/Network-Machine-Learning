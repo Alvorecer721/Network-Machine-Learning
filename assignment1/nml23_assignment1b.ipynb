{
 "cells": [
  {
   "cell_type": "markdown",
   "metadata": {
    "colab_type": "text",
    "id": "view-in-github"
   },
   "source": [
    "<a href=\"https://colab.research.google.com/github/deschena/networks_ml_epfl/blob/main/nml23_assignment1b.ipynb\" target=\"_parent\"><img src=\"https://colab.research.google.com/assets/colab-badge.svg\" alt=\"Open In Colab\"/></a>"
   ]
  },
  {
   "cell_type": "markdown",
   "metadata": {
    "id": "8S5mo9I3pA2Q"
   },
   "source": [
    "# [NML23] Assignment 1B: Network Models\n",
    "\n",
    "TAs: [Ortal Senouf](https://people.epfl.ch/ortal.senouf) and [William Cappelletti](https://people.epfl.ch/william.cappelletti)"
   ]
  },
  {
   "cell_type": "markdown",
   "metadata": {
    "id": "5fKV_i9ZpA2U"
   },
   "source": [
    "## Students\n",
    "\n",
    "* Team: `1`\n",
    "* Students: `Yixuan Xu`, `Justin Deschenaux`"
   ]
  },
  {
   "cell_type": "markdown",
   "metadata": {
    "id": "aKj5_Hb1-tBm"
   },
   "source": [
    "## Rules\n",
    "\n",
    "> ⚠️ **Read carefully before starting**\n",
    "\n",
    "**Deadline:** March 28th\n",
    "\n",
    "**Grading:**\n",
    "* The integrality of Assignment 1 will be scaled to 100% and will amount to 25% of the overall assignments score.\n",
    "* The total number of points for part B is **52**, the points for each exercise are stated in the instructions.\n",
    "* All team members will receive the same grade based on the team solution.\n",
    "* Collaboration between team members is encouraged. No collaboration between teams is allowed.\n",
    "\n",
    "**Expected output:**\n",
    "\n",
    "You will have coding and theoretical questions. Coding exercises shall be solved within the specified space:\n",
    "```python\n",
    "# Your solution here ###########################################################\n",
    "...\n",
    "#^^^^^^^^^^^^^^^^^^^^^^^^^^^^^^^^^^^^^^^^^^^^^^^^^^^^^^^^^^^^^^^^^^^^^^^^^^^^^^^\n",
    "```\n",
    "Anything outside shall not be touched, except if otherwise stated.\n",
    "\n",
    "Theoretical questions shall be answered in the following markdown cell. The first line will be \n",
    "> **Your answer here:**\n",
    "\n",
    "**Submission:**\n",
    "* Your submission is self-contained in the `.ipynb` file.\n",
    "\n",
    "* Code has to be clean and readable. Provide meaningful variable names and comment where needed.\n",
    "\n",
    "* Textual answers in [markdown cells][md_cells] shall be short: one to two\n",
    "  sentences. Math shall be written in [LaTeX][md_latex].\n",
    "    **NOTE**: handwritten notes pasted in the notebook are ignored\n",
    "\n",
    "* You cannot import any other library than we imported.\n",
    "  Note that Networkx is imported in the second section and cannot be used in the first except for the Question 4 of Section 1 (at the indicated portion only).\n",
    "\n",
    "* Make sure all cells are executed before submitting. I.e., if you open the notebook again it should show numerical results and plots. Cells not run are ignored.\n",
    "\n",
    "* Execute your notebook from a blank state before submission, to make sure it is reproducible. You can click \"Kernel\" then \"Restart Kernel and Run All Cells\" in Jupyter. We might re-run cells to ensure that the code is working and corresponds to the results.\n",
    "\n",
    "[md_cells]: https://jupyter-notebook.readthedocs.io/en/stable/examples/Notebook/Working%20With%20Markdown%20Cells.html\n",
    "[md_latex]: https://jupyter-notebook.readthedocs.io/en/stable/examples/Notebook/Working%20With%20Markdown%20Cells.html#LaTeX-equations"
   ]
  },
  {
   "cell_type": "markdown",
   "metadata": {
    "id": "cmp4-YzspA2V"
   },
   "source": [
    "## Objective\n",
    "\n",
    "The purpose of this assignment is to explore a given dataset, represent it by network by constructing different graphs. In the first section, you analyzed various network properties. In this second section, you will explore various network models and find out the network model fitting the ones you construct from the dataset."
   ]
  },
  {
   "cell_type": "code",
   "execution_count": 1,
   "metadata": {
    "colab": {
     "base_uri": "https://localhost:8080/"
    },
    "id": "cve__kFpKJPB",
    "outputId": "af4fd85c-52ca-4ce3-aa56-6345fcfb0df4"
   },
   "outputs": [
    {
     "name": "stdout",
     "output_type": "stream",
     "text": [
      "--2023-03-28 12:45:04--  https://docs.google.com/uc?export=download&id=1Ze-vDx_cMr7iNkivv8LLhniEtp4RD1ug\n",
      "Resolving docs.google.com (docs.google.com)... 142.251.143.206\n",
      "Connecting to docs.google.com (docs.google.com)|142.251.143.206|:443... connected.\n",
      "HTTP request sent, awaiting response... 303 See Other\n",
      "Location: https://doc-14-9o-docs.googleusercontent.com/docs/securesc/ha0ro937gcuc7l7deffksulhg5h7mbp1/m0jfunf6u3l4d03i9gt8jldlu6ekmt4l/1680000300000/09510815484399706520/*/1Ze-vDx_cMr7iNkivv8LLhniEtp4RD1ug?e=download&uuid=720e4075-7aee-4585-a320-f5c0eb33c3f5 [following]\n",
      "Warning: wildcards not supported in HTTP.\n",
      "--2023-03-28 12:45:05--  https://doc-14-9o-docs.googleusercontent.com/docs/securesc/ha0ro937gcuc7l7deffksulhg5h7mbp1/m0jfunf6u3l4d03i9gt8jldlu6ekmt4l/1680000300000/09510815484399706520/*/1Ze-vDx_cMr7iNkivv8LLhniEtp4RD1ug?e=download&uuid=720e4075-7aee-4585-a320-f5c0eb33c3f5\n",
      "Resolving doc-14-9o-docs.googleusercontent.com (doc-14-9o-docs.googleusercontent.com)... 142.251.143.129\n",
      "Connecting to doc-14-9o-docs.googleusercontent.com (doc-14-9o-docs.googleusercontent.com)|142.251.143.129|:443... connected.\n",
      "HTTP request sent, awaiting response... 200 OK\n",
      "Length: 2795856 (2.7M) [application/octet-stream]\n",
      "Saving to: ‘data_1b.pickle’\n",
      "\n",
      "data_1b.pickle      100%[===================>]   2.67M  10.7MB/s    in 0.2s    \n",
      "\n",
      "2023-03-28 12:45:06 (10.7 MB/s) - ‘data_1b.pickle’ saved [2795856/2795856]\n",
      "\n"
     ]
    }
   ],
   "source": [
    "# !pip install networkx==3.0 -q\n",
    "!wget --no-check-certificate 'https://docs.google.com/uc?export=download&id=1Ze-vDx_cMr7iNkivv8LLhniEtp4RD1ug' -O data_1b.pickle"
   ]
  },
  {
   "cell_type": "code",
   "execution_count": 2,
   "metadata": {
    "id": "l1NdR_noi-Wv"
   },
   "outputs": [],
   "source": [
    "import pickle\n",
    "\n",
    "import matplotlib.pyplot as plt\n",
    "import numpy as np\n",
    "\n",
    "with open(\"data_1b.pickle\", \"rb\") as f:\n",
    "    data_1b = pickle.load(f)\n",
    "f.close()\n",
    "A_citation = data_1b['cit_graph']\n",
    "A_feature_pruned = data_1b['feat_graph']"
   ]
  },
  {
   "cell_type": "code",
   "execution_count": 3,
   "metadata": {
    "colab": {
     "base_uri": "https://localhost:8080/"
    },
    "id": "hV0cGnBTolKF",
    "outputId": "73a26341-55ca-43e3-bb80-7a7ccc133c87"
   },
   "outputs": [
    {
     "data": {
      "text/plain": [
       "True"
      ]
     },
     "execution_count": 3,
     "metadata": {},
     "output_type": "execute_result"
    }
   ],
   "source": [
    "np.array_equal(A_citation, A_citation.T)"
   ]
  },
  {
   "cell_type": "markdown",
   "metadata": {
    "id": "ypqiZkDqpA2j"
   },
   "source": [
    "## Section B: Network Models\n",
    "\n",
    "In this section, you will analyze the feature and citation graphs you constructed in the previous section in terms of the network model types.\n",
    "For this purpose, you can use the NetworkX libary imported below. **Notice** that the citation and features adjency matrices were given to you in the previous code block.  "
   ]
  },
  {
   "cell_type": "code",
   "execution_count": 4,
   "metadata": {
    "id": "JmopO_ynpA2k"
   },
   "outputs": [],
   "source": [
    "import networkx as nx\n",
    "import random\n",
    "\n",
    "# Reproducibility\n",
    "random.seed(42) # for networkx\n",
    "np.random.seed(42) # for numpy"
   ]
  },
  {
   "cell_type": "markdown",
   "metadata": {
    "id": "_S4Tfk9LpA2k"
   },
   "source": [
    "The next cell creates NetworkX graph objects from the adjacency matrices computed in the previous section. "
   ]
  },
  {
   "cell_type": "code",
   "execution_count": 5,
   "metadata": {
    "colab": {
     "base_uri": "https://localhost:8080/"
    },
    "id": "qEtZo52kpA2k",
    "outputId": "900eb318-bbe2-4f27-fb64-f2805b98282c"
   },
   "outputs": [
    {
     "name": "stdout",
     "output_type": "stream",
     "text": [
      "Number of nodes: 418, Number of edges: 827\n",
      "Number of self-loops: 0, Number of connected components: 16\n"
     ]
    }
   ],
   "source": [
    "G_citation = nx.from_numpy_array(A_citation)\n",
    "print('Number of nodes: {}, Number of edges: {}'. format(G_citation.number_of_nodes(), G_citation.number_of_edges()))\n",
    "print('Number of self-loops: {}, Number of connected components: {}'. format(nx.number_of_selfloops(G_citation), nx.number_connected_components(G_citation)))"
   ]
  },
  {
   "cell_type": "markdown",
   "metadata": {
    "id": "DLvCF7PupA2k"
   },
   "source": [
    "In the rest of this assignment, we will consider the pruned feature graph as the feature network."
   ]
  },
  {
   "cell_type": "code",
   "execution_count": 6,
   "metadata": {
    "colab": {
     "base_uri": "https://localhost:8080/"
    },
    "id": "otYyMSyrpA2k",
    "outputId": "f9fd64e4-95af-4305-b782-72db3e5c4c72"
   },
   "outputs": [
    {
     "name": "stdout",
     "output_type": "stream",
     "text": [
      "Number of nodes: 418, Number of edges: 2364\n",
      "Number of self-loops: 0, Number of connected components: 324\n"
     ]
    }
   ],
   "source": [
    "G_feature = nx.from_numpy_array(A_feature_pruned)\n",
    "print('Number of nodes: {}, Number of edges: {}'. format(G_feature.number_of_nodes(), G_feature.number_of_edges()))\n",
    "print('Number of self-loops: {}, Number of connected components: {}'. format(nx.number_of_selfloops(G_feature), nx.number_connected_components(G_feature)))"
   ]
  },
  {
   "cell_type": "markdown",
   "metadata": {
    "id": "5Q4SfbR5pA2k"
   },
   "source": [
    "### Question 5 [8pt]: Simulation with the Erdős–Rényi (ER) random model"
   ]
  },
  {
   "cell_type": "markdown",
   "metadata": {
    "id": "2u4zGEMrpA2k"
   },
   "source": [
    "Create an ER graph using NetworkX to simulate the citation graph and the feature graph you have. When choosing parameters for the networks, take into account the number of vertices and edges of the original networks.\n",
    "\n",
    "The number of nodes should exactly match the number of nodes in the original citation and feature graphs."
   ]
  },
  {
   "cell_type": "code",
   "execution_count": 7,
   "metadata": {
    "colab": {
     "base_uri": "https://localhost:8080/"
    },
    "id": "xJgO2LHYpA2k",
    "outputId": "5fff4b3b-6395-4bca-95e5-271d855d2bcd"
   },
   "outputs": [
    {
     "data": {
      "text/plain": [
       "418"
      ]
     },
     "execution_count": 7,
     "metadata": {},
     "output_type": "execute_result"
    }
   ],
   "source": [
    "assert len(G_citation.nodes()) == len(G_feature.nodes())\n",
    "n = len(G_citation.nodes())\n",
    "n"
   ]
  },
  {
   "cell_type": "markdown",
   "metadata": {
    "id": "t8YP2dyApA2k"
   },
   "source": [
    "We pick the number of links as the average of the number of edges in the citation and the feature graph."
   ]
  },
  {
   "cell_type": "code",
   "execution_count": 8,
   "metadata": {
    "colab": {
     "base_uri": "https://localhost:8080/"
    },
    "id": "iOp0dHljpA2k",
    "outputId": "33f6540d-8d5f-446f-f92e-f5f3b0259377"
   },
   "outputs": [
    {
     "data": {
      "text/plain": [
       "1596.0"
      ]
     },
     "execution_count": 8,
     "metadata": {},
     "output_type": "execute_result"
    }
   ],
   "source": [
    "m = np.round((G_citation.size() + G_feature.size()) / 2)\n",
    "m"
   ]
  },
  {
   "cell_type": "markdown",
   "metadata": {
    "id": "1cwoXtUZpA2k"
   },
   "source": [
    "**5.1 [2pt]** Explain how to determine the probability parameter for the Erdős–Rényi graph and crate a sample graph with NetworkX"
   ]
  },
  {
   "cell_type": "markdown",
   "metadata": {
    "id": "sn8cz-vLpA2l"
   },
   "source": [
    "**Your answer here:** Each edge in an Erdős–Rényi graph is sampled independently from the others with a probability $p$. Therefore, the expected number of edges is $\\frac{n(n - 1)p}{2}$. In order to obtain a similar number of edges as the original graph, we pick $p = \\frac{2 m}{n (n-1)}$"
   ]
  },
  {
   "cell_type": "code",
   "execution_count": 9,
   "metadata": {
    "id": "k8Bi6TJ1pA2l"
   },
   "outputs": [],
   "source": [
    "# Your solution here ###########################################################\n",
    "# n is already defined\n",
    "p = 2 * m / n / (n - 1)\n",
    "#^^^^^^^^^^^^^^^^^^^^^^^^^^^^^^^^^^^^^^^^^^^^^^^^^^^^^^^^^^^^^^^^^^^^^^^^^^^^^^^\n",
    "G_er = nx.erdos_renyi_graph(n, p, seed=1)"
   ]
  },
  {
   "cell_type": "markdown",
   "metadata": {
    "id": "BHdnG-B3pA2l"
   },
   "source": [
    "Check the number of edges in the Erdős–Rényi graph."
   ]
  },
  {
   "cell_type": "code",
   "execution_count": 10,
   "metadata": {
    "colab": {
     "base_uri": "https://localhost:8080/"
    },
    "id": "8Cqtu5RdpA2l",
    "outputId": "e7fdefed-307e-40c4-8cd0-67fd8ef28460"
   },
   "outputs": [
    {
     "name": "stdout",
     "output_type": "stream",
     "text": [
      "My Erdos-Rényi network that simulates the citation graph has 1634 edges.\n"
     ]
    }
   ],
   "source": [
    "print('My Erdos-Rényi network that simulates the citation graph has {} edges.'.format(G_er.size()))"
   ]
  },
  {
   "cell_type": "markdown",
   "metadata": {
    "id": "G-g_5krspA2l"
   },
   "source": [
    "**5.2 [2pt]** Check the size of the largest connected component in the citation, feature, and Erdős–Rényi graphs."
   ]
  },
  {
   "cell_type": "code",
   "execution_count": 11,
   "metadata": {
    "colab": {
     "base_uri": "https://localhost:8080/"
    },
    "id": "ofef85F8pA2l",
    "outputId": "e1ee7722-e373-451a-e955-d3c2baface61"
   },
   "outputs": [
    {
     "name": "stdout",
     "output_type": "stream",
     "text": [
      "The giant component of the citation graph has 395 nodes and 818 edges.\n",
      "The giant component of the Erdos-Rényi network has 417 nodes and 1634 edges.\n",
      "The giant component of the feature graph has 82 nodes and 2351 edges.\n"
     ]
    }
   ],
   "source": [
    "# Your solution here ###########################################################\n",
    "\n",
    "def extract_largest_cc(G):\n",
    "  '''Create a subgraph for the largest connected component'''\n",
    "  \n",
    "  largest_cc = max(nx.connected_components(G), key=len)\n",
    "  return G.subgraph(largest_cc)\n",
    "\n",
    "giant_citation = extract_largest_cc(G_citation)\n",
    "\n",
    "giant_feature = extract_largest_cc(G_feature)\n",
    "\n",
    "giant_er = extract_largest_cc(G_er)\n",
    "\n",
    "#^^^^^^^^^^^^^^^^^^^^^^^^^^^^^^^^^^^^^^^^^^^^^^^^^^^^^^^^^^^^^^^^^^^^^^^^^^^^^^^\n",
    "\n",
    "print('The giant component of the citation graph has {} nodes and {} edges.'.format(giant_citation.number_of_nodes(), giant_citation.size()))\n",
    "print('The giant component of the Erdos-Rényi network has {} nodes and {} edges.'.format(giant_er.number_of_nodes(), giant_er.size()))\n",
    "print('The giant component of the feature graph has {} nodes and {} edges.'.format(giant_feature.number_of_nodes(), giant_feature.size()))"
   ]
  },
  {
   "cell_type": "markdown",
   "metadata": {
    "id": "bmHH4qkQpA2m"
   },
   "source": [
    "**5.3 [2pt]** Simulate a new Erdős–Rényi network to match the number of nodes in the giant component of the feature graph.\n",
    "Explain how to choose the probability parameter in this setting.\n",
    "\n",
    "*Hint:* Recall the expected giant component size from the lectures."
   ]
  },
  {
   "attachments": {},
   "cell_type": "markdown",
   "metadata": {
    "id": "PdL0Bo4jpA2m"
   },
   "source": [
    "**Your answer here:** \n",
    "\n",
    "The size of the giant component of an Erdős–Rényi graph depends on the average degree of a node $\\langle k \\rangle = p (n - 1)$. We use the empirical graph to compute $\\langle k \\rangle$, needed to compute $p_\\mathrm{new}$. We want to generate a graph with a similar fraction of nodes in the giant component. Recalling that $S = 1 - e^{- \\langle k \\rangle S} \\Leftrightarrow \\langle k \\rangle = - \\frac{\\log(1 - S)}{S}$"
   ]
  },
  {
   "cell_type": "code",
   "execution_count": 12,
   "metadata": {
    "colab": {
     "base_uri": "https://localhost:8080/"
    },
    "id": "s-rhxehnpA2m",
    "outputId": "0805b68a-1aa2-430e-ad0c-e52047b6388f"
   },
   "outputs": [],
   "source": [
    "# Your solution here ###########################################################\n",
    "S_feature = giant_feature.number_of_nodes() / n\n",
    "n_new = n \n",
    "p_new = -np.log(1 - S_feature) / S_feature / (n - 1)\n",
    "#^^^^^^^^^^^^^^^^^^^^^^^^^^^^^^^^^^^^^^^^^^^^^^^^^^^^^^^^^^^^^^^^^^^^^^^^^^^^^^^\n",
    "\n",
    "G_er_new = nx.erdos_renyi_graph(n_new, p_new)"
   ]
  },
  {
   "cell_type": "markdown",
   "metadata": {
    "id": "FKGFC_gTpA2m"
   },
   "source": [
    "Check the size of the new Erdős–Rényi network and its giant component."
   ]
  },
  {
   "cell_type": "code",
   "execution_count": 13,
   "metadata": {
    "colab": {
     "base_uri": "https://localhost:8080/"
    },
    "id": "XyTfZXOXpA2m",
    "outputId": "a0d2651e-a784-4a49-ae38-147e6c8d2c04"
   },
   "outputs": [
    {
     "name": "stdout",
     "output_type": "stream",
     "text": [
      "My new Erdos Renyi network that simulates the feature graph has 222 edges.\n",
      "The giant component of the new Erdos-Rényi network has 105 nodes and 106 edges.\n"
     ]
    }
   ],
   "source": [
    "print('My new Erdos Renyi network that simulates the feature graph has {} edges.'.format(G_er_new.size()))\n",
    "\n",
    "giant_er_new = extract_largest_cc(G_er_new)\n",
    "# Print fraction of nodes in er graph giant component\n",
    "new_er_giant = extract_largest_cc(giant_er_new)\n",
    "print('The giant component of the new Erdos-Rényi network has {} nodes and {} edges.'.format(giant_er_new.number_of_nodes(), giant_er_new.size()))"
   ]
  },
  {
   "cell_type": "markdown",
   "metadata": {
    "id": "2wfJtI29mo9B"
   },
   "source": [
    "**5.4 [2 pt]** Is the new ER graph a good fit for the feature graph? Explain in terms of the size and density of the GC and overall graph. Remember that the feature graph in this section is a pruned version of the original dense graph.\n",
    " "
   ]
  },
  {
   "cell_type": "code",
   "execution_count": 14,
   "metadata": {},
   "outputs": [],
   "source": [
    "def compute_avg_degree(graph):\n",
    "    return np.mean([deg for _, deg in graph.degree])"
   ]
  },
  {
   "cell_type": "code",
   "execution_count": 15,
   "metadata": {
    "id": "yYQO6q9QBjz5"
   },
   "outputs": [],
   "source": [
    "def compute_graph_deg_var(graph):\n",
    "    return np.var([deg for _, deg in graph.degree])"
   ]
  },
  {
   "cell_type": "code",
   "execution_count": 16,
   "metadata": {
    "colab": {
     "base_uri": "https://localhost:8080/"
    },
    "id": "qRFlVEdHBjz5",
    "outputId": "af1d1178-7283-453e-c677-c223100d632d"
   },
   "outputs": [
    {
     "name": "stdout",
     "output_type": "stream",
     "text": [
      "### AVERAGE DEGREE / DENSITY ###\n",
      "Average degree of the new Erdos Renyi network that simulates the feature graph: 1.06\n",
      "Average degree feature graph: 11.31\n",
      "Average degree giant component of feature graph: 57.34\n",
      "---\n",
      "### DEGREE VARIANCE ###\n",
      "Degree variance of new ER net.: 1.19\n",
      "Degree variance of feature graph: 605.23\n",
      "Degree variance of GC in feature graph: 449.03\n",
      "---\n"
     ]
    }
   ],
   "source": [
    "print(\"### AVERAGE DEGREE / DENSITY ###\")\n",
    "print(f\"Average degree of the new Erdos Renyi network that simulates the feature graph: {compute_avg_degree(G_er_new) :.2f}\")\n",
    "print(f\"Average degree feature graph: {compute_avg_degree(G_feature):.2f}\")\n",
    "print(f\"Average degree giant component of feature graph: {compute_avg_degree(giant_feature):.2f}\")\n",
    "print(\"---\")\n",
    "print(\"### DEGREE VARIANCE ###\")\n",
    "print(f\"Degree variance of new ER net.: {compute_graph_deg_var(G_er_new):.2f}\")\n",
    "print(f\"Degree variance of feature graph: {compute_graph_deg_var(G_feature):.2f}\")\n",
    "print(f\"Degree variance of GC in feature graph: {compute_graph_deg_var(giant_feature):.2f}\")\n",
    "print(\"---\")\n"
   ]
  },
  {
   "attachments": {},
   "cell_type": "markdown",
   "metadata": {
    "id": "NoISgGS9Yen9"
   },
   "source": [
    "**Your answer here:** Despite having a similar average degree distribution as the giant component of the feature graph, the ER networks is not a good model of the giant component or the full feature graph itself. Indeed, both the GC and feature graph seem to have fat-tailed distribution (hinted by variance) while the ER distribution is more concentrated around the mean."
   ]
  },
  {
   "cell_type": "markdown",
   "metadata": {
    "id": "7WXWixudpA2m"
   },
   "source": [
    "### Question 6 [8pt]: Degree Distributions and configuration models"
   ]
  },
  {
   "cell_type": "markdown",
   "metadata": {
    "id": "XEgOCcIIpA2m"
   },
   "source": [
    "**6.1 [1pt]** Extract with NetworkX the degree distribution of the citation and the feature graph."
   ]
  },
  {
   "cell_type": "code",
   "execution_count": 17,
   "metadata": {
    "colab": {
     "base_uri": "https://localhost:8080/",
     "height": 390
    },
    "id": "kRfZklhepA2n",
    "outputId": "22dd6411-325c-410c-c93f-7c5c78f2af31"
   },
   "outputs": [
    {
     "data": {
      "image/png": "[encoded data removed]",
      "text/plain": [
       "<Figure size 1500x600 with 2 Axes>"
      ]
     },
     "metadata": {},
     "output_type": "display_data"
    }
   ],
   "source": [
    "# Your solution here ###########################################################\n",
    "citation_degrees = nx.degree_histogram(G_citation)\n",
    "\n",
    "feature_degrees = nx.degree_histogram(G_feature)\n",
    "# Note: the following plots should definitely use a logscale\n",
    "#^^^^^^^^^^^^^^^^^^^^^^^^^^^^^^^^^^^^^^^^^^^^^^^^^^^^^^^^^^^^^^^^^^^^^^^^^^^^^^^\n",
    "\n",
    "fig, axes = plt.subplots(1, 2, figsize=(15, 6))\n",
    "axes[0].set_title('Citation graph')\n",
    "axes[0].hist(citation_degrees);\n",
    "axes[1].set_title('Feature graph')\n",
    "axes[1].hist(feature_degrees);"
   ]
  },
  {
   "cell_type": "markdown",
   "metadata": {
    "id": "lpeoy65GpA2n"
   },
   "source": [
    "**6.2 [2pt]** Explain what the degree distribution tell us about a network. Then, discuss how to make a prediction on the network model type of the citation and the feature graph by looking at their degree distributions."
   ]
  },
  {
   "cell_type": "markdown",
   "metadata": {
    "id": "uaV76WGzpA2n"
   },
   "source": [
    "**Your answer here:** One can use the degree distribution to try to guess whether it is fat-tailed or exponentially decreasing. However, using lin-lin plots is not suited to make such a distinction visually. In case the distribution follows a power-law, we expect to see an affine relationship on a log-log plot, as $p_k = Ck^{-\\gamma} \\Leftrightarrow \\log(p_k) = - \\gamma \\log (k) + \\log(C)$"
   ]
  },
  {
   "cell_type": "markdown",
   "metadata": {
    "id": "jDYpjrhFpA2n"
   },
   "source": [
    "**6.3 [1pt]** Simulate a network using the configuration model to match the degree distribution of the feature exactly. Refer to [Configuration model](https://networkx.github.io/documentation/stable/reference/generated/networkx.generators.degree_seq.configuration_model.html#networkx.generators.degree_seq.configuration_model).\n"
   ]
  },
  {
   "cell_type": "code",
   "execution_count": 18,
   "metadata": {
    "colab": {
     "base_uri": "https://localhost:8080/"
    },
    "id": "FS_SUGS_pA2n",
    "outputId": "129f1f60-cce0-443d-900d-89fd1c9df7ce"
   },
   "outputs": [
    {
     "name": "stdout",
     "output_type": "stream",
     "text": [
      "Configuration model has 418 nodes and 2364 edges.\n",
      "Feature model has 418 nodes and 2364 edges.\n"
     ]
    }
   ],
   "source": [
    "# Your solution here ###########################################################\n",
    "degrees = [deg for _, deg in G_feature.degree()]\n",
    "G_config = nx.configuration_model(degrees)\n",
    "#^^^^^^^^^^^^^^^^^^^^^^^^^^^^^^^^^^^^^^^^^^^^^^^^^^^^^^^^^^^^^^^^^^^^^^^^^^^^^^^\n",
    "print('Configuration model has {} nodes and {} edges.'.format(G_config.number_of_nodes(), G_config.size()))\n",
    "print('Feature model has {} nodes and {} edges.'.format(G_feature.number_of_nodes(), G_feature.size()))"
   ]
  },
  {
   "cell_type": "markdown",
   "metadata": {
    "id": "q086WrWlpA2n"
   },
   "source": [
    "**6.4 [2pt]** Explain if the graph generated by the configuration model is identical to the feature graph. If not, motivate how to understand if they are not the same.\n",
    "\n",
    "In both case, verify your answer with a code."
   ]
  },
  {
   "cell_type": "markdown",
   "metadata": {
    "id": "TbpsBkzBpA2n"
   },
   "source": [
    "**Your answer here:** Both graphs share the same degree distribution, so all moments will be equal. However, this is not sufficient for two graphs to be isomorphic. For example, an hexagonal graph and two disconnected triangles share the same degree distribution.\n",
    "\n",
    "Similarly here, graphs are not isomorphic since the average shortest path distance in their largest component are different."
   ]
  },
  {
   "cell_type": "code",
   "execution_count": 19,
   "metadata": {
    "colab": {
     "base_uri": "https://localhost:8080/",
     "height": 465
    },
    "id": "neG--W1gJgos",
    "outputId": "da9049f9-1372-4419-f072-0260d6534425"
   },
   "outputs": [
    {
     "name": "stdout",
     "output_type": "stream",
     "text": [
      "Do the degree distributions match? Answer: True\n",
      "Average shortest path length of giant component of configuration model: 2.02\n",
      "Average shortest path length of giant component of feature graph: 1.30\n",
      "Hence, the original networks are different.\n"
     ]
    }
   ],
   "source": [
    "# Your solution here ###########################################################\n",
    "\n",
    "g_config_hist = nx.degree_histogram(G_config)\n",
    "g_feature_hist = nx.degree_histogram(G_feature)\n",
    "print(f\"Do the degree distributions match? Answer: {g_config_hist == g_feature_hist}\")\n",
    "\n",
    "giant_config = extract_largest_cc(G_config)\n",
    "\n",
    "average_dist_config_gc = nx.average_shortest_path_length(giant_config)\n",
    "average_dist_feature_gc = nx.average_shortest_path_length(giant_feature)\n",
    "\n",
    "print(f\"Average shortest path length of giant component of configuration model: {average_dist_config_gc:.2f}\")\n",
    "print(f\"Average shortest path length of giant component of feature graph: {average_dist_feature_gc:.2f}\")\n",
    "print(\"Hence, the original networks are different.\")\n",
    "#^^^^^^^^^^^^^^^^^^^^^^^^^^^^^^^^^^^^^^^^^^^^^^^^^^^^^^^^^^^^^^^^^^^^^^^^^^^^^^^"
   ]
  },
  {
   "cell_type": "markdown",
   "metadata": {
    "id": "jHAB38jptc4m"
   },
   "source": [
    "**6.5 [2pt]** Which alternative model would you choose to match the degree distribution of the original network while mainitaining some structural similarities? "
   ]
  },
  {
   "cell_type": "markdown",
   "metadata": {
    "id": "h7r4PQvCuLAI"
   },
   "source": [
    "**Your answer here:** The mean characteristics of graphs we investigated are degree distribution, size of the giant component, average degree and clustering coefficient. Our networks exhibit:\n",
    "* Power-law degree distribution\n",
    "* Super-critical regime regarding the fraction of nodes in the giant component and average degree\n",
    "* Decent/high clustering coefficient (see below)\n",
    "\n",
    "In order to maintain the degree distribution and preserve the scale-free property, we could use the hidden parameter model (lecture 4, slide 27)"
   ]
  },
  {
   "cell_type": "markdown",
   "metadata": {
    "id": "xWBVAfiFpA2n"
   },
   "source": [
    "### Question 7 [11pt]: Clustering Coefficient and Watts-Strogatz model"
   ]
  },
  {
   "cell_type": "markdown",
   "metadata": {
    "id": "zo5Xsa82pA2n"
   },
   "source": [
    "Let us check the average clustering coefficient of the original citation and feature graphs. "
   ]
  },
  {
   "cell_type": "code",
   "execution_count": 20,
   "metadata": {
    "colab": {
     "base_uri": "https://localhost:8080/"
    },
    "id": "G9fG1MVvpA2o",
    "outputId": "bf85d437-d8b4-47a3-d24e-f53a498702a9"
   },
   "outputs": [
    {
     "name": "stdout",
     "output_type": "stream",
     "text": [
      "Clustering coefficient of citation graph: 0.31318396750074196\n",
      "Clustering coefficient of feature graph: 0.17909022944594014\n"
     ]
    }
   ],
   "source": [
    "CC_cit = nx.average_clustering(G_citation)\n",
    "CC_feat = nx.average_clustering(G_feature)\n",
    "print(\"Clustering coefficient of citation graph:\", CC_cit)\n",
    "print(\"Clustering coefficient of feature graph:\", CC_feat)"
   ]
  },
  {
   "cell_type": "markdown",
   "metadata": {
    "id": "dH8aUu231OJ-"
   },
   "source": [
    "Let's compare it with the ER random network model:"
   ]
  },
  {
   "cell_type": "code",
   "execution_count": 21,
   "metadata": {
    "colab": {
     "base_uri": "https://localhost:8080/"
    },
    "id": "76qYRROf1UjP",
    "outputId": "8fe02c7b-5e6c-4153-fafb-1e8f4ecf1c73"
   },
   "outputs": [
    {
     "name": "stdout",
     "output_type": "stream",
     "text": [
      "Clustering coefficient of ER graph 0.01551828374583791\n"
     ]
    }
   ],
   "source": [
    "print(\"Clustering coefficient of ER graph\", nx.average_clustering(G_er))"
   ]
  },
  {
   "cell_type": "markdown",
   "metadata": {
    "id": "qSbqq7zkpA2o"
   },
   "source": [
    "**7.1 [2pt]** Explain what the clustering coefficient tell us about a network. Comment on how it compares to the random model."
   ]
  },
  {
   "cell_type": "markdown",
   "metadata": {},
   "source": [
    "**Your answer here:** The clustering coefficient defined as $C_i = \\frac{2 L_i}{k_i (k_i - 1)}$ measures for each node, how connected its direct neighbours are. For example, the clustering coefficient of 0.3132 of the citation graph means, on average, there is a 31.32% chance that two random papers connected to a given paper (either citing or being cited by the paper) will also be connected to each other, which is significantly higher than the random ER graph and suggests the citation graph is non-random. Similar observation can be made for the feature graph."
   ]
  },
  {
   "cell_type": "markdown",
   "metadata": {
    "id": "gpbTKCnvdi0y"
   },
   "source": [
    "**7.2 [2pt]** In order to model the relatively high cluster coefficient of the **citation** graph while still maintaining the \"small world\" feature you will now create a Watts-Strogatz (WS) graph to fit the citation graph. First, set the regularity parameter $k$ Explain your choice."
   ]
  },
  {
   "cell_type": "markdown",
   "metadata": {
    "id": "uGlBkQtEiF4P"
   },
   "source": [
    "**Your answer here:** The regularity parameter $k$ determines, in a regular ring lattice (the initial structure of the Watts-Strogatz (WS) graph, each node is connected to its $k$ neighbours. In this context, as we want the WS graph to fit to the citation graph, we set $k=\\langle k_{\\mathrm{citation}} \\rangle$ rounded to the nearest integer."
   ]
  },
  {
   "cell_type": "code",
   "execution_count": 22,
   "metadata": {
    "colab": {
     "base_uri": "https://localhost:8080/"
    },
    "id": "mssVCPfdl1V3",
    "outputId": "9bdf802b-cbbf-4b15-b0c4-72bae4a0b229"
   },
   "outputs": [
    {
     "data": {
      "text/plain": [
       "4"
      ]
     },
     "execution_count": 22,
     "metadata": {},
     "output_type": "execute_result"
    }
   ],
   "source": [
    "# Your solution here ###########################################################\n",
    "k_cit = round(compute_avg_degree(G_citation))\n",
    "k_cit\n",
    "#^^^^^^^^^^^^^^^^^^^^^^^^^^^^^^^^^^^^^^^^^^^^^^^^^^^^^^^^^^^^^^^^^^^^^^^^^^^^^^^"
   ]
  },
  {
   "cell_type": "markdown",
   "metadata": {
    "id": "wdbFSpSL9ILZ"
   },
   "source": [
    "**7.3 [3pt]** In order to select the optimal randomness parameter $p$ of the WS model we should monitor the clustering coefficient (CC) of the model with respect to $p$. Explain what other property should be monitored. Write a code that create WS networks with values of $p$ from $0$ to $1$ and plot the values of the CC and the other parameter with respect to p.\n",
    "\n",
    "*Note*: plot the x axis in decimal and logarithmic scale and scale the values of the properties by the value at $p=0$. Make sure to select enough points for $p$ in thr range $[0,1]$"
   ]
  },
  {
   "cell_type": "markdown",
   "metadata": {
    "id": "mYjh7Z0CDr46"
   },
   "source": [
    "**Your answer here:** We should also monitor the \"small world\" property by monitoring the average path length of the model with respect to 𝑝, as small average path length along with higher clustering coefficient indicates a \"small-world\" property."
   ]
  },
  {
   "cell_type": "markdown",
   "metadata": {
    "id": "SbUVQfxSK1PX"
   },
   "source": [
    "**7.4 [3pt]** Compute the values of the monitored properties of the real citation graph and scale them by the corresponding values of the WS models at $p=0$. Which $p$ whould you select? Explain and generate the model with the chosen parameters. \n",
    "\n",
    "*Hint*: Notice the connected components of citation graph for the computaion of the other property. "
   ]
  },
  {
   "cell_type": "code",
   "execution_count": 23,
   "metadata": {
    "colab": {
     "base_uri": "https://localhost:8080/",
     "height": 369
    },
    "id": "llual7BmVZdt",
    "outputId": "305b8e49-bb20-4612-8cb5-4b1dd5056adf"
   },
   "outputs": [
    {
     "data": {
      "image/png": "[encoded data removed]",
      "text/plain": [
       "<Figure size 1200x500 with 2 Axes>"
      ]
     },
     "metadata": {},
     "output_type": "display_data"
    }
   ],
   "source": [
    "# Your solution here ###########################################################\n",
    "\n",
    "p_values_log = np.logspace(-10, 0, 1000) # p values from 0 to 1 with log scale\n",
    "p_values = np.concatenate(([0], p_values_log)) # concat with p = 0 \n",
    "\n",
    "cc_values = []  # clustering coefficient values\n",
    "l_values = []  # average path length values\n",
    "\n",
    "# Generate WS networks and compute CC and L for each p value\n",
    "for p in p_values:\n",
    "    G = nx.watts_strogatz_graph(n, k_cit, p)\n",
    "    cc = nx.average_clustering(G)\n",
    "    l = nx.average_shortest_path_length(G)\n",
    "    cc_values.append(cc)\n",
    "    l_values.append(l)\n",
    "\n",
    "# Normalise CC and L values by the value at p=0\n",
    "cc_values = np.array(cc_values) / cc_values[0]\n",
    "l_values = np.array(l_values) / l_values[0]\n",
    "\n",
    "# Plot CC and L values with respect to p (decimal scale)\n",
    "plt.figure(figsize=(12, 5))\n",
    "plt.subplot(1, 2, 1)\n",
    "plt.plot(p_values, cc_values, label=\"Clustering Coefficient\")\n",
    "plt.plot(p_values, l_values, label=\"Average Path Length\")\n",
    "plt.xlabel(\"Randomness parameter (p)\")\n",
    "plt.ylabel(\"Normalised Values\")\n",
    "plt.title(\"WS Model with Varying Randomness (Decimal Scale)\")\n",
    "plt.legend()\n",
    "plt.grid()\n",
    "\n",
    "# Plot CC and L values with respect to p (logarithmic scale)\n",
    "plt.subplot(1, 2, 2)\n",
    "plt.plot(p_values, cc_values, label=\"Clustering Coefficient\")\n",
    "plt.plot(p_values, l_values, label=\"Average Path Length\")\n",
    "plt.xscale(\"log\")\n",
    "plt.xlabel(\"Randomness parameter (p)\")\n",
    "plt.ylabel(\"Normalised Values\")\n",
    "plt.title(\"WS Model with Varying Randomness (Logarithmic Scale)\")\n",
    "plt.legend()\n",
    "plt.grid()\n",
    "\n",
    "plt.tight_layout()\n",
    "plt.show()\n",
    "\n",
    "#^^^^^^^^^^^^^^^^^^^^^^^^^^^^^^^^^^^^^^^^^^^^^^^^^^^^^^^^^^^^^^^^^^^^^^^^^^^^^^^"
   ]
  },
  {
   "cell_type": "code",
   "execution_count": 24,
   "metadata": {
    "colab": {
     "base_uri": "https://localhost:8080/"
    },
    "id": "Ev9pfN65MEFK",
    "outputId": "615f283c-8c22-40d8-c812-fd6b63f10f42"
   },
   "outputs": [
    {
     "name": "stdout",
     "output_type": "stream",
     "text": [
      "Scaled Clustering Coefficient: 0.6476501185585324\n",
      "Scaled Average Path Length: 0.0714791438228339\n"
     ]
    }
   ],
   "source": [
    "# Your solution here ###########################################################\n",
    "\n",
    "# Extract the largest connected component\n",
    "largest_cc_citation = extract_largest_cc(G_citation)\n",
    "\n",
    "# Compute CC and L for the largest connected component\n",
    "cc_largest_cc_citation = nx.average_clustering(largest_cc_citation)\n",
    "l_largest_cc_citation = nx.average_shortest_path_length(largest_cc_citation)\n",
    "\n",
    "p_optimal = 10**(-1)\n",
    "\n",
    "# Create a WS graph with p=0 (regular lattice)\n",
    "n_largest_cc_citation = largest_cc_citation.number_of_nodes()\n",
    "k_largest_cc_citation = round(2 * largest_cc_citation.number_of_edges() / n_largest_cc_citation)\n",
    "G_ws0 = nx.watts_strogatz_graph(n_largest_cc_citation, k_largest_cc_citation, 0)\n",
    "\n",
    "# Compute CC and L for the WS graph at p=0\n",
    "cc_ws0 = nx.average_clustering(G_ws0)\n",
    "l_ws0 = nx.average_shortest_path_length(G_ws0)\n",
    "\n",
    "# Scale the largest connected component properties by the corresponding WS model properties at p=0\n",
    "scaled_cc_citation = cc_largest_cc_citation / cc_ws0\n",
    "scaled_l_citation = l_largest_cc_citation / l_ws0\n",
    "\n",
    "print(\"Scaled Clustering Coefficient:\", scaled_cc_citation)\n",
    "print(\"Scaled Average Path Length:\", scaled_l_citation)\n",
    "\n",
    "# Generate the WS model using the chosen parameters\n",
    "G_ws = nx.watts_strogatz_graph(n_largest_cc_citation, k_largest_cc_citation, p_optimal)\n",
    "#^^^^^^^^^^^^^^^^^^^^^^^^^^^^^^^^^^^^^^^^^^^^^^^^^^^^^^^^^^^^^^^^^^^^^^^^^^^^^^^"
   ]
  },
  {
   "cell_type": "markdown",
   "metadata": {
    "id": "kF9mQdQkkOYp"
   },
   "source": [
    "**Your answer here:** The chosen 𝑝-value is $10^{-1}$. By consulting the logarithmic scale plot, we select a 𝑝-value such that $p \\in (10^{-3}, 10^{-1}]$. In this interval, the clustering coefficient remains comparatively high (typical property of real networks), and the average path length declines quickly, exemplifying the \"small world\" property."
   ]
  },
  {
   "cell_type": "markdown",
   "metadata": {
    "id": "1SDApXpgmTld"
   },
   "source": [
    "**7.5 [1pt]** Explain whether the Watts-Strogatz model provides a good fit for the feature graph.\n",
    "\n",
    "*Hint*: Remember that the feature graph in this section is a pruned version. "
   ]
  },
  {
   "cell_type": "code",
   "execution_count": 25,
   "metadata": {
    "colab": {
     "base_uri": "https://localhost:8080/"
    },
    "id": "xydZ2knCVZdu",
    "outputId": "f352875e-705c-49c3-da94-1e244ea3bac7"
   },
   "outputs": [
    {
     "name": "stdout",
     "output_type": "stream",
     "text": [
      "Is WS graph connected? True\n",
      "---\n",
      "WS clustering coefficient: 0.36\n",
      "Feature graph clustering coefficient: 0.18\n",
      "Feature graph giant comp. clustering coefficient: 0.91\n",
      "---\n",
      "WS giant CC average path length: 7.02\n",
      "Feature graph average path is undefined as the graph is not connected\n",
      "Feature graph giant CC average path length: 1.30\n",
      "---\n"
     ]
    }
   ],
   "source": [
    "# Compute degree distribution moments 1 and 2 and compare with the feature graph:\n",
    "print(f\"Is WS graph connected? {nx.is_connected(G_ws)}\")\n",
    "print(\"---\")\n",
    "print(f\"WS clustering coefficient: {nx.average_clustering(G_ws):.2f}\")\n",
    "print(f\"Feature graph clustering coefficient: {nx.average_clustering(G_feature):.2f}\")\n",
    "print(f\"Feature graph giant comp. clustering coefficient: {nx.average_clustering(giant_feature):.2f}\")\n",
    "print(\"---\")\n",
    "print(f\"WS giant CC average path length: {nx.average_shortest_path_length(G_ws):.2f}\")\n",
    "print(f\"Feature graph average path is undefined as the graph is not connected\")\n",
    "print(f\"Feature graph giant CC average path length: {nx.average_shortest_path_length(giant_feature):.2f}\")\n",
    "print(\"---\")"
   ]
  },
  {
   "attachments": {},
   "cell_type": "markdown",
   "metadata": {
    "id": "11oaXUt7pxUU"
   },
   "source": [
    "**Your answer here:** The WS graph doesn't look like a good model of the feature graph. From the degree distribution (pruned feature graph) in Question 2.7, we can see it follows a power law distribution. However, the general WS model has exponentially decaying tails. \n",
    "\n",
    "Empirically, the clustering coefficient of the WS is too low, and the average path length of the giant component of the feature graph is way shorter, which might be the ultra-small property of some scale-free networks (degree exponent $2 < \\gamma < 3$)."
   ]
  },
  {
   "cell_type": "markdown",
   "metadata": {
    "id": "IldloL9GC_dp"
   },
   "source": [
    "### Question 8 [8pt]: Comparison to Barabási-Albert (BA) model"
   ]
  },
  {
   "cell_type": "markdown",
   "metadata": {
    "id": "K1AZ_mzApA2l"
   },
   "source": [
    "**8.1 [2pt]** Explain how to determine the preferential attachment parameter for Barabási–Albert graphs. Define $q$ and build the BA graph. "
   ]
  },
  {
   "cell_type": "markdown",
   "metadata": {
    "id": "0WHkOrSnpA2l"
   },
   "source": [
    "**Your answer here:** The preferential attachment parameter of node $i$ is the probability that a new node added to a BA network will be connected to node $i$. It is defined as $\\Pi\\left(k_i\\right)=\\frac{k_i}{\\sum_j k_j}$. "
   ]
  },
  {
   "cell_type": "code",
   "execution_count": 26,
   "metadata": {
    "colab": {
     "base_uri": "https://localhost:8080/"
    },
    "id": "bI-ZNkaTpA2l",
    "outputId": "55c77d73-db87-4118-facd-c137e0044566"
   },
   "outputs": [
    {
     "name": "stdout",
     "output_type": "stream",
     "text": [
      "4\n"
     ]
    }
   ],
   "source": [
    "# Your solution here ###########################################################\n",
    "# q is the number of edges to attach to a new node.\n",
    "q = round(compute_avg_degree(G_citation))\n",
    "print(q)\n",
    "#^^^^^^^^^^^^^^^^^^^^^^^^^^^^^^^^^^^^^^^^^^^^^^^^^^^^^^^^^^^^^^^^^^^^^^^^^^^^^^^\n",
    "G_ba = nx.barabasi_albert_graph(n, q)"
   ]
  },
  {
   "cell_type": "markdown",
   "metadata": {
    "id": "07jvDxU4pA2l"
   },
   "source": [
    "Check the number of edges in the Barabási–Albert graph."
   ]
  },
  {
   "cell_type": "code",
   "execution_count": 27,
   "metadata": {
    "colab": {
     "base_uri": "https://localhost:8080/"
    },
    "id": "t5y-GHNRpA2l",
    "outputId": "d9213d0a-2481-4c4b-f8b4-40b3b8edf832"
   },
   "outputs": [
    {
     "name": "stdout",
     "output_type": "stream",
     "text": [
      "My Barabási-Albert network that simulates the citation graph has 1656 edges.\n"
     ]
    }
   ],
   "source": [
    "print('My Barabási-Albert network that simulates the citation graph has {} edges.'.format(G_ba.size()))"
   ]
  },
  {
   "cell_type": "markdown",
   "metadata": {
    "id": "_i5LymqiUc8x"
   },
   "source": [
    "**8.2 [2pt]** Plot the degree distribution histograms for the simulated networks (ER, BA, Configuration, WS)."
   ]
  },
  {
   "cell_type": "code",
   "execution_count": 28,
   "metadata": {
    "colab": {
     "base_uri": "https://localhost:8080/",
     "height": 390
    },
    "id": "-mrO0_zFUc8x",
    "outputId": "fd53fa62-2c45-4004-ce39-332d82aa4923"
   },
   "outputs": [
    {
     "data": {
      "image/png": "[encoded data removed]",
      "text/plain": [
       "<Figure size 1500x600 with 4 Axes>"
      ]
     },
     "metadata": {},
     "output_type": "display_data"
    }
   ],
   "source": [
    "# Your solution here ###########################################################\n",
    "er_degrees = [deg for _, deg in G_er.degree()]\n",
    "ba_degrees = [deg for _, deg in G_ba.degree()]\n",
    "config_degrees = [deg for _, deg in G_config.degree()]\n",
    "ws_degrees = [deg for _, deg in G_ws.degree()]\n",
    "#^^^^^^^^^^^^^^^^^^^^^^^^^^^^^^^^^^^^^^^^^^^^^^^^^^^^^^^^^^^^^^^^^^^^^^^^^^^^^^^\n",
    "\n",
    "fig, axes = plt.subplots(2, 2, figsize=(15, 6))\n",
    "\n",
    "bins = np.arange(20)\n",
    "axes[0,0].set_title('Erdos-Rényi network')\n",
    "axes[0,0].hist(er_degrees, bins=bins)\n",
    "axes[0,1].set_title('Barabási-Albert network')\n",
    "axes[0,1].hist(ba_degrees, bins=bins)\n",
    "axes[1,0].set_title('Configuration model')\n",
    "axes[1,0].hist(config_degrees, bins=bins)\n",
    "axes[1,1].set_title('Watts-Strogatz model')\n",
    "axes[1,1].hist(ws_degrees, bins=bins)\n",
    "plt.show()"
   ]
  },
  {
   "cell_type": "markdown",
   "metadata": {
    "id": "GaSpQ7znUzOR"
   },
   "source": [
    "**8.3 [2pt]** Explain, in terms of the degree distribution, whether there is a good match between the citation and feature graphs and the simulated networks.\n",
    "For the citation graph, choose one of the simulated networks above that match its degree distribution best and indicate your preference below."
   ]
  },
  {
   "attachments": {},
   "cell_type": "markdown",
   "metadata": {
    "id": "56jSKLhYUzOR"
   },
   "source": [
    "**Your answer here:** As seen in part A, question 2.7, the citation and feature graphs follow a power law distribution.\n",
    "\n",
    " Therefore, the ER and WS models are bad fits because they are too light-tailed. \n",
    " \n",
    " The BA is better but has no density before degree 5, which is not representative of (scale-free) real networks. One solution would be to set $q = 1$ but in this case there would be as many edges as vertices, which is not representative of the real networks (they have 827 and 2364 edges with ~ 400 vertices).\n",
    " \n",
    " Finally, by construction, the configuration network fits perfectly the degree distribution of the feature network."
   ]
  },
  {
   "cell_type": "markdown",
   "metadata": {
    "id": "-kLiLm9kpA2o"
   },
   "source": [
    "Now, let us check the average clustering coefficient for the simulated networks."
   ]
  },
  {
   "cell_type": "code",
   "execution_count": 29,
   "metadata": {
    "id": "a3eyBdOzpA2o"
   },
   "outputs": [
    {
     "name": "stdout",
     "output_type": "stream",
     "text": [
      "Erdos-Renyi clustering coefficient: 0.01551828374583791\n",
      "Barabasi-Albert clustering coefficient: 0.0626665654356172\n",
      "Configuration model clustering coefficient: 0.1098284166168085\n",
      "Watts-Strogatz model clustering coefficient: 0.3614587100663048\n"
     ]
    }
   ],
   "source": [
    "print(\"Erdos-Renyi clustering coefficient:\", nx.average_clustering(G_er))\n",
    "print(\"Barabasi-Albert clustering coefficient:\", nx.average_clustering(G_ba))\n",
    "print(\"Configuration model clustering coefficient:\", nx.average_clustering(nx.Graph(G_config)))\n",
    "print(\"Watts-Strogatz model clustering coefficient:\", nx.average_clustering(G_ws))"
   ]
  },
  {
   "cell_type": "markdown",
   "metadata": {
    "id": "m3tQ2KllpA2o"
   },
   "source": [
    "**8.4 [2pt]** Comment on the values you obtain for the simulated networks. Motivate if there is any good match to the citation or feature graph in terms of clustering coefficient."
   ]
  },
  {
   "cell_type": "markdown",
   "metadata": {
    "id": "usIF1fXopA2o"
   },
   "source": [
    "**Your answer here:**\n",
    "* Citation graph clustering coefficient: 0.3132\n",
    "* Feature graph clustering coefficient: 0.1790\n",
    "\n",
    "As we can see the ER and BA networks are bad fits with regard to the clustering coefficient. The WS model is closest to the citation one and the configuration model to the feature graph, however the fit is far from perfect."
   ]
  },
  {
   "cell_type": "markdown",
   "metadata": {
    "id": "cak9n_eD4pSn"
   },
   "source": [
    "### Question 9 [13pt]: Network generating process\n",
    "\n",
    "In this question we will design a network formation model for the directed citation graph, considering it as a growth process."
   ]
  },
  {
   "cell_type": "markdown",
   "metadata": {
    "id": "DMFFZBDMjXjx"
   },
   "source": [
    "**9.1 [3pt]** Supposing that authors know all papers in their field at any time, how can we model their choice to cite each of them?"
   ]
  },
  {
   "attachments": {},
   "cell_type": "markdown",
   "metadata": {
    "id": "hVIir53Abcif"
   },
   "source": [
    "**Your answer here:** \n",
    "\n",
    "A particularly relevant model to generate such network is the *Copying model*. When publishing papers, researchers will usually reuse citations found in the litterature review of other relevant papers. The copying model simulates this effect by having new nodes copy edges from existing ones when added to the network.\n",
    "\n",
    "Assuming papers only cite other papers in the same research field, here's how we model their choices (hyperparameters are $m_0, m, \\sigma, p$):\n",
    "\n",
    "1. Begin with an network with $m_0$ nodes and $m_0$ arbitrary links.\n",
    "2. Add a new node: for each new paper (node) added to the network, it connects to $k \\sim \\mathcal{N}(m, \\sigma)$ existing papers (nodes).\n",
    "3. New edges: pick a random existing node $u$ and:\n",
    "    * With probability $p$, cite the target paper $u$.\n",
    "    * With probability $1-p$, copy a citation from $u$, meaning that the new paper will cite one $u$'s neighbours. Note that if the target node $u$ has no neighbours and we intended to copy one of its citation, we resample a different $u$ and carry on.\n",
    "5. Repeat: Continue adding new nodes (papers) and directed edges (citations) following steps 2-4 until the desired network size is reached.\n",
    "\n",
    "Finally, we tune the model hyperparameters so that the important properties of the simulated network match the ones of real ones (power-law shape, clustering coefficient, giant component size)."
   ]
  },
  {
   "cell_type": "markdown",
   "metadata": {
    "id": "3fGZNX85jKtq"
   },
   "source": [
    "**9.2 [5pt]** Define a function that takes as input the number of nodes $n$ and any other parameter you identified. This function iteratively grows a graph on $n$ nodes based on the formation model that you described in 9.1. You can add all additional arguments that you need."
   ]
  },
  {
   "cell_type": "code",
   "execution_count": 30,
   "metadata": {
    "id": "yNC2_MEnobSA"
   },
   "outputs": [
    {
     "name": "stdout",
     "output_type": "stream",
     "text": [
      "Num. of edges: 915.05 +/- 34.21\n",
      "Giant component size (number of nodes): 406.98 +/- 3.70\n",
      "Giant component size (number of edges): 915.03 +/- 34.20\n",
      "Average clustering coefficient: 0.32 +/- 0.06\n"
     ]
    }
   ],
   "source": [
    "# Your solution here ###########################################################\n",
    "def my_formation_model(n_nodes: int, m0: int, m: int, p: float, num_edges_std: float):\n",
    "\n",
    "    # Step 1: Create initial network - average in-degree & out-degree = m\n",
    "    initial_network = nx.gnm_random_graph(m0, m0, directed=True)\n",
    "\n",
    "     # Step 2: Add new nodes\n",
    "    for new_node in range(m0, n_nodes):\n",
    "\n",
    "        # Initialise the set of nodes to which the new node will be connected\n",
    "        connected_nodes = set()\n",
    "        \n",
    "        num_edges = np.random.normal(m, num_edges_std, size=1)\n",
    "        num_edges = max(0, int(num_edges))\n",
    "\n",
    "        # Step 3: Select target paper\n",
    "        for _ in range(num_edges):\n",
    "            target_node = np.random.choice(initial_network.nodes())\n",
    "\n",
    "            # Ensure that the new node does not connect to itself or duplicate an edge\n",
    "            while target_node == new_node or (new_node, target_node) in initial_network.edges():\n",
    "                target_node = np.random.choice(initial_network.nodes())\n",
    "\n",
    "            # Step 4: Copy or random citation\n",
    "            if np.random.rand() <= p:\n",
    "                # Random citation\n",
    "                target_node = target_node\n",
    "            else:\n",
    "                # Copy citation\n",
    "                target_neighbours = list(initial_network.neighbors(target_node))\n",
    "                # If the picked node has no neighbours, pick a new node\n",
    "                while not target_neighbours:\n",
    "                    target_node = np.random.choice(initial_network.nodes())\n",
    "                    target_neighbours = list(initial_network.neighbors(target_node))\n",
    "                \n",
    "                target_node = np.random.choice(target_neighbours)\n",
    "\n",
    "            connected_nodes.add(target_node)\n",
    "\n",
    "        # Add the new node and its edges to the network\n",
    "        initial_network.add_node(new_node)\n",
    "        initial_network.add_edges_from([(new_node, target) for target in connected_nodes])\n",
    "\n",
    "    return initial_network\n",
    "\n",
    "\n",
    "def eval_formation_model_statistics(\n",
    "        n_nodes: int, \n",
    "        m0: int,\n",
    "        m: int,\n",
    "        p: float,\n",
    "        num_edges_std: float,\n",
    "        n_experiments=100: int,\n",
    "        shortest_path=False: bool,\n",
    "    ):\n",
    "    \"\"\"\n",
    "    Evaluate the statistics of the custom formation model over n_experiments for more accurate results.\n",
    "    \"\"\"\n",
    "    models = [my_formation_model(n_nodes, m0, m, p, num_edges_std) for _ in range(n_experiments)]\n",
    "    models = [models.to_undirected() for models in models]\n",
    "\n",
    "    avg_num_edges = np.mean([model.number_of_edges() for model in models])\n",
    "    std_num_edges = np.std([model.number_of_edges() for model in models])\n",
    "\n",
    "    gcs = [extract_largest_cc(model) for model in models]\n",
    "\n",
    "    avg_gcs_num_nodes = np.mean([gc.number_of_nodes() for gc in gcs])\n",
    "    std_gcs_num_nodes = np.std([gc.number_of_nodes() for gc in gcs])\n",
    "\n",
    "    avg_gcs_num_edges = np.mean([gc.number_of_edges() for gc in gcs])\n",
    "    std_gcs_num_edges = np.std([gc.number_of_edges() for gc in gcs])\n",
    "\n",
    "    avg_clustering_coeff = np.mean([nx.average_clustering(model) for model in models])\n",
    "    std_clustering_coeff = np.std([nx.average_clustering(model) for model in models])\n",
    "\n",
    "    print(f\"Num. of edges: {avg_num_edges:.2f} +/- {std_num_edges:.2f}\")\n",
    "    print(f\"Giant component size (number of nodes): {avg_gcs_num_nodes:.2f} +/- {std_gcs_num_nodes:.2f}\")\n",
    "    print(f\"Giant component size (number of edges): {avg_gcs_num_edges:.2f} +/- {std_gcs_num_edges:.2f}\")\n",
    "    print(f\"Average clustering coefficient: {avg_clustering_coeff:.2f} +/- {std_clustering_coeff:.2f}\")\n",
    "    if shortest_path:\n",
    "        avg_shortest_path_length = np.mean([nx.average_shortest_path_length(model) for model in gcs])\n",
    "        std_shortest_path_length = np.std([nx.average_shortest_path_length(model) for model in gcs])\n",
    "        print(f\"Average shortest path length in giant component: {avg_shortest_path_length:.2f} +/- {std_shortest_path_length:.2f}\")\n",
    "\n",
    "\n",
    "m0 = 5 # initial number of nodes\n",
    "m = 3 # number of edges to attach to a new node\n",
    "p = 0.13 # p_test # probability of a random citation\n",
    "num_edges_std = 1.1\n",
    " \n",
    "A_mymodel = my_formation_model(A_citation.shape[0], m0, m, p, num_edges_std)\n",
    "eval_formation_model_statistics(A_citation.shape[0], m0, m, p, num_edges_std)\n",
    "#^^^^^^^^^^^^^^^^^^^^^^^^^^^^^^^^^^^^^^^^^^^^^^^^^^^^^^^^^^^^^^^^^^^^^^^^^^^^^^^\n"
   ]
  },
  {
   "cell_type": "markdown",
   "metadata": {
    "id": "elGVygOZug-0"
   },
   "source": [
    "**9.3 [1pt]** Check wether your graph is directed. If it is, make it undirected."
   ]
  },
  {
   "cell_type": "code",
   "execution_count": 31,
   "metadata": {
    "id": "gLVcf9PfuwkU"
   },
   "outputs": [
    {
     "name": "stdout",
     "output_type": "stream",
     "text": [
      "The graph is directed.\n",
      "The graph has been converted to an undirected graph.\n"
     ]
    }
   ],
   "source": [
    "# Your solution here ###########################################################\n",
    "\n",
    "if A_mymodel.is_directed():\n",
    "    print(\"The graph is directed.\")\n",
    "    \n",
    "    # Convert the directed graph to an undirected graph\n",
    "    A_mymodel = A_mymodel.to_undirected()\n",
    "    print(\"The graph has been converted to an undirected graph.\")\n",
    "else:\n",
    "    print(\"The graph is already undirected.\")\n",
    "#^^^^^^^^^^^^^^^^^^^^^^^^^^^^^^^^^^^^^^^^^^^^^^^^^^^^^^^^^^^^^^^^^^^^^^^^^^^^^^^"
   ]
  },
  {
   "cell_type": "markdown",
   "metadata": {
    "id": "xoiPypnWeTjb"
   },
   "source": [
    "**9.4 [2pt]** Compare the degree distributions of the citation graph and yours, then tune the paramters of your model to have a similar distribution."
   ]
  },
  {
   "cell_type": "code",
   "execution_count": 32,
   "metadata": {
    "id": "7O_FsodYe5eP"
   },
   "outputs": [
    {
     "data": {
      "image/png": "[encoded data removed]",
      "text/plain": [
       "<Figure size 1500x400 with 2 Axes>"
      ]
     },
     "metadata": {},
     "output_type": "display_data"
    }
   ],
   "source": [
    "# Your solution here ###########################################################\n",
    "degrees_citation = [deg for _, deg in G_citation.degree()]\n",
    "degrees_mymodel = [deg for _, deg in A_mymodel.degree()]\n",
    "y_max = 120\n",
    "#^^^^^^^^^^^^^^^^^^^^^^^^^^^^^^^^^^^^^^^^^^^^^^^^^^^^^^^^^^^^^^^^^^^^^^^^^^^^^^^\n",
    "# Note: we aligned the y axis limits so that they on the same scale, hence easier to compare\n",
    "fig, ax = plt.subplots(1, 2, figsize=(15, 4))\n",
    "\n",
    "ax[0].set(title=\"Out-degree citation\")\n",
    "ax[0].hist(degrees_citation, bins=np.arange(15), range=(0, y_max))\n",
    "ax[0].set_ylim(0, y_max)\n",
    "\n",
    "ax[1].set(title=\"Out-degree my_model\")\n",
    "ax[1].hist(degrees_mymodel, bins=np.arange(15))\n",
    "ax[1].set_ylim(0, y_max)\n",
    "\n",
    "plt.show()"
   ]
  },
  {
   "cell_type": "markdown",
   "metadata": {
    "id": "DGWM1sEGx3Sg"
   },
   "source": [
    "**9.5 [2pt]** Compute and print the following metrics:\n",
    "- Number of edges\n",
    "- Giant component size and number of edges\n",
    "- Clustering coefficient"
   ]
  },
  {
   "cell_type": "code",
   "execution_count": 33,
   "metadata": {},
   "outputs": [
    {
     "name": "stdout",
     "output_type": "stream",
     "text": [
      "Number of edges: 827\n",
      "Giant component size (number of nodes): 395\n",
      "Giant component size (number of edges): 818\n",
      "Average clustering coefficient: 0.31318396750074196\n"
     ]
    }
   ],
   "source": [
    "print(\"Number of edges:\", G_citation.number_of_edges())\n",
    "print(\"Giant component size (number of nodes):\", extract_largest_cc(G_citation).number_of_nodes())\n",
    "print(\"Giant component size (number of edges):\", extract_largest_cc(G_citation).number_of_edges())\n",
    "print(\"Average clustering coefficient:\", nx.average_clustering(G_citation))"
   ]
  },
  {
   "cell_type": "code",
   "execution_count": 34,
   "metadata": {
    "id": "1fBAnAybx2q2"
   },
   "outputs": [
    {
     "name": "stdout",
     "output_type": "stream",
     "text": [
      "Number of edges: 949\n",
      "Giant component size (number of nodes): 407\n",
      "Giant component size (number of edges): 949\n",
      "Average clustering coefficient: 0.3305790084680956\n"
     ]
    }
   ],
   "source": [
    "# Your solution here ###########################################################\n",
    "\n",
    "# Compute the number of edges\n",
    "print(\"Number of edges:\", A_mymodel.number_of_edges())\n",
    "\n",
    "# Compute the giant component size and number of edges\n",
    "print(\"Giant component size (number of nodes):\", extract_largest_cc(A_mymodel).number_of_nodes())\n",
    "print(\"Giant component size (number of edges):\", extract_largest_cc(A_mymodel).number_of_edges())\n",
    "\n",
    "# Compute the clustering coefficient\n",
    "print(\"Average clustering coefficient:\", nx.average_clustering(A_mymodel))\n",
    "\n",
    "#^^^^^^^^^^^^^^^^^^^^^^^^^^^^^^^^^^^^^^^^^^^^^^^^^^^^^^^^^^^^^^^^^^^^^^^^^^^^^^^\n"
   ]
  },
  {
   "cell_type": "markdown",
   "metadata": {
    "id": "TE6ARs-tauPh"
   },
   "source": [
    "### Question 10 [4pt]: Putting it all together\n",
    "\n",
    "It is time to identify the best models for our graphs."
   ]
  },
  {
   "cell_type": "markdown",
   "metadata": {
    "id": "w2LcelhLyFwg"
   },
   "source": [
    "**10.1 [4pt]** Compare the metrics computed across all models and discuss which models provide the best fit to our two graphs and which are their shortcomings. Note that the best model could be different for the citation and feture graphs."
   ]
  },
  {
   "attachments": {},
   "cell_type": "markdown",
   "metadata": {
    "id": "f6cNHNr7zRNA"
   },
   "source": [
    "**Your answer here:** To call a model a best fit for a real-world graph, one can compute various similarity measures. The most relevant seen so far are:\n",
    "* The degree distribution shape: exponentially decaying or heavy-tailed and visual similarity.\n",
    "* The average clustering coefficient: higher for real-world graphs than random ones.\n",
    "* Giant component: fraction of nodes inside / degree distribution.\n",
    "* The average distance between nodes of the graph (giant component if the graph is not connected), measure of the small-world / ultra small property.\n",
    "\n",
    "We already discussed some shortcoming earlier but we restate our main point here: \n",
    "* (From 1a + 1b Q 6.1) Degree distribution of both graphs look heavy-tailed.\n",
    "* Average clustering coefficient: WS closest to citation graph, configuration model to feature graph, but fit is far from perfect.\n",
    "* We looked at the GC degree distribution with an ER model, but as expected, the fit was bad as we expect the real network to be closer to a scale-free network than a random one.\n",
    "* The feature graph has smaller average shortest path length than WS with our parameters.\n",
    "\n",
    "To conclude, we think we found a formation model that can fit the citation graph pretty well. One thing that could be improved a bit is the average shortest path length, which is a bit higher\n",
    "\n",
    "However, it looks not suited for the feature graph. Our model cannot generate graphs whose giant component contains a very high number of edges but where most nodes have low degree (something like a very big hub that connects almost everyone). Indeed, we control the number of edges added at each step through the mean parameter $m$ only, hence the degree distribution and the number of edges are tightly coupled.\n",
    "\n",
    "We found that the configuration model is most suited even though the statistics are not perfect. We still think that the citation graph has a power-law degree distribution, but using a BA graph is not suited because:\n",
    "* Degree exponent: the degree distribution of the BA model has degree exponent $3$ (see networks science by Barabasi, section 5.5, equation 5.10), which looks not sufficient for the citation graph. As the decay look faster, we expect a power law with a larger degree exponent.\n",
    "* When picking $m$ (number of edges added at each step during formation), we cannot add nodes with lower degree, which is problematic here since most nodes have low degree. We found it difficult to create hubs with humongous degree while having most nodes with degree close to zero using the BA model\n",
    "\n",
    "Those two shortcomings comfort us in choosing the configuration model for the citation graph."
   ]
  },
  {
   "cell_type": "code",
   "execution_count": 35,
   "metadata": {},
   "outputs": [],
   "source": [
    "def summarize_graph(graph, degree_y_max=120):\n",
    "    if graph.is_directed():\n",
    "        graph = graph.to_undirected()\n",
    "    degrees = [deg for _, deg in graph.degree()]\n",
    "    num_edges = graph.number_of_edges()\n",
    "    gc = extract_largest_cc(graph)\n",
    "    num_nodes_gc = gc.number_of_nodes()\n",
    "    num_edges_gc = gc.number_of_edges()\n",
    "    avg_clustering_coeff = nx.average_clustering(graph)\n",
    "    average_shortest_path_length = nx.average_shortest_path_length(gc)\n",
    "\n",
    "    fig, ax = plt.subplots(1, 1, figsize=(7.5, 4))\n",
    "\n",
    "    ax.set(title=\"Out-degree\")\n",
    "    ax.hist(degrees, bins=np.arange(15), range=(0, degree_y_max))\n",
    "    ax.set_ylim(0, degree_y_max)\n",
    "    plt.show()\n",
    "\n",
    "    print(\"Number of edges:\", num_edges)\n",
    "    print(\"Giant component size (number of nodes):\", num_nodes_gc)\n",
    "    print(\"Giant component size (number of edges):\", num_edges_gc)\n",
    "    print(\"Average clustering coefficient:\", avg_clustering_coeff)\n",
    "    print(\"Average shortest path length in giant component:\", average_shortest_path_length)    "
   ]
  },
  {
   "cell_type": "code",
   "execution_count": 36,
   "metadata": {},
   "outputs": [
    {
     "name": "stdout",
     "output_type": "stream",
     "text": [
      "## CONFIGURATION MODEL STATISTICS ##\n"
     ]
    },
    {
     "data": {
      "image/png": "[encoded data removed]",
      "text/plain": [
       "<Figure size 750x400 with 1 Axes>"
      ]
     },
     "metadata": {},
     "output_type": "display_data"
    },
    {
     "name": "stdout",
     "output_type": "stream",
     "text": [
      "Number of edges: 1583\n",
      "Giant component size (number of nodes): 108\n",
      "Giant component size (number of edges): 1583\n",
      "Average clustering coefficient: 0.10885104272623403\n",
      "Average shortest path length in giant component: 2.0178262374524056\n"
     ]
    }
   ],
   "source": [
    "feature_mymodel = nx.configuration_model([deg for _, deg in G_feature.degree()])\n",
    "feature_mymodel = nx.Graph(feature_mymodel)  # Transform the multigraph to a simple graph\n",
    "print(\"## CONFIGURATION MODEL STATISTICS ##\")\n",
    "summarize_graph(feature_mymodel)\n",
    "#^^^^^^^^^^^^^^^^^^^^^^^^^^^^^^^^^^^^^^^^^^^^^^^^^^^^^^^^^^^^^^^^^^^^^^^^^^^^^^^\n"
   ]
  },
  {
   "cell_type": "code",
   "execution_count": 37,
   "metadata": {},
   "outputs": [
    {
     "name": "stdout",
     "output_type": "stream",
     "text": [
      "## FEATURE GRAPH STATISTICS ##\n"
     ]
    },
    {
     "data": {
      "image/png": "[encoded data removed]",
      "text/plain": [
       "<Figure size 750x400 with 1 Axes>"
      ]
     },
     "metadata": {},
     "output_type": "display_data"
    },
    {
     "name": "stdout",
     "output_type": "stream",
     "text": [
      "Number of edges: 2364\n",
      "Giant component size (number of nodes): 82\n",
      "Giant component size (number of edges): 2351\n",
      "Average clustering coefficient: 0.17909022944594014\n",
      "Average shortest path length in giant component: 1.302318578741343\n"
     ]
    }
   ],
   "source": [
    "print(\"## FEATURE GRAPH STATISTICS ##\")\n",
    "summarize_graph(G_feature)"
   ]
  },
  {
   "cell_type": "code",
   "execution_count": 38,
   "metadata": {},
   "outputs": [
    {
     "name": "stdout",
     "output_type": "stream",
     "text": [
      "## CITATION GRAPH STATISTICS ##\n"
     ]
    },
    {
     "data": {
      "image/png": "[encoded data removed]",
      "text/plain": [
       "<Figure size 750x400 with 1 Axes>"
      ]
     },
     "metadata": {},
     "output_type": "display_data"
    },
    {
     "name": "stdout",
     "output_type": "stream",
     "text": [
      "Number of edges: 827\n",
      "Giant component size (number of nodes): 395\n",
      "Giant component size (number of edges): 818\n",
      "Average clustering coefficient: 0.31318396750074196\n",
      "Average shortest path length in giant component: 3.556178114759365\n"
     ]
    }
   ],
   "source": [
    "print(\"## CITATION GRAPH STATISTICS ##\")\n",
    "summarize_graph(G_citation)"
   ]
  },
  {
   "cell_type": "code",
   "execution_count": 39,
   "metadata": {},
   "outputs": [
    {
     "name": "stdout",
     "output_type": "stream",
     "text": [
      "## CUSTOM CITATION MODEL STATISTICS ##\n"
     ]
    },
    {
     "data": {
      "image/png": "[encoded data removed]",
      "text/plain": [
       "<Figure size 750x400 with 1 Axes>"
      ]
     },
     "metadata": {},
     "output_type": "display_data"
    },
    {
     "name": "stdout",
     "output_type": "stream",
     "text": [
      "Number of edges: 949\n",
      "Giant component size (number of nodes): 407\n",
      "Giant component size (number of edges): 949\n",
      "Average clustering coefficient: 0.3305790084680956\n",
      "Average shortest path length in giant component: 2.500441776303845\n"
     ]
    }
   ],
   "source": [
    "print(\"## CUSTOM CITATION MODEL STATISTICS ##\")\n",
    "summarize_graph(A_mymodel)"
   ]
  }
 ],
 "metadata": {
  "colab": {
   "include_colab_link": true,
   "provenance": []
  },
  "kernelspec": {
   "display_name": "Python 3 (ipykernel)",
   "language": "python",
   "name": "python3"
  },
  "language_info": {
   "codemirror_mode": {
    "name": "ipython",
    "version": 3
   },
   "file_extension": ".py",
   "mimetype": "text/x-python",
   "name": "python",
   "nbconvert_exporter": "python",
   "pygments_lexer": "ipython3",
   "version": "3.9.16"
  }
 },
 "nbformat": 4,
 "nbformat_minor": 4
}
